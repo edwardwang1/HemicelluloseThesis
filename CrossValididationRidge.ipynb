{
 "cells": [
  {
   "cell_type": "code",
   "execution_count": 6,
   "metadata": {
    "ExecuteTime": {
     "end_time": "2019-03-13T05:53:12.590582Z",
     "start_time": "2019-03-13T05:53:12.519155Z"
    }
   },
   "outputs": [],
   "source": [
    "from openpyxl import Workbook\n",
    "from openpyxl import load_workbook\n",
    "import os\n",
    "import pandas as pd\n",
    "import numpy as np\n",
    "import matplotlib.pyplot as plt\n",
    "import math\n",
    "from sklearn.model_selection import train_test_split\n",
    "from sklearn.preprocessing import StandardScaler\n",
    "from sklearn import metrics\n",
    "import statsmodels.api as sm\n",
    "from sklearn import metrics\n",
    "from random import shuffle\n",
    "from sklearn.linear_model import Ridge"
   ]
  },
  {
   "cell_type": "code",
   "execution_count": 13,
   "metadata": {
    "ExecuteTime": {
     "end_time": "2019-03-13T06:17:32.715381Z",
     "start_time": "2019-03-13T06:06:40.637567Z"
    }
   },
   "outputs": [
    {
     "name": "stdout",
     "output_type": "stream",
     "text": [
      "I\n"
     ]
    },
    {
     "name": "stderr",
     "output_type": "stream",
     "text": [
      "C:\\Anaconda3\\lib\\site-packages\\sklearn\\linear_model\\ridge.py:125: LinAlgWarning: Ill-conditioned matrix (rcond=9.04209e-17): result may not be accurate.\n",
      "  overwrite_a=True).T\n",
      "C:\\Anaconda3\\lib\\site-packages\\sklearn\\linear_model\\ridge.py:125: LinAlgWarning: Ill-conditioned matrix (rcond=3.88983e-17): result may not be accurate.\n",
      "  overwrite_a=True).T\n",
      "C:\\Anaconda3\\lib\\site-packages\\sklearn\\linear_model\\ridge.py:125: LinAlgWarning: Ill-conditioned matrix (rcond=1.99945e-17): result may not be accurate.\n",
      "  overwrite_a=True).T\n",
      "C:\\Anaconda3\\lib\\site-packages\\sklearn\\linear_model\\ridge.py:125: LinAlgWarning: Ill-conditioned matrix (rcond=4.47567e-17): result may not be accurate.\n",
      "  overwrite_a=True).T\n"
     ]
    },
    {
     "name": "stdout",
     "output_type": "stream",
     "text": [
      "Best alpha is:  100\n",
      "J\n"
     ]
    },
    {
     "name": "stderr",
     "output_type": "stream",
     "text": [
      "C:\\Anaconda3\\lib\\site-packages\\sklearn\\linear_model\\ridge.py:125: LinAlgWarning: Ill-conditioned matrix (rcond=3.72061e-17): result may not be accurate.\n",
      "  overwrite_a=True).T\n",
      "C:\\Anaconda3\\lib\\site-packages\\sklearn\\linear_model\\ridge.py:125: LinAlgWarning: Ill-conditioned matrix (rcond=3.83738e-17): result may not be accurate.\n",
      "  overwrite_a=True).T\n",
      "C:\\Anaconda3\\lib\\site-packages\\sklearn\\linear_model\\ridge.py:125: LinAlgWarning: Ill-conditioned matrix (rcond=1.61471e-17): result may not be accurate.\n",
      "  overwrite_a=True).T\n",
      "C:\\Anaconda3\\lib\\site-packages\\sklearn\\linear_model\\ridge.py:125: LinAlgWarning: Ill-conditioned matrix (rcond=5.29784e-17): result may not be accurate.\n",
      "  overwrite_a=True).T\n",
      "C:\\Anaconda3\\lib\\site-packages\\sklearn\\linear_model\\ridge.py:125: LinAlgWarning: Ill-conditioned matrix (rcond=4.61139e-17): result may not be accurate.\n",
      "  overwrite_a=True).T\n"
     ]
    },
    {
     "name": "stdout",
     "output_type": "stream",
     "text": [
      "Best alpha is:  100\n",
      "G\n"
     ]
    },
    {
     "name": "stderr",
     "output_type": "stream",
     "text": [
      "C:\\Anaconda3\\lib\\site-packages\\sklearn\\linear_model\\ridge.py:125: LinAlgWarning: Ill-conditioned matrix (rcond=2.5327e-17): result may not be accurate.\n",
      "  overwrite_a=True).T\n",
      "C:\\Anaconda3\\lib\\site-packages\\sklearn\\linear_model\\ridge.py:125: LinAlgWarning: Ill-conditioned matrix (rcond=8.44284e-18): result may not be accurate.\n",
      "  overwrite_a=True).T\n",
      "C:\\Anaconda3\\lib\\site-packages\\sklearn\\linear_model\\ridge.py:125: LinAlgWarning: Ill-conditioned matrix (rcond=4.43582e-17): result may not be accurate.\n",
      "  overwrite_a=True).T\n",
      "C:\\Anaconda3\\lib\\site-packages\\sklearn\\linear_model\\ridge.py:125: LinAlgWarning: Ill-conditioned matrix (rcond=4.45872e-17): result may not be accurate.\n",
      "  overwrite_a=True).T\n",
      "C:\\Anaconda3\\lib\\site-packages\\sklearn\\linear_model\\ridge.py:125: LinAlgWarning: Ill-conditioned matrix (rcond=5.44958e-17): result may not be accurate.\n",
      "  overwrite_a=True).T\n"
     ]
    },
    {
     "name": "stdout",
     "output_type": "stream",
     "text": [
      "Best alpha is:  100\n",
      "O\n"
     ]
    },
    {
     "name": "stderr",
     "output_type": "stream",
     "text": [
      "C:\\Anaconda3\\lib\\site-packages\\sklearn\\linear_model\\ridge.py:125: LinAlgWarning: Ill-conditioned matrix (rcond=5.12394e-17): result may not be accurate.\n",
      "  overwrite_a=True).T\n",
      "C:\\Anaconda3\\lib\\site-packages\\sklearn\\linear_model\\ridge.py:125: LinAlgWarning: Ill-conditioned matrix (rcond=3.66703e-17): result may not be accurate.\n",
      "  overwrite_a=True).T\n",
      "C:\\Anaconda3\\lib\\site-packages\\sklearn\\linear_model\\ridge.py:125: LinAlgWarning: Ill-conditioned matrix (rcond=1.20597e-17): result may not be accurate.\n",
      "  overwrite_a=True).T\n",
      "C:\\Anaconda3\\lib\\site-packages\\sklearn\\linear_model\\ridge.py:125: LinAlgWarning: Ill-conditioned matrix (rcond=5.32533e-17): result may not be accurate.\n",
      "  overwrite_a=True).T\n",
      "C:\\Anaconda3\\lib\\site-packages\\sklearn\\linear_model\\ridge.py:125: LinAlgWarning: Ill-conditioned matrix (rcond=2.73355e-17): result may not be accurate.\n",
      "  overwrite_a=True).T\n"
     ]
    },
    {
     "name": "stdout",
     "output_type": "stream",
     "text": [
      "Best alpha is:  100\n",
      "K\n"
     ]
    },
    {
     "name": "stderr",
     "output_type": "stream",
     "text": [
      "C:\\Anaconda3\\lib\\site-packages\\sklearn\\linear_model\\ridge.py:125: LinAlgWarning: Ill-conditioned matrix (rcond=2.98721e-17): result may not be accurate.\n",
      "  overwrite_a=True).T\n",
      "C:\\Anaconda3\\lib\\site-packages\\sklearn\\linear_model\\ridge.py:125: LinAlgWarning: Ill-conditioned matrix (rcond=9.04209e-17): result may not be accurate.\n",
      "  overwrite_a=True).T\n",
      "C:\\Anaconda3\\lib\\site-packages\\sklearn\\linear_model\\ridge.py:125: LinAlgWarning: Ill-conditioned matrix (rcond=2.6233e-17): result may not be accurate.\n",
      "  overwrite_a=True).T\n"
     ]
    },
    {
     "name": "stdout",
     "output_type": "stream",
     "text": [
      "Best alpha is:  100\n",
      "E\n"
     ]
    },
    {
     "name": "stderr",
     "output_type": "stream",
     "text": [
      "C:\\Anaconda3\\lib\\site-packages\\sklearn\\linear_model\\ridge.py:125: LinAlgWarning: Ill-conditioned matrix (rcond=2.5327e-17): result may not be accurate.\n",
      "  overwrite_a=True).T\n",
      "C:\\Anaconda3\\lib\\site-packages\\sklearn\\linear_model\\ridge.py:125: LinAlgWarning: Ill-conditioned matrix (rcond=7.59389e-17): result may not be accurate.\n",
      "  overwrite_a=True).T\n",
      "C:\\Anaconda3\\lib\\site-packages\\sklearn\\linear_model\\ridge.py:125: LinAlgWarning: Ill-conditioned matrix (rcond=3.65487e-17): result may not be accurate.\n",
      "  overwrite_a=True).T\n"
     ]
    },
    {
     "name": "stdout",
     "output_type": "stream",
     "text": [
      "Best alpha is:  100\n",
      "H\n"
     ]
    },
    {
     "name": "stderr",
     "output_type": "stream",
     "text": [
      "C:\\Anaconda3\\lib\\site-packages\\sklearn\\linear_model\\ridge.py:125: LinAlgWarning: Ill-conditioned matrix (rcond=1.32369e-17): result may not be accurate.\n",
      "  overwrite_a=True).T\n",
      "C:\\Anaconda3\\lib\\site-packages\\sklearn\\linear_model\\ridge.py:125: LinAlgWarning: Ill-conditioned matrix (rcond=3.46846e-18): result may not be accurate.\n",
      "  overwrite_a=True).T\n",
      "C:\\Anaconda3\\lib\\site-packages\\sklearn\\linear_model\\ridge.py:125: LinAlgWarning: Ill-conditioned matrix (rcond=1.20597e-17): result may not be accurate.\n",
      "  overwrite_a=True).T\n"
     ]
    },
    {
     "name": "stdout",
     "output_type": "stream",
     "text": [
      "Best alpha is:  100\n",
      "M\n"
     ]
    },
    {
     "name": "stderr",
     "output_type": "stream",
     "text": [
      "C:\\Anaconda3\\lib\\site-packages\\sklearn\\linear_model\\ridge.py:125: LinAlgWarning: Ill-conditioned matrix (rcond=9.55584e-18): result may not be accurate.\n",
      "  overwrite_a=True).T\n",
      "C:\\Anaconda3\\lib\\site-packages\\sklearn\\linear_model\\ridge.py:125: LinAlgWarning: Ill-conditioned matrix (rcond=4.82905e-17): result may not be accurate.\n",
      "  overwrite_a=True).T\n",
      "C:\\Anaconda3\\lib\\site-packages\\sklearn\\linear_model\\ridge.py:125: LinAlgWarning: Ill-conditioned matrix (rcond=4.53183e-17): result may not be accurate.\n",
      "  overwrite_a=True).T\n",
      "C:\\Anaconda3\\lib\\site-packages\\sklearn\\linear_model\\ridge.py:125: LinAlgWarning: Ill-conditioned matrix (rcond=3.41324e-17): result may not be accurate.\n",
      "  overwrite_a=True).T\n"
     ]
    },
    {
     "name": "stdout",
     "output_type": "stream",
     "text": [
      "Best alpha is:  100\n",
      "L\n"
     ]
    },
    {
     "name": "stderr",
     "output_type": "stream",
     "text": [
      "C:\\Anaconda3\\lib\\site-packages\\sklearn\\linear_model\\ridge.py:125: LinAlgWarning: Ill-conditioned matrix (rcond=4.537e-17): result may not be accurate.\n",
      "  overwrite_a=True).T\n",
      "C:\\Anaconda3\\lib\\site-packages\\sklearn\\linear_model\\ridge.py:125: LinAlgWarning: Ill-conditioned matrix (rcond=1.85085e-17): result may not be accurate.\n",
      "  overwrite_a=True).T\n",
      "C:\\Anaconda3\\lib\\site-packages\\sklearn\\linear_model\\ridge.py:125: LinAlgWarning: Ill-conditioned matrix (rcond=3.33353e-17): result may not be accurate.\n",
      "  overwrite_a=True).T\n",
      "C:\\Anaconda3\\lib\\site-packages\\sklearn\\linear_model\\ridge.py:125: LinAlgWarning: Ill-conditioned matrix (rcond=1.6165e-17): result may not be accurate.\n",
      "  overwrite_a=True).T\n",
      "C:\\Anaconda3\\lib\\site-packages\\sklearn\\linear_model\\ridge.py:125: LinAlgWarning: Ill-conditioned matrix (rcond=1.20597e-17): result may not be accurate.\n",
      "  overwrite_a=True).T\n",
      "C:\\Anaconda3\\lib\\site-packages\\sklearn\\linear_model\\ridge.py:125: LinAlgWarning: Ill-conditioned matrix (rcond=1.08056e-17): result may not be accurate.\n",
      "  overwrite_a=True).T\n"
     ]
    },
    {
     "name": "stdout",
     "output_type": "stream",
     "text": [
      "Best alpha is:  100\n",
      "A\n"
     ]
    },
    {
     "name": "stderr",
     "output_type": "stream",
     "text": [
      "C:\\Anaconda3\\lib\\site-packages\\sklearn\\linear_model\\ridge.py:125: LinAlgWarning: Ill-conditioned matrix (rcond=2.80652e-17): result may not be accurate.\n",
      "  overwrite_a=True).T\n",
      "C:\\Anaconda3\\lib\\site-packages\\sklearn\\linear_model\\ridge.py:125: LinAlgWarning: Ill-conditioned matrix (rcond=4.58777e-17): result may not be accurate.\n",
      "  overwrite_a=True).T\n",
      "C:\\Anaconda3\\lib\\site-packages\\sklearn\\linear_model\\ridge.py:125: LinAlgWarning: Ill-conditioned matrix (rcond=7.06451e-18): result may not be accurate.\n",
      "  overwrite_a=True).T\n"
     ]
    },
    {
     "name": "stdout",
     "output_type": "stream",
     "text": [
      "Best alpha is:  100\n",
      "N\n"
     ]
    },
    {
     "name": "stderr",
     "output_type": "stream",
     "text": [
      "C:\\Anaconda3\\lib\\site-packages\\sklearn\\linear_model\\ridge.py:125: LinAlgWarning: Ill-conditioned matrix (rcond=2.5327e-17): result may not be accurate.\n",
      "  overwrite_a=True).T\n",
      "C:\\Anaconda3\\lib\\site-packages\\sklearn\\linear_model\\ridge.py:125: LinAlgWarning: Ill-conditioned matrix (rcond=1.58736e-17): result may not be accurate.\n",
      "  overwrite_a=True).T\n",
      "C:\\Anaconda3\\lib\\site-packages\\sklearn\\linear_model\\ridge.py:125: LinAlgWarning: Ill-conditioned matrix (rcond=1.01635e-16): result may not be accurate.\n",
      "  overwrite_a=True).T\n",
      "C:\\Anaconda3\\lib\\site-packages\\sklearn\\linear_model\\ridge.py:125: LinAlgWarning: Ill-conditioned matrix (rcond=2.81149e-17): result may not be accurate.\n",
      "  overwrite_a=True).T\n",
      "C:\\Anaconda3\\lib\\site-packages\\sklearn\\linear_model\\ridge.py:125: LinAlgWarning: Ill-conditioned matrix (rcond=8.18929e-18): result may not be accurate.\n",
      "  overwrite_a=True).T\n"
     ]
    },
    {
     "name": "stdout",
     "output_type": "stream",
     "text": [
      "Best alpha is:  100\n"
     ]
    },
    {
     "data": {
      "image/png": "[encoded data removed]",
      "text/plain": [
       "<Figure size 432x288 with 1 Axes>"
      ]
     },
     "metadata": {
      "needs_background": "light"
     },
     "output_type": "display_data"
    }
   ],
   "source": [
    "data = pd.read_csv(\"data.csv\")\n",
    "data = data.sample(frac=1).reset_index(drop=True)\n",
    "pd.options.mode.chained_assignment = None\n",
    "\n",
    "\n",
    "XLabels = ['TotalT','Temp','LSR','CA','Size', 'Moisture', 'IsoT', 'HeatT', 'Ramp','F_X', 'Ro', 'logRo', 'P']\n",
    "X = data[XLabels]\n",
    "#Scaling X\n",
    "sc = StandardScaler()\n",
    "X = sc.fit_transform(X)\n",
    "data[XLabels] = X\n",
    "\n",
    "papers = data['ID'].unique()\n",
    "shuffle(papers)\n",
    "\n",
    "#Remvoing papers from test list if they have less  than 10 points\n",
    "papersWithLessThanXPoints = []\n",
    "for paper in papers:\n",
    "    dataFromPaper = data[data['ID'] == paper]\n",
    "    if len(dataFromPaper.index) < 10:\n",
    "        papersWithLessThanXPoints.append(paper)\n",
    "papers = [x for x in papers if x not in papersWithLessThanXPoints]\n",
    "\n",
    "numPapers = len(papers)\n",
    "papersPerGroup = 2\n",
    "numBins = 10\n",
    "\n",
    "error_Frame = pd.DataFrame(columns=['ID', 'NN'])\n",
    "          \n",
    "numEpoch = 200\n",
    "\n",
    "for paper in papers:\n",
    "    print(paper)\n",
    "    #Simple Linear Regr\n",
    "    train_Frame = data[data['ID'] != paper]\n",
    "    test_Frame = data[data['ID'] == paper]\n",
    "    \n",
    "    papers = train_Frame['ID'].unique()\n",
    "    \n",
    "    \n",
    "    numPapers = len(papers)\n",
    "    #combos = [papers[x:x + papersPerGroup] for x in range(0, len(papers), papersPerGroup)]  \n",
    "    combos = []\n",
    "    for x in range(0, len(papers), papersPerGroup):\n",
    "        if x + papersPerGroup < len(papers):\n",
    "            combos.append(papers[x:x + papersPerGroup])\n",
    "        else:\n",
    "            combos.append(papers[x:])\n",
    "\n",
    "    lenTrain = len(train_Frame.index)\n",
    "    train_Frame, valid_Frame, train_valid_Frame = train_Frame.iloc[:int(lenTrain * 0.8), :], train_Frame.iloc[int(lenTrain * 0.8):, :], train_Frame\n",
    "\n",
    "    #Calculating Sample Weight\n",
    "    bins = train_Frame['Yield'].value_counts(bins=numBins)\n",
    "    for i in train_Frame.index:\n",
    "        for j in bins.index:\n",
    "            if int(train_Frame.at[i, 'Yield']) in j:\n",
    "                train_Frame.at[i, 'Sample_Weight'] = 100/bins[j].item()\n",
    "\n",
    "            \n",
    "    bins = train_valid_Frame['Yield'].value_counts(bins=numBins)\n",
    "\n",
    "    for i in train_valid_Frame.index:\n",
    "        for j in bins.index:\n",
    "            if int(train_valid_Frame.at[i, 'Yield']) in j:\n",
    "                train_valid_Frame.at[i, 'Sample_Weight'] = 100/bins[j].item()\n",
    "    \n",
    "    y_train, y_valid, y_test, y_train_valid = train_Frame['Yield'], valid_Frame['Yield'], test_Frame['Yield'], train_valid_Frame['Yield']\n",
    "    X_train, X_valid, X_test, X_train_valid = train_Frame[XLabels], valid_Frame[XLabels], test_Frame[XLabels], train_valid_Frame[XLabels]\n",
    "\n",
    "    train_weights = train_Frame['Sample_Weight']\n",
    "    train_valid_weights = train_valid_Frame['Sample_Weight']\n",
    "    \n",
    "    \n",
    "    #Ridge ------\n",
    "    \n",
    "    alphas = [0, 0.001, 0.005, 0.01, 0.05, 0.1, 0.5, 1, 5, 10, 100]\n",
    "    \n",
    "    errors = []\n",
    "    \n",
    "    for a in alphas:\n",
    "        sumErrors = 0\n",
    "        for c in combos:\n",
    "            train_Frame = train_valid_Frame[~train_valid_Frame['ID'].isin(c)]\n",
    "            valid_Frame = train_valid_Frame[train_valid_Frame['ID'].isin(c)]\n",
    "\n",
    "            ##Calculating Sample Weight again just for train frame, because it's different\n",
    "            bins = train_Frame['Yield'].value_counts(bins=numBins)\n",
    "\n",
    "            for i in train_Frame.index:\n",
    "                for j in bins.index:\n",
    "                    if int(train_Frame.at[i, 'Yield']) in j:\n",
    "                        train_Frame.at[i, 'Sample_Weight'] = 100/bins[j].item()\n",
    "\n",
    "            y_train, y_valid, y_test, y_train_valid = train_Frame['Yield'], valid_Frame['Yield'], test_Frame['Yield'], train_valid_Frame['Yield']\n",
    "            X_train, X_valid, X_test, X_train_valid = train_Frame[XLabels], valid_Frame[XLabels], test_Frame[XLabels], train_valid_Frame[XLabels]\n",
    "\n",
    "            train_weights = train_Frame['Sample_Weight']\n",
    "            \n",
    "\n",
    "            ridgeModel = Ridge(alpha=a)\n",
    "            ridgeModel.fit(X_train, y_train, sample_weight=train_weights) \n",
    "            y_pred = ridgeModel.predict(X_valid)\n",
    "            error =  metrics.mean_absolute_error(y_valid, y_pred)\n",
    "            sumErrors = sumErrors + error\n",
    "        \n",
    "        errors.append(sumErrors)\n",
    "        \n",
    "    best_alpha = alphas[np.argmin(errors)]\n",
    "    print(\"Best alpha is: \", best_alpha)\n",
    "    ridgeModel = Ridge(alpha=best_alpha)\n",
    "    ridgeModel.fit(X_train_valid, y_train_valid, sample_weight=train_valid_weights) \n",
    "    y_pred = ridgeModel.predict(X_test)\n",
    "    mseRidge =  metrics.mean_absolute_error(y_test, y_pred)  \n",
    "\n",
    "    row = [[paper, mseRidge]]\n",
    "    tempDf = pd.DataFrame(row, columns=['ID', 'NN'])\n",
    "    error_Frame = pd.concat([error_Frame, tempDf], ignore_index=True)\n",
    "    error_Frame.index = error_Frame['ID'].values\n",
    "    error_Frame = error_Frame.sort_index()\n",
    "    error_Frame.to_csv(\"CrossValidRidge.csv\")\n",
    "\n",
    "\n",
    "    \n",
    "error_Frame.reset_index()\n",
    "error_Frame.index = error_Frame['ID'].values\n",
    "error_Frame = error_Frame.sort_index()\n",
    "\n",
    "\n",
    "error_Frame.plot(kind='bar', stacked=False)\n",
    "error_Frame.to_csv(\"CrossValidRidge.csv\")\n",
    "\n",
    "plt.ylabel('Mean Absolute Error (Yield %)')\n",
    "plt.title(\"Accuracy of Models\")\n",
    "plt.savefig(\"CrossValidRidge.png\", dpi=600, bbox_inches='tight')\n",
    "\n"
   ]
  },
  {
   "cell_type": "code",
   "execution_count": 1,
   "metadata": {
    "ExecuteTime": {
     "end_time": "2019-03-13T04:36:42.002997Z",
     "start_time": "2019-03-13T04:36:41.990735Z"
    }
   },
   "outputs": [
    {
     "name": "stdout",
     "output_type": "stream",
     "text": [
      "0\n",
      "1\n",
      "2\n",
      "3\n",
      "4\n",
      "5\n",
      "6\n",
      "7\n",
      "8\n",
      "9\n",
      "10\n",
      "11\n",
      "12\n"
     ]
    }
   ],
   "source": [
    "for x in range(0, 13, 1):\n",
    "    print(x)"
   ]
  },
  {
   "cell_type": "code",
   "execution_count": null,
   "metadata": {},
   "outputs": [],
   "source": []
  }
 ],
 "metadata": {
  "kernelspec": {
   "display_name": "Python 3",
   "language": "python",
   "name": "python3"
  },
  "language_info": {
   "codemirror_mode": {
    "name": "ipython",
    "version": 3
   },
   "file_extension": ".py",
   "mimetype": "text/x-python",
   "name": "python",
   "nbconvert_exporter": "python",
   "pygments_lexer": "ipython3",
   "version": "3.6.6"
  }
 },
 "nbformat": 4,
 "nbformat_minor": 2
}
