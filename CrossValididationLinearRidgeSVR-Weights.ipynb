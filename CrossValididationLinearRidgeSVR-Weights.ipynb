{
 "cells": [
  {
   "cell_type": "code",
   "execution_count": 3,
   "metadata": {
    "ExecuteTime": {
     "end_time": "2019-03-13T04:09:57.862727Z",
     "start_time": "2019-03-13T04:09:57.853104Z"
    }
   },
   "outputs": [],
   "source": [
    "from openpyxl import Workbook\n",
    "from openpyxl import load_workbook\n",
    "import os\n",
    "import pandas as pd\n",
    "import numpy as np\n",
    "import matplotlib.pyplot as plt\n",
    "import math\n",
    "from sklearn.model_selection import train_test_split\n",
    "from sklearn.preprocessing import StandardScaler\n",
    "from sklearn.svm import SVR\n",
    "from sklearn.linear_model import Ridge\n",
    "from sklearn import metrics\n",
    "from sklearn import linear_model\n",
    "import statsmodels.api as sm\n",
    "from sklearn import metrics\n",
    "from random import shuffle"
   ]
  },
  {
   "cell_type": "code",
   "execution_count": 14,
   "metadata": {
    "ExecuteTime": {
     "end_time": "2019-03-13T06:50:19.571853Z",
     "start_time": "2019-03-13T04:55:29.992654Z"
    },
    "scrolled": false
   },
   "outputs": [
    {
     "name": "stdout",
     "output_type": "stream",
     "text": [
      "O\n"
     ]
    },
    {
     "name": "stderr",
     "output_type": "stream",
     "text": [
      "C:\\Anaconda3\\lib\\site-packages\\sklearn\\linear_model\\ridge.py:125: LinAlgWarning: Ill-conditioned matrix (rcond=8.17691e-17): result may not be accurate.\n",
      "  overwrite_a=True).T\n",
      "C:\\Anaconda3\\lib\\site-packages\\sklearn\\linear_model\\ridge.py:125: LinAlgWarning: Ill-conditioned matrix (rcond=5.57446e-17): result may not be accurate.\n",
      "  overwrite_a=True).T\n",
      "C:\\Anaconda3\\lib\\site-packages\\sklearn\\linear_model\\ridge.py:125: LinAlgWarning: Ill-conditioned matrix (rcond=4.45049e-17): result may not be accurate.\n",
      "  overwrite_a=True).T\n"
     ]
    },
    {
     "name": "stdout",
     "output_type": "stream",
     "text": [
      "Best alpha is:  100\n",
      "Best kernel is:  linear\n",
      "Best Epsilon is:  5\n",
      "Best C is:  1\n",
      "Best Gamma is:  auto\n",
      "Error in valid: 146.87233707069586\n",
      "I\n"
     ]
    },
    {
     "name": "stderr",
     "output_type": "stream",
     "text": [
      "C:\\Anaconda3\\lib\\site-packages\\sklearn\\linear_model\\ridge.py:125: LinAlgWarning: Ill-conditioned matrix (rcond=5.35654e-17): result may not be accurate.\n",
      "  overwrite_a=True).T\n",
      "C:\\Anaconda3\\lib\\site-packages\\sklearn\\linear_model\\ridge.py:125: LinAlgWarning: Ill-conditioned matrix (rcond=2.53945e-17): result may not be accurate.\n",
      "  overwrite_a=True).T\n",
      "C:\\Anaconda3\\lib\\site-packages\\sklearn\\linear_model\\ridge.py:125: LinAlgWarning: Ill-conditioned matrix (rcond=8.228e-17): result may not be accurate.\n",
      "  overwrite_a=True).T\n"
     ]
    },
    {
     "name": "stdout",
     "output_type": "stream",
     "text": [
      "Best alpha is:  100\n",
      "Best kernel is:  linear\n",
      "Best Epsilon is:  0.1\n",
      "Best C is:  0.1\n",
      "Best Gamma is:  auto\n",
      "Error in valid: 149.38327378322853\n",
      "G\n"
     ]
    },
    {
     "name": "stderr",
     "output_type": "stream",
     "text": [
      "C:\\Anaconda3\\lib\\site-packages\\sklearn\\linear_model\\ridge.py:125: LinAlgWarning: Ill-conditioned matrix (rcond=1.04364e-17): result may not be accurate.\n",
      "  overwrite_a=True).T\n",
      "C:\\Anaconda3\\lib\\site-packages\\sklearn\\linear_model\\ridge.py:125: LinAlgWarning: Ill-conditioned matrix (rcond=3.10051e-17): result may not be accurate.\n",
      "  overwrite_a=True).T\n",
      "C:\\Anaconda3\\lib\\site-packages\\sklearn\\linear_model\\ridge.py:125: LinAlgWarning: Ill-conditioned matrix (rcond=8.89812e-18): result may not be accurate.\n",
      "  overwrite_a=True).T\n",
      "C:\\Anaconda3\\lib\\site-packages\\sklearn\\linear_model\\ridge.py:125: LinAlgWarning: Ill-conditioned matrix (rcond=1.18763e-17): result may not be accurate.\n",
      "  overwrite_a=True).T\n",
      "C:\\Anaconda3\\lib\\site-packages\\sklearn\\linear_model\\ridge.py:125: LinAlgWarning: Ill-conditioned matrix (rcond=1.29887e-17): result may not be accurate.\n",
      "  overwrite_a=True).T\n"
     ]
    },
    {
     "name": "stdout",
     "output_type": "stream",
     "text": [
      "Best alpha is:  100\n",
      "Best kernel is:  linear\n",
      "Best Epsilon is:  0.1\n",
      "Best C is:  0.1\n",
      "Best Gamma is:  auto\n",
      "Error in valid: 142.94348493272207\n",
      "E\n"
     ]
    },
    {
     "name": "stderr",
     "output_type": "stream",
     "text": [
      "C:\\Anaconda3\\lib\\site-packages\\sklearn\\linear_model\\ridge.py:125: LinAlgWarning: Ill-conditioned matrix (rcond=2.82231e-17): result may not be accurate.\n",
      "  overwrite_a=True).T\n",
      "C:\\Anaconda3\\lib\\site-packages\\sklearn\\linear_model\\ridge.py:125: LinAlgWarning: Ill-conditioned matrix (rcond=9.57915e-18): result may not be accurate.\n",
      "  overwrite_a=True).T\n",
      "C:\\Anaconda3\\lib\\site-packages\\sklearn\\linear_model\\ridge.py:125: LinAlgWarning: Ill-conditioned matrix (rcond=1.41869e-17): result may not be accurate.\n",
      "  overwrite_a=True).T\n",
      "C:\\Anaconda3\\lib\\site-packages\\sklearn\\linear_model\\ridge.py:125: LinAlgWarning: Ill-conditioned matrix (rcond=2.387e-17): result may not be accurate.\n",
      "  overwrite_a=True).T\n",
      "C:\\Anaconda3\\lib\\site-packages\\sklearn\\linear_model\\ridge.py:125: LinAlgWarning: Ill-conditioned matrix (rcond=7.67631e-17): result may not be accurate.\n",
      "  overwrite_a=True).T\n",
      "C:\\Anaconda3\\lib\\site-packages\\sklearn\\linear_model\\ridge.py:125: LinAlgWarning: Ill-conditioned matrix (rcond=6.34439e-18): result may not be accurate.\n",
      "  overwrite_a=True).T\n"
     ]
    },
    {
     "name": "stdout",
     "output_type": "stream",
     "text": [
      "Best alpha is:  100\n",
      "Best kernel is:  rbf\n",
      "Best Epsilon is:  0.1\n",
      "Best C is:  20\n",
      "Best Gamma is:  auto\n",
      "Error in valid: 132.69662578220914\n",
      "K\n"
     ]
    },
    {
     "name": "stderr",
     "output_type": "stream",
     "text": [
      "C:\\Anaconda3\\lib\\site-packages\\sklearn\\linear_model\\ridge.py:125: LinAlgWarning: Ill-conditioned matrix (rcond=2.39642e-19): result may not be accurate.\n",
      "  overwrite_a=True).T\n",
      "C:\\Anaconda3\\lib\\site-packages\\sklearn\\linear_model\\ridge.py:125: LinAlgWarning: Ill-conditioned matrix (rcond=5.01676e-17): result may not be accurate.\n",
      "  overwrite_a=True).T\n",
      "C:\\Anaconda3\\lib\\site-packages\\sklearn\\linear_model\\ridge.py:125: LinAlgWarning: Ill-conditioned matrix (rcond=4.76422e-18): result may not be accurate.\n",
      "  overwrite_a=True).T\n",
      "C:\\Anaconda3\\lib\\site-packages\\sklearn\\linear_model\\ridge.py:125: LinAlgWarning: Ill-conditioned matrix (rcond=4.61218e-19): result may not be accurate.\n",
      "  overwrite_a=True).T\n",
      "C:\\Anaconda3\\lib\\site-packages\\sklearn\\linear_model\\ridge.py:125: LinAlgWarning: Ill-conditioned matrix (rcond=7.44952e-17): result may not be accurate.\n",
      "  overwrite_a=True).T\n"
     ]
    },
    {
     "name": "stdout",
     "output_type": "stream",
     "text": [
      "Best alpha is:  100\n",
      "Best kernel is:  linear\n",
      "Best Epsilon is:  5\n",
      "Best C is:  0.1\n",
      "Best Gamma is:  auto\n",
      "Error in valid: 147.81055194034874\n",
      "A\n"
     ]
    },
    {
     "name": "stderr",
     "output_type": "stream",
     "text": [
      "C:\\Anaconda3\\lib\\site-packages\\sklearn\\linear_model\\ridge.py:125: LinAlgWarning: Ill-conditioned matrix (rcond=4.10022e-17): result may not be accurate.\n",
      "  overwrite_a=True).T\n",
      "C:\\Anaconda3\\lib\\site-packages\\sklearn\\linear_model\\ridge.py:125: LinAlgWarning: Ill-conditioned matrix (rcond=6.07439e-17): result may not be accurate.\n",
      "  overwrite_a=True).T\n",
      "C:\\Anaconda3\\lib\\site-packages\\sklearn\\linear_model\\ridge.py:125: LinAlgWarning: Ill-conditioned matrix (rcond=1.18763e-17): result may not be accurate.\n",
      "  overwrite_a=True).T\n",
      "C:\\Anaconda3\\lib\\site-packages\\sklearn\\linear_model\\ridge.py:125: LinAlgWarning: Ill-conditioned matrix (rcond=7.44952e-17): result may not be accurate.\n",
      "  overwrite_a=True).T\n"
     ]
    },
    {
     "name": "stdout",
     "output_type": "stream",
     "text": [
      "Best alpha is:  100\n",
      "Best kernel is:  linear\n",
      "Best Epsilon is:  0.1\n",
      "Best C is:  0.1\n",
      "Best Gamma is:  auto\n",
      "Error in valid: 150.7193366045546\n",
      "H\n"
     ]
    },
    {
     "name": "stderr",
     "output_type": "stream",
     "text": [
      "C:\\Anaconda3\\lib\\site-packages\\sklearn\\linear_model\\ridge.py:125: LinAlgWarning: Ill-conditioned matrix (rcond=8.24071e-18): result may not be accurate.\n",
      "  overwrite_a=True).T\n",
      "C:\\Anaconda3\\lib\\site-packages\\sklearn\\linear_model\\ridge.py:125: LinAlgWarning: Ill-conditioned matrix (rcond=1.03985e-17): result may not be accurate.\n",
      "  overwrite_a=True).T\n",
      "C:\\Anaconda3\\lib\\site-packages\\sklearn\\linear_model\\ridge.py:125: LinAlgWarning: Ill-conditioned matrix (rcond=4.37652e-17): result may not be accurate.\n",
      "  overwrite_a=True).T\n"
     ]
    },
    {
     "name": "stdout",
     "output_type": "stream",
     "text": [
      "Best alpha is:  100\n",
      "Best kernel is:  linear\n",
      "Best Epsilon is:  0.1\n",
      "Best C is:  0.1\n",
      "Best Gamma is:  auto\n",
      "Error in valid: 150.09182332129694\n",
      "L\n"
     ]
    },
    {
     "name": "stderr",
     "output_type": "stream",
     "text": [
      "C:\\Anaconda3\\lib\\site-packages\\sklearn\\linear_model\\ridge.py:125: LinAlgWarning: Ill-conditioned matrix (rcond=2.88263e-18): result may not be accurate.\n",
      "  overwrite_a=True).T\n",
      "C:\\Anaconda3\\lib\\site-packages\\sklearn\\linear_model\\ridge.py:125: LinAlgWarning: Ill-conditioned matrix (rcond=2.68332e-18): result may not be accurate.\n",
      "  overwrite_a=True).T\n",
      "C:\\Anaconda3\\lib\\site-packages\\sklearn\\linear_model\\ridge.py:125: LinAlgWarning: Ill-conditioned matrix (rcond=1.18763e-17): result may not be accurate.\n",
      "  overwrite_a=True).T\n",
      "C:\\Anaconda3\\lib\\site-packages\\sklearn\\linear_model\\ridge.py:125: LinAlgWarning: Ill-conditioned matrix (rcond=6.10029e-17): result may not be accurate.\n",
      "  overwrite_a=True).T\n",
      "C:\\Anaconda3\\lib\\site-packages\\sklearn\\linear_model\\ridge.py:125: LinAlgWarning: Ill-conditioned matrix (rcond=5.56985e-17): result may not be accurate.\n",
      "  overwrite_a=True).T\n",
      "C:\\Anaconda3\\lib\\site-packages\\sklearn\\linear_model\\ridge.py:125: LinAlgWarning: Ill-conditioned matrix (rcond=3.47499e-17): result may not be accurate.\n",
      "  overwrite_a=True).T\n"
     ]
    },
    {
     "name": "stdout",
     "output_type": "stream",
     "text": [
      "Best alpha is:  100\n",
      "Best kernel is:  linear\n",
      "Best Epsilon is:  0.1\n",
      "Best C is:  0.1\n",
      "Best Gamma is:  auto\n",
      "Error in valid: 142.65384839108447\n",
      "J\n"
     ]
    },
    {
     "name": "stderr",
     "output_type": "stream",
     "text": [
      "C:\\Anaconda3\\lib\\site-packages\\sklearn\\linear_model\\ridge.py:125: LinAlgWarning: Ill-conditioned matrix (rcond=2.82231e-17): result may not be accurate.\n",
      "  overwrite_a=True).T\n",
      "C:\\Anaconda3\\lib\\site-packages\\sklearn\\linear_model\\ridge.py:125: LinAlgWarning: Ill-conditioned matrix (rcond=6.00664e-17): result may not be accurate.\n",
      "  overwrite_a=True).T\n"
     ]
    },
    {
     "name": "stdout",
     "output_type": "stream",
     "text": [
      "Best alpha is:  5\n",
      "Best kernel is:  rbf\n",
      "Best Epsilon is:  0.1\n",
      "Best C is:  1\n",
      "Best Gamma is:  auto\n",
      "Error in valid: 159.0843877052741\n",
      "M\n"
     ]
    },
    {
     "name": "stderr",
     "output_type": "stream",
     "text": [
      "C:\\Anaconda3\\lib\\site-packages\\sklearn\\linear_model\\ridge.py:125: LinAlgWarning: Ill-conditioned matrix (rcond=2.82231e-17): result may not be accurate.\n",
      "  overwrite_a=True).T\n",
      "C:\\Anaconda3\\lib\\site-packages\\sklearn\\linear_model\\ridge.py:125: LinAlgWarning: Ill-conditioned matrix (rcond=8.30844e-18): result may not be accurate.\n",
      "  overwrite_a=True).T\n",
      "C:\\Anaconda3\\lib\\site-packages\\sklearn\\linear_model\\ridge.py:125: LinAlgWarning: Ill-conditioned matrix (rcond=3.22197e-17): result may not be accurate.\n",
      "  overwrite_a=True).T\n",
      "C:\\Anaconda3\\lib\\site-packages\\sklearn\\linear_model\\ridge.py:125: LinAlgWarning: Ill-conditioned matrix (rcond=3.33929e-17): result may not be accurate.\n",
      "  overwrite_a=True).T\n",
      "C:\\Anaconda3\\lib\\site-packages\\sklearn\\linear_model\\ridge.py:125: LinAlgWarning: Ill-conditioned matrix (rcond=2.75904e-17): result may not be accurate.\n",
      "  overwrite_a=True).T\n",
      "C:\\Anaconda3\\lib\\site-packages\\sklearn\\linear_model\\ridge.py:125: LinAlgWarning: Ill-conditioned matrix (rcond=1.1997e-17): result may not be accurate.\n",
      "  overwrite_a=True).T\n"
     ]
    },
    {
     "name": "stdout",
     "output_type": "stream",
     "text": [
      "Best alpha is:  5\n",
      "Best kernel is:  linear\n",
      "Best Epsilon is:  5\n",
      "Best C is:  1\n",
      "Best Gamma is:  auto\n",
      "Error in valid: 120.38502064226672\n",
      "N\n"
     ]
    },
    {
     "name": "stderr",
     "output_type": "stream",
     "text": [
      "C:\\Anaconda3\\lib\\site-packages\\sklearn\\linear_model\\ridge.py:125: LinAlgWarning: Ill-conditioned matrix (rcond=1.42748e-17): result may not be accurate.\n",
      "  overwrite_a=True).T\n",
      "C:\\Anaconda3\\lib\\site-packages\\sklearn\\linear_model\\ridge.py:125: LinAlgWarning: Ill-conditioned matrix (rcond=2.71665e-17): result may not be accurate.\n",
      "  overwrite_a=True).T\n"
     ]
    },
    {
     "name": "stdout",
     "output_type": "stream",
     "text": [
      "Best alpha is:  100\n",
      "Best kernel is:  linear\n",
      "Best Epsilon is:  5\n",
      "Best C is:  1\n",
      "Best Gamma is:  auto\n",
      "Error in valid: 165.98183350433968\n"
     ]
    },
    {
     "data": {
      "image/png": "[encoded data removed]",
      "text/plain": [
       "<Figure size 432x288 with 1 Axes>"
      ]
     },
     "metadata": {
      "needs_background": "light"
     },
     "output_type": "display_data"
    }
   ],
   "source": [
    "data = pd.read_csv(\"data.csv\")\n",
    "data = data.sample(frac=1).reset_index(drop=True)\n",
    "pd.options.mode.chained_assignment = None\n",
    "\n",
    "\n",
    "XLabels = ['TotalT','Temp','LSR','CA','Size', 'Moisture', 'IsoT', 'HeatT', 'Ramp','F_X', 'Ro', 'logRo', 'P']\n",
    "X = data[XLabels]\n",
    "#Scaling X\n",
    "sc = StandardScaler()\n",
    "X = sc.fit_transform(X)\n",
    "data[XLabels] = X\n",
    "\n",
    "papers = data['ID'].unique()\n",
    "shuffle(papers)\n",
    "\n",
    "#Remvoing papers from test list if they have less  than 10 points\n",
    "papersWithLessThanXPoints = []\n",
    "for paper in papers:\n",
    "    dataFromPaper = data[data['ID'] == paper]\n",
    "    if len(dataFromPaper.index) < 10:\n",
    "        papersWithLessThanXPoints.append(paper)\n",
    "papers = [x for x in papers if x not in papersWithLessThanXPoints]\n",
    "        \n",
    "# print(papersWithLessThanXPoints)\n",
    "numPapers = len(papers)\n",
    "papersPerGroup = 2\n",
    "numBins = 10\n",
    "\n",
    "error_Frame = pd.DataFrame(columns=['ID', 'Linear', 'Ridge', 'SVR'])\n",
    "\n",
    "for paper in papers:\n",
    "    print(paper)\n",
    "    #Simple Linear Regr\n",
    "    train_Frame = data[data['ID'] != paper]\n",
    "    test_Frame = data[data['ID'] == paper]\n",
    "    \n",
    "    papers = train_Frame['ID'].unique()\n",
    "    \n",
    "    \n",
    "    numPapers = len(papers)\n",
    "    #combos = [papers[x:x + papersPerGroup] for x in range(0, len(papers), papersPerGroup)] \n",
    "    combos = []\n",
    "    for x in range(0, len(papers), papersPerGroup):\n",
    "        if x + papersPerGroup < len(papers):\n",
    "            combos.append(papers[x:x + papersPerGroup])\n",
    "        else:\n",
    "            combos.append(papers[x:])\n",
    "\n",
    "\n",
    "    lenTrain = len(train_Frame.index)\n",
    "    train_Frame, valid_Frame, train_valid_Frame = train_Frame.iloc[:int(lenTrain * 0.8), :], train_Frame.iloc[int(lenTrain * 0.8):, :], train_Frame\n",
    "\n",
    "    #Calculating Sample Weight\n",
    "    bins = train_Frame['Yield'].value_counts(bins=numBins)\n",
    "    for i in train_Frame.index:\n",
    "        for j in bins.index:\n",
    "            if int(train_Frame.at[i, 'Yield']) in j:\n",
    "                train_Frame.at[i, 'Sample_Weight'] = 100/bins[j].item()\n",
    "\n",
    "            \n",
    "    bins = train_valid_Frame['Yield'].value_counts(bins=numBins)\n",
    "\n",
    "    for i in train_valid_Frame.index:\n",
    "        for j in bins.index:\n",
    "            if int(train_valid_Frame.at[i, 'Yield']) in j:\n",
    "                train_valid_Frame.at[i, 'Sample_Weight'] = 100/bins[j].item()\n",
    "    \n",
    "    y_train, y_valid, y_test, y_train_valid = train_Frame['Yield'], valid_Frame['Yield'], test_Frame['Yield'], train_valid_Frame['Yield']\n",
    "    X_train, X_valid, X_test, X_train_valid = train_Frame[XLabels], valid_Frame[XLabels], test_Frame[XLabels], train_valid_Frame[XLabels]\n",
    "\n",
    "    train_weights = train_Frame['Sample_Weight']\n",
    "    train_valid_weights = train_valid_Frame['Sample_Weight']\n",
    "    \n",
    "    #Simple Linear Regression\n",
    "    regr = linear_model.LinearRegression()\n",
    "    regr.fit(X_train_valid, y_train_valid, sample_weight=train_valid_weights)\n",
    "    y_pred = regr.predict(X_test)\n",
    "    mseSLR = metrics.mean_absolute_error(y_test, y_pred)\n",
    "    \n",
    "    #Ridge ------\n",
    "    \n",
    "    alphas = [0, 0.001, 0.005, 0.01, 0.05, 0.1, 0.5, 1, 5, 10, 100]\n",
    "    \n",
    "    errors = []\n",
    "    \n",
    "    for a in alphas:\n",
    "        sumErrors = 0\n",
    "        for c in combos:\n",
    "            train_Frame = train_valid_Frame[~train_valid_Frame['ID'].isin(c)]\n",
    "            valid_Frame = train_valid_Frame[train_valid_Frame['ID'].isin(c)]\n",
    "\n",
    "            ##Calculating Sample Weight again just for train frame, because it's different\n",
    "            bins = train_Frame['Yield'].value_counts(bins=numBins)\n",
    "\n",
    "            for i in train_Frame.index:\n",
    "                for j in bins.index:\n",
    "                    if int(train_Frame.at[i, 'Yield']) in j:\n",
    "                        train_Frame.at[i, 'Sample_Weight'] = 100/bins[j].item()\n",
    "\n",
    "            y_train, y_valid, y_test, y_train_valid = train_Frame['Yield'], valid_Frame['Yield'], test_Frame['Yield'], train_valid_Frame['Yield']\n",
    "            X_train, X_valid, X_test, X_train_valid = train_Frame[XLabels], valid_Frame[XLabels], test_Frame[XLabels], train_valid_Frame[XLabels]\n",
    "\n",
    "            train_weights = train_Frame['Sample_Weight']\n",
    "            \n",
    "\n",
    "            ridgeModel = Ridge(alpha=a)\n",
    "            ridgeModel.fit(X_train, y_train, sample_weight=train_weights) \n",
    "            y_pred = ridgeModel.predict(X_valid)\n",
    "            error =  metrics.mean_absolute_error(y_valid, y_pred)\n",
    "            sumErrors = sumErrors + error\n",
    "        \n",
    "        errors.append(sumErrors)\n",
    "\n",
    "    \n",
    "    best_alpha = alphas[np.argmin(errors)]\n",
    "    print(\"Best alpha is: \", best_alpha)\n",
    "    ridgeModel = Ridge(alpha=best_alpha)\n",
    "    ridgeModel.fit(X_train_valid, y_train_valid, sample_weight=train_valid_weights) \n",
    "    y_pred = ridgeModel.predict(X_test)\n",
    "    mseRidge =  metrics.mean_absolute_error(y_test, y_pred)\n",
    "    \n",
    "    \n",
    "    #SVR------------------------------\n",
    "    ##Parameter Fitting\n",
    "    kernels =  ['poly', 'rbf', 'linear']\n",
    "    epsilons = [0.1,5,10, 20]\n",
    "    Cs = [0.1,1,10, 20]\n",
    "    gammas = ['scale', 'auto']\n",
    "    errors = []\n",
    "    for kern in kernels:\n",
    "        for ep in epsilons:\n",
    "            for C_ in Cs:\n",
    "                for gam in gammas:\n",
    "                    sumErrors = 0\n",
    "                    for c in combos:\n",
    "                        train_Frame = train_valid_Frame[~train_valid_Frame['ID'].isin(c)]\n",
    "                        valid_Frame = train_valid_Frame[train_valid_Frame['ID'].isin(c)]\n",
    "\n",
    "\n",
    "                        ##Calculating Sample Weight again just for train frame, because it's different\n",
    "                        bins = train_Frame['Yield'].value_counts(bins=numBins)\n",
    "                        for i in train_Frame.index:\n",
    "                            for j in bins.index:\n",
    "                                if int(train_Frame.at[i, 'Yield']) in j:\n",
    "                                    train_Frame.at[i, 'Sample_Weight'] = 100/bins[j].item()\n",
    "\n",
    "                        y_train, y_valid, y_test, y_train_valid = train_Frame['Yield'], valid_Frame['Yield'], test_Frame['Yield'], train_valid_Frame['Yield']\n",
    "                        X_train, X_valid, X_test, X_train_valid = train_Frame[XLabels], valid_Frame[XLabels], test_Frame[XLabels], train_valid_Frame[XLabels]\n",
    "\n",
    "                        train_weights = train_Frame['Sample_Weight']\n",
    "\n",
    "\n",
    "                        svrModel = SVR(kernel=kern, gamma='scale', epsilon=ep, cache_size=2000, C=C_)\n",
    "                        svrModel.fit(X_train, y_train, sample_weight=train_weights) \n",
    "                        y_pred = svrModel.predict(X_valid)\n",
    "                        error =  metrics.mean_absolute_error(y_valid, y_pred)\n",
    "                        sumErrors = sumErrors + error\n",
    "                    errors.append(sumErrors)\n",
    "                \n",
    "    index_of_lowest_error = np.argmin(errors)\n",
    "\n",
    "    best_kernel = kernels[int(index_of_lowest_error / (len(epsilons) * len(Cs) * len(gammas)))] #Good\n",
    "    best_ep = epsilons[int((index_of_lowest_error % (len(epsilons) *len(Cs) * len(gammas)))/(len(Cs) *len(gammas)))] #Good\n",
    "    best_C = Cs[int((index_of_lowest_error % (len(Cs) * len(gammas)))/len(gammas))] #Good \n",
    "    best_gamma = gammas[i % len(gammas)]\n",
    "    \n",
    "    print(\"Best kernel is: \", best_kernel)\n",
    "    print(\"Best Epsilon is: \", best_ep)\n",
    "    print(\"Best C is: \", best_C)\n",
    "    print(\"Best Gamma is: \", best_gamma)\n",
    "    print(\"Error in valid:\", errors[np.argmin(errors)])\n",
    "    \n",
    "    best_model = SVR(kernel=best_kernel, gamma='scale', epsilon=best_ep, cache_size=2000, C=best_C)\n",
    "    best_model.fit(X_train_valid, y_train_valid, sample_weight=train_valid_weights)\n",
    "    y_pred = best_model.predict(X_test)\n",
    "    mseSVR = metrics.mean_absolute_error(y_test, y_pred)\n",
    "\n",
    "\n",
    "    row = [[paper, mseSLR, mseRidge, mseSVR]]\n",
    "    tempDf = pd.DataFrame(row, columns=['ID', 'Linear', 'Ridge', 'SVR'])\n",
    "    error_Frame = pd.concat([error_Frame, tempDf], ignore_index=True)\n",
    "    error_Frame.index = error_Frame['ID'].values\n",
    "    error_Frame = error_Frame.sort_index()\n",
    "    error_Frame.to_csv(\"CrossValidLinearRidgeSVRErrors.csv\")\n",
    "\n",
    "    \n",
    "error_Frame.reset_index()\n",
    "error_Frame.index = error_Frame['ID'].values\n",
    "error_Frame = error_Frame.sort_index()\n",
    "\n",
    "\n",
    "error_Frame.plot(kind='bar', stacked=False)\n",
    "error_Frame.to_csv(\"CrossValidLinearRidgeSVRErrors.csv\")\n",
    "\n",
    "plt.ylabel('Mean Absolute Error (Yield %)')\n",
    "plt.title(\"Accuracy of Models\")\n",
    "plt.savefig(\"CrossValidLinearRidgeSVR.png\", dpi=600, bbox_inches='tight')\n"
   ]
  },
  {
   "cell_type": "code",
   "execution_count": null,
   "metadata": {},
   "outputs": [],
   "source": []
  }
 ],
 "metadata": {
  "kernelspec": {
   "display_name": "Python 3",
   "language": "python",
   "name": "python3"
  },
  "language_info": {
   "codemirror_mode": {
    "name": "ipython",
    "version": 3
   },
   "file_extension": ".py",
   "mimetype": "text/x-python",
   "name": "python",
   "nbconvert_exporter": "python",
   "pygments_lexer": "ipython3",
   "version": "3.6.6"
  }
 },
 "nbformat": 4,
 "nbformat_minor": 2
}
