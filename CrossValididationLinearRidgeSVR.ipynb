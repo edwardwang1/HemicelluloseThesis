{
 "cells": [
  {
   "cell_type": "code",
   "execution_count": 2,
   "metadata": {
    "ExecuteTime": {
     "end_time": "2019-03-06T06:09:04.663712Z",
     "start_time": "2019-03-06T06:09:00.220219Z"
    }
   },
   "outputs": [],
   "source": [
    "from openpyxl import Workbook\n",
    "from openpyxl import load_workbook\n",
    "import os\n",
    "import pandas as pd\n",
    "import numpy as np\n",
    "import matplotlib.pyplot as plt\n",
    "import math\n",
    "from sklearn.model_selection import train_test_split\n",
    "from sklearn.preprocessing import StandardScaler\n",
    "from sklearn.svm import SVR\n",
    "from sklearn.linear_model import Ridge\n",
    "from sklearn import metrics\n",
    "from sklearn import linear_model\n",
    "import statsmodels.api as sm\n",
    "from sklearn import metrics\n",
    "from random import shuffle"
   ]
  },
  {
   "cell_type": "code",
   "execution_count": 5,
   "metadata": {
    "ExecuteTime": {
     "end_time": "2019-03-06T06:45:23.366352Z",
     "start_time": "2019-03-06T06:41:00.931713Z"
    }
   },
   "outputs": [
    {
     "name": "stdout",
     "output_type": "stream",
     "text": [
      "HemicelluloseExtractionOfMixedSouthernHardwood.xlsx\n"
     ]
    },
    {
     "name": "stderr",
     "output_type": "stream",
     "text": [
      "C:\\Anaconda3\\lib\\site-packages\\sklearn\\linear_model\\ridge.py:125: LinAlgWarning: Ill-conditioned matrix (rcond=9.81684e-18): result may not be accurate.\n",
      "  overwrite_a=True).T\n",
      "C:\\Anaconda3\\lib\\site-packages\\sklearn\\linear_model\\ridge.py:125: LinAlgWarning: Ill-conditioned matrix (rcond=2.71769e-17): result may not be accurate.\n",
      "  overwrite_a=True).T\n",
      "C:\\Anaconda3\\lib\\site-packages\\sklearn\\linear_model\\ridge.py:125: LinAlgWarning: Ill-conditioned matrix (rcond=3.52525e-17): result may not be accurate.\n",
      "  overwrite_a=True).T\n",
      "C:\\Anaconda3\\lib\\site-packages\\sklearn\\linear_model\\ridge.py:125: LinAlgWarning: Ill-conditioned matrix (rcond=2.08503e-17): result may not be accurate.\n",
      "  overwrite_a=True).T\n"
     ]
    },
    {
     "name": "stdout",
     "output_type": "stream",
     "text": [
      "Best alpha is:  10\n",
      "Best kernel is:  rbf\n",
      "Best Ep is:  5\n",
      "Best C is:  20\n",
      "Error in valid: 141.2004848710322\n",
      "QuantitativeAnalysisofSugarsInWoodHydrolyzates.xlsx\n"
     ]
    },
    {
     "name": "stderr",
     "output_type": "stream",
     "text": [
      "C:\\Anaconda3\\lib\\site-packages\\sklearn\\linear_model\\ridge.py:125: LinAlgWarning: Ill-conditioned matrix (rcond=8.62349e-17): result may not be accurate.\n",
      "  overwrite_a=True).T\n",
      "C:\\Anaconda3\\lib\\site-packages\\sklearn\\linear_model\\ridge.py:125: LinAlgWarning: Ill-conditioned matrix (rcond=9.96281e-17): result may not be accurate.\n",
      "  overwrite_a=True).T\n",
      "C:\\Anaconda3\\lib\\site-packages\\sklearn\\linear_model\\ridge.py:125: LinAlgWarning: Ill-conditioned matrix (rcond=1.13893e-17): result may not be accurate.\n",
      "  overwrite_a=True).T\n"
     ]
    },
    {
     "name": "stdout",
     "output_type": "stream",
     "text": [
      "Best alpha is:  10\n",
      "Best kernel is:  rbf\n",
      "Best Ep is:  10\n",
      "Best C is:  10\n",
      "Error in valid: 146.93652958843776\n",
      "ExtractionOfXylansFromHardwoodChips.xlsx\n"
     ]
    },
    {
     "name": "stderr",
     "output_type": "stream",
     "text": [
      "C:\\Anaconda3\\lib\\site-packages\\sklearn\\linear_model\\ridge.py:125: LinAlgWarning: Ill-conditioned matrix (rcond=2.20137e-17): result may not be accurate.\n",
      "  overwrite_a=True).T\n",
      "C:\\Anaconda3\\lib\\site-packages\\sklearn\\linear_model\\ridge.py:125: LinAlgWarning: Ill-conditioned matrix (rcond=4.52144e-17): result may not be accurate.\n",
      "  overwrite_a=True).T\n"
     ]
    },
    {
     "name": "stdout",
     "output_type": "stream",
     "text": [
      "Best alpha is:  100\n",
      "Best kernel is:  rbf\n",
      "Best Ep is:  5\n",
      "Best C is:  10\n",
      "Error in valid: 150.00547816609514\n",
      "DesignOfProcessParametersForProudctionOfXylose.xlsx\n"
     ]
    },
    {
     "name": "stderr",
     "output_type": "stream",
     "text": [
      "C:\\Anaconda3\\lib\\site-packages\\sklearn\\linear_model\\ridge.py:125: LinAlgWarning: Ill-conditioned matrix (rcond=7.10817e-17): result may not be accurate.\n",
      "  overwrite_a=True).T\n",
      "C:\\Anaconda3\\lib\\site-packages\\sklearn\\linear_model\\ridge.py:125: LinAlgWarning: Ill-conditioned matrix (rcond=1.96892e-17): result may not be accurate.\n",
      "  overwrite_a=True).T\n",
      "C:\\Anaconda3\\lib\\site-packages\\sklearn\\linear_model\\ridge.py:125: LinAlgWarning: Ill-conditioned matrix (rcond=3.20218e-18): result may not be accurate.\n",
      "  overwrite_a=True).T\n"
     ]
    },
    {
     "name": "stdout",
     "output_type": "stream",
     "text": [
      "Best alpha is:  100\n",
      "Best kernel is:  rbf\n",
      "Best Ep is:  10\n",
      "Best C is:  10\n",
      "Error in valid: 162.77997382171026\n",
      "HotWaterPretreatment.xlsx\n"
     ]
    },
    {
     "name": "stderr",
     "output_type": "stream",
     "text": [
      "C:\\Anaconda3\\lib\\site-packages\\sklearn\\linear_model\\ridge.py:125: LinAlgWarning: Ill-conditioned matrix (rcond=8.96388e-18): result may not be accurate.\n",
      "  overwrite_a=True).T\n",
      "C:\\Anaconda3\\lib\\site-packages\\sklearn\\linear_model\\ridge.py:125: LinAlgWarning: Ill-conditioned matrix (rcond=8.1466e-17): result may not be accurate.\n",
      "  overwrite_a=True).T\n"
     ]
    },
    {
     "name": "stdout",
     "output_type": "stream",
     "text": [
      "Best alpha is:  10\n",
      "Best kernel is:  rbf\n",
      "Best Ep is:  5\n",
      "Best C is:  20\n",
      "Error in valid: 151.19011822015162\n",
      "KineticStuidesOfAcidHyrolysisOfMerantiWood.xlsx\n"
     ]
    },
    {
     "name": "stderr",
     "output_type": "stream",
     "text": [
      "C:\\Anaconda3\\lib\\site-packages\\sklearn\\linear_model\\ridge.py:125: LinAlgWarning: Ill-conditioned matrix (rcond=9.5764e-17): result may not be accurate.\n",
      "  overwrite_a=True).T\n",
      "C:\\Anaconda3\\lib\\site-packages\\sklearn\\linear_model\\ridge.py:125: LinAlgWarning: Ill-conditioned matrix (rcond=2.9556e-17): result may not be accurate.\n",
      "  overwrite_a=True).T\n"
     ]
    },
    {
     "name": "stdout",
     "output_type": "stream",
     "text": [
      "Best alpha is:  100\n",
      "Best kernel is:  linear\n",
      "Best Ep is:  20\n",
      "Best C is:  1\n",
      "Error in valid: 163.7203706839412\n",
      "EXTRACTION_OF_HEMICELLULOSES_ BY_ ACID.xlsx\n"
     ]
    },
    {
     "name": "stderr",
     "output_type": "stream",
     "text": [
      "C:\\Anaconda3\\lib\\site-packages\\sklearn\\linear_model\\ridge.py:125: LinAlgWarning: Ill-conditioned matrix (rcond=9.0132e-17): result may not be accurate.\n",
      "  overwrite_a=True).T\n",
      "C:\\Anaconda3\\lib\\site-packages\\sklearn\\linear_model\\ridge.py:125: LinAlgWarning: Ill-conditioned matrix (rcond=1.03252e-16): result may not be accurate.\n",
      "  overwrite_a=True).T\n",
      "C:\\Anaconda3\\lib\\site-packages\\sklearn\\linear_model\\ridge.py:125: LinAlgWarning: Ill-conditioned matrix (rcond=2.81361e-17): result may not be accurate.\n",
      "  overwrite_a=True).T\n",
      "C:\\Anaconda3\\lib\\site-packages\\sklearn\\linear_model\\ridge.py:125: LinAlgWarning: Ill-conditioned matrix (rcond=1.46099e-17): result may not be accurate.\n",
      "  overwrite_a=True).T\n"
     ]
    },
    {
     "name": "stdout",
     "output_type": "stream",
     "text": [
      "Best alpha is:  100\n",
      "Best kernel is:  rbf\n",
      "Best Ep is:  5\n",
      "Best C is:  20\n",
      "Error in valid: 150.39358583994175\n",
      "MildAutohydrolysisAnEnvironmentallyFriendlyTechnologXyl.xlsx\n"
     ]
    },
    {
     "name": "stderr",
     "output_type": "stream",
     "text": [
      "C:\\Anaconda3\\lib\\site-packages\\sklearn\\linear_model\\ridge.py:125: LinAlgWarning: Ill-conditioned matrix (rcond=5.61326e-18): result may not be accurate.\n",
      "  overwrite_a=True).T\n",
      "C:\\Anaconda3\\lib\\site-packages\\sklearn\\linear_model\\ridge.py:125: LinAlgWarning: Ill-conditioned matrix (rcond=9.0132e-17): result may not be accurate.\n",
      "  overwrite_a=True).T\n",
      "C:\\Anaconda3\\lib\\site-packages\\sklearn\\linear_model\\ridge.py:125: LinAlgWarning: Ill-conditioned matrix (rcond=8.47699e-17): result may not be accurate.\n",
      "  overwrite_a=True).T\n",
      "C:\\Anaconda3\\lib\\site-packages\\sklearn\\linear_model\\ridge.py:125: LinAlgWarning: Ill-conditioned matrix (rcond=5.3769e-17): result may not be accurate.\n",
      "  overwrite_a=True).T\n"
     ]
    },
    {
     "name": "stdout",
     "output_type": "stream",
     "text": [
      "Best alpha is:  10\n",
      "Best kernel is:  rbf\n",
      "Best Ep is:  5\n",
      "Best C is:  10\n",
      "Error in valid: 147.9117367560217\n",
      "PrehydrolysisOfEucalyptusWoodWithDiluteSulphuricAcidAutoclave.xlsx\n"
     ]
    },
    {
     "name": "stderr",
     "output_type": "stream",
     "text": [
      "C:\\Anaconda3\\lib\\site-packages\\sklearn\\linear_model\\ridge.py:125: LinAlgWarning: Ill-conditioned matrix (rcond=2.5564e-17): result may not be accurate.\n",
      "  overwrite_a=True).T\n",
      "C:\\Anaconda3\\lib\\site-packages\\sklearn\\linear_model\\ridge.py:125: LinAlgWarning: Ill-conditioned matrix (rcond=1.03353e-16): result may not be accurate.\n",
      "  overwrite_a=True).T\n",
      "C:\\Anaconda3\\lib\\site-packages\\sklearn\\linear_model\\ridge.py:125: LinAlgWarning: Ill-conditioned matrix (rcond=3.92509e-17): result may not be accurate.\n",
      "  overwrite_a=True).T\n"
     ]
    },
    {
     "name": "stdout",
     "output_type": "stream",
     "text": [
      "Best alpha is:  100\n",
      "Best kernel is:  rbf\n",
      "Best Ep is:  10\n",
      "Best C is:  20\n",
      "Error in valid: 168.86034087925827\n",
      "OptimizationofHydrothermalACS.xlsx\n"
     ]
    },
    {
     "name": "stderr",
     "output_type": "stream",
     "text": [
      "C:\\Anaconda3\\lib\\site-packages\\sklearn\\linear_model\\ridge.py:125: LinAlgWarning: Ill-conditioned matrix (rcond=9.53826e-17): result may not be accurate.\n",
      "  overwrite_a=True).T\n",
      "C:\\Anaconda3\\lib\\site-packages\\sklearn\\linear_model\\ridge.py:125: LinAlgWarning: Ill-conditioned matrix (rcond=5.32525e-17): result may not be accurate.\n",
      "  overwrite_a=True).T\n",
      "C:\\Anaconda3\\lib\\site-packages\\sklearn\\linear_model\\ridge.py:125: LinAlgWarning: Ill-conditioned matrix (rcond=1.07007e-17): result may not be accurate.\n",
      "  overwrite_a=True).T\n"
     ]
    },
    {
     "name": "stdout",
     "output_type": "stream",
     "text": [
      "Best alpha is:  5\n",
      "Best kernel is:  linear\n",
      "Best Ep is:  0.1\n",
      "Best C is:  1\n",
      "Error in valid: 161.78064442871482\n",
      "HemicelluloseRemovalFromHardwood.xlsx\n"
     ]
    },
    {
     "name": "stderr",
     "output_type": "stream",
     "text": [
      "C:\\Anaconda3\\lib\\site-packages\\sklearn\\linear_model\\ridge.py:125: LinAlgWarning: Ill-conditioned matrix (rcond=2.52081e-17): result may not be accurate.\n",
      "  overwrite_a=True).T\n",
      "C:\\Anaconda3\\lib\\site-packages\\sklearn\\linear_model\\ridge.py:125: LinAlgWarning: Ill-conditioned matrix (rcond=9.46387e-18): result may not be accurate.\n",
      "  overwrite_a=True).T\n",
      "C:\\Anaconda3\\lib\\site-packages\\sklearn\\linear_model\\ridge.py:125: LinAlgWarning: Ill-conditioned matrix (rcond=9.0132e-17): result may not be accurate.\n",
      "  overwrite_a=True).T\n"
     ]
    },
    {
     "name": "stdout",
     "output_type": "stream",
     "text": [
      "Best alpha is:  100\n",
      "Best kernel is:  rbf\n",
      "Best Ep is:  5\n",
      "Best C is:  20\n",
      "Error in valid: 150.5785371847026\n",
      "Generation of xylose solutions from Eucalyptus globulus wood.xlsx\n"
     ]
    },
    {
     "name": "stderr",
     "output_type": "stream",
     "text": [
      "C:\\Anaconda3\\lib\\site-packages\\sklearn\\linear_model\\ridge.py:125: LinAlgWarning: Ill-conditioned matrix (rcond=5.02182e-17): result may not be accurate.\n",
      "  overwrite_a=True).T\n",
      "C:\\Anaconda3\\lib\\site-packages\\sklearn\\linear_model\\ridge.py:125: LinAlgWarning: Ill-conditioned matrix (rcond=4.28756e-17): result may not be accurate.\n",
      "  overwrite_a=True).T\n",
      "C:\\Anaconda3\\lib\\site-packages\\sklearn\\linear_model\\ridge.py:125: LinAlgWarning: Ill-conditioned matrix (rcond=7.73742e-17): result may not be accurate.\n",
      "  overwrite_a=True).T\n",
      "C:\\Anaconda3\\lib\\site-packages\\sklearn\\linear_model\\ridge.py:125: LinAlgWarning: Ill-conditioned matrix (rcond=5.5057e-17): result may not be accurate.\n",
      "  overwrite_a=True).T\n"
     ]
    },
    {
     "name": "stdout",
     "output_type": "stream",
     "text": [
      "Best alpha is:  100\n",
      "Best kernel is:  linear\n",
      "Best Ep is:  0.1\n",
      "Best C is:  0.1\n",
      "Error in valid: 130.3443459995269\n",
      "ProductionOfXyloseFromMerantiWood.xlsx\n"
     ]
    },
    {
     "name": "stderr",
     "output_type": "stream",
     "text": [
      "C:\\Anaconda3\\lib\\site-packages\\sklearn\\linear_model\\ridge.py:125: LinAlgWarning: Ill-conditioned matrix (rcond=2.96819e-17): result may not be accurate.\n",
      "  overwrite_a=True).T\n",
      "C:\\Anaconda3\\lib\\site-packages\\sklearn\\linear_model\\ridge.py:125: LinAlgWarning: Ill-conditioned matrix (rcond=8.86874e-18): result may not be accurate.\n",
      "  overwrite_a=True).T\n",
      "C:\\Anaconda3\\lib\\site-packages\\sklearn\\linear_model\\ridge.py:125: LinAlgWarning: Ill-conditioned matrix (rcond=1.52098e-17): result may not be accurate.\n",
      "  overwrite_a=True).T\n",
      "C:\\Anaconda3\\lib\\site-packages\\sklearn\\linear_model\\ridge.py:125: LinAlgWarning: Ill-conditioned matrix (rcond=8.61051e-17): result may not be accurate.\n",
      "  overwrite_a=True).T\n"
     ]
    },
    {
     "name": "stdout",
     "output_type": "stream",
     "text": [
      "Best alpha is:  10\n",
      "Best kernel is:  linear\n",
      "Best Ep is:  5\n",
      "Best C is:  1\n",
      "Error in valid: 154.682399272182\n",
      "OptimizationOfHydrothermalCHEMPUP.xlsx\n"
     ]
    },
    {
     "name": "stderr",
     "output_type": "stream",
     "text": [
      "C:\\Anaconda3\\lib\\site-packages\\sklearn\\linear_model\\ridge.py:125: LinAlgWarning: Ill-conditioned matrix (rcond=3.50797e-18): result may not be accurate.\n",
      "  overwrite_a=True).T\n",
      "C:\\Anaconda3\\lib\\site-packages\\sklearn\\linear_model\\ridge.py:125: LinAlgWarning: Ill-conditioned matrix (rcond=5.14783e-17): result may not be accurate.\n",
      "  overwrite_a=True).T\n",
      "C:\\Anaconda3\\lib\\site-packages\\sklearn\\linear_model\\ridge.py:125: LinAlgWarning: Ill-conditioned matrix (rcond=3.9477e-17): result may not be accurate.\n",
      "  overwrite_a=True).T\n",
      "C:\\Anaconda3\\lib\\site-packages\\sklearn\\linear_model\\ridge.py:125: LinAlgWarning: Ill-conditioned matrix (rcond=1.00594e-16): result may not be accurate.\n",
      "  overwrite_a=True).T\n"
     ]
    },
    {
     "name": "stdout",
     "output_type": "stream",
     "text": [
      "Best alpha is:  0.001\n",
      "Best kernel is:  rbf\n",
      "Best Ep is:  10\n",
      "Best C is:  10\n",
      "Error in valid: 164.75005906817645\n",
      "PrehydrolysisOfEucalyptusWoodWithDiluteSulphuricAcidAtmostpheric.xlsx\n"
     ]
    },
    {
     "name": "stderr",
     "output_type": "stream",
     "text": [
      "C:\\Anaconda3\\lib\\site-packages\\sklearn\\linear_model\\ridge.py:125: LinAlgWarning: Ill-conditioned matrix (rcond=1.53069e-17): result may not be accurate.\n",
      "  overwrite_a=True).T\n",
      "C:\\Anaconda3\\lib\\site-packages\\sklearn\\linear_model\\ridge.py:125: LinAlgWarning: Ill-conditioned matrix (rcond=2.23749e-17): result may not be accurate.\n",
      "  overwrite_a=True).T\n",
      "C:\\Anaconda3\\lib\\site-packages\\sklearn\\linear_model\\ridge.py:125: LinAlgWarning: Ill-conditioned matrix (rcond=1.04373e-17): result may not be accurate.\n",
      "  overwrite_a=True).T\n",
      "C:\\Anaconda3\\lib\\site-packages\\sklearn\\linear_model\\ridge.py:125: LinAlgWarning: Ill-conditioned matrix (rcond=1.02489e-17): result may not be accurate.\n",
      "  overwrite_a=True).T\n",
      "C:\\Anaconda3\\lib\\site-packages\\sklearn\\linear_model\\ridge.py:125: LinAlgWarning: Ill-conditioned matrix (rcond=1.58219e-17): result may not be accurate.\n",
      "  overwrite_a=True).T\n"
     ]
    },
    {
     "name": "stdout",
     "output_type": "stream",
     "text": [
      "Best alpha is:  10\n",
      "Best kernel is:  linear\n",
      "Best Ep is:  20\n",
      "Best C is:  1\n",
      "Error in valid: 150.05999576792908\n",
      "EffectofEucalytpusGlobulusWoodAutohydrolysis.xlsx\n"
     ]
    },
    {
     "name": "stderr",
     "output_type": "stream",
     "text": [
      "C:\\Anaconda3\\lib\\site-packages\\sklearn\\linear_model\\ridge.py:125: LinAlgWarning: Ill-conditioned matrix (rcond=4.90844e-17): result may not be accurate.\n",
      "  overwrite_a=True).T\n"
     ]
    },
    {
     "name": "stdout",
     "output_type": "stream",
     "text": [
      "Best alpha is:  100\n",
      "Best kernel is:  linear\n",
      "Best Ep is:  0.1\n",
      "Best C is:  20\n",
      "Error in valid: 151.61852403561286\n"
     ]
    },
    {
     "data": {
      "image/png": "[encoded data removed]",
      "text/plain": [
       "<Figure size 432x288 with 1 Axes>"
      ]
     },
     "metadata": {
      "needs_background": "light"
     },
     "output_type": "display_data"
    }
   ],
   "source": [
    "data = pd.read_csv(\"data.csv\")\n",
    "data = data.sample(frac=1).reset_index(drop=True)\n",
    "\n",
    "\n",
    "XLabels = ['TotalT','Temp','LSR','CA','Moisture', 'IsoT', 'HeatT', 'Ramp','F_X', 'Ro', 'logRo', 'P']\n",
    "X = data[XLabels]\n",
    "#Scaling X\n",
    "sc = StandardScaler()\n",
    "X = sc.fit_transform(X)\n",
    "data[XLabels] = X\n",
    "\n",
    "papers = data['Source'].unique()\n",
    "shuffle(papers)\n",
    "\n",
    "\n",
    "numPapers = len(papers)\n",
    "papersPerGroup = 2\n",
    "\n",
    "\n",
    "combos = [papers[x:x + papersPerGroup] for x in range(0, len(papers), papersPerGroup)]\n",
    "error_Frame = pd.DataFrame(columns=['Source', 'Linear', 'Ridge', 'SVR'])\n",
    "\n",
    "for paper in papers:\n",
    "    print(paper)\n",
    "    #Simple Linear Regr\n",
    "    train_Frame = data[data['Source'] != paper]\n",
    "    test_Frame = data[data['Source'] == paper]\n",
    "    \n",
    "    papers = train_Frame['Source'].unique()\n",
    "    \n",
    "    \n",
    "    numPapers = len(papers)\n",
    "    combos = [papers[x:x + papersPerGroup] for x in range(0, len(papers), papersPerGroup)]  \n",
    "\n",
    "\n",
    "    lenTrain = len(train_Frame.index)\n",
    "    train_Frame, valid_Frame, train_valid_Frame = train_Frame.iloc[:int(lenTrain * 0.8), :], train_Frame.iloc[int(lenTrain * 0.8):, :], train_Frame\n",
    "\n",
    "    y_train, y_valid, y_test, y_train_valid = train_Frame['Yield'], valid_Frame['Yield'], test_Frame['Yield'], train_valid_Frame['Yield']\n",
    "    X_train, X_valid, X_test, X_train_valid = train_Frame[XLabels], valid_Frame[XLabels], test_Frame[XLabels], train_valid_Frame[XLabels]\n",
    "\n",
    "    #Simple Linear Regression\n",
    "    regr = linear_model.LinearRegression()\n",
    "    regr.fit(X_train_valid, y_train_valid)\n",
    "    y_pred = regr.predict(X_test)\n",
    "    mseSLR = metrics.mean_absolute_error(y_test, y_pred)\n",
    "    \n",
    "    #Ridge ------\n",
    "    \n",
    "    alphas = [0, 0.001, 0.005, 0.01, 0.05, 0.1, 0.5, 1, 5, 10, 100]\n",
    "    \n",
    "    errors = []\n",
    "    \n",
    "    for a in alphas:\n",
    "        sumErrors = 0\n",
    "        for c in combos:\n",
    "            train_Frame = train_valid_Frame[~train_valid_Frame['Source'].isin(c)]\n",
    "            valid_Frame = train_valid_Frame[train_valid_Frame['Source'].isin(c)]\n",
    "\n",
    "            y_train, y_valid, y_test, y_train_valid = train_Frame['Yield'], valid_Frame['Yield'], test_Frame['Yield'], train_valid_Frame['Yield']\n",
    "            X_train, X_valid, X_test, X_train_valid = train_Frame[XLabels], valid_Frame[XLabels], test_Frame[XLabels], train_valid_Frame[XLabels]\n",
    "            \n",
    "            \n",
    "    #         print(\"---\")\n",
    "    #         print(c)\n",
    "    #         print(train_Frame['Source'].unique())\n",
    "    #         print(test_Frame['Source'].unique())\n",
    "    #         print(\"---\")\n",
    "\n",
    "            ridgeModel = Ridge(alpha=a)\n",
    "            ridgeModel.fit(X_train, y_train) \n",
    "            y_pred = ridgeModel.predict(X_valid)\n",
    "            error =  metrics.mean_absolute_error(y_valid, y_pred)\n",
    "            sumErrors = sumErrors + error\n",
    "        \n",
    "        errors.append(sumErrors)\n",
    "\n",
    "    \n",
    "    best_alpha = alphas[np.argmin(errors)]\n",
    "    print(\"Best alpha is: \", best_alpha)\n",
    "    ridgeModel = Ridge(alpha=best_alpha)\n",
    "    ridgeModel.fit(X_train_valid, y_train_valid) \n",
    "    y_pred = ridgeModel.predict(X_test)\n",
    "    mseRidge =  metrics.mean_absolute_error(y_test, y_pred)\n",
    "    \n",
    "    \n",
    "    #SVR------------------------------\n",
    "    ##Parameter Fitting\n",
    "    kernels =  ['poly', 'rbf', 'linear']\n",
    "    #gammas = [0.01, 0.1, 1]\n",
    "    epsilons = [0.1,5,10, 20]\n",
    "    Cs = [0.1,1,10, 20]\n",
    "    #Cs =[0.1, 0.5, 1]\n",
    "    errors = []\n",
    "    for kern in kernels:\n",
    "        for ep in epsilons:\n",
    "            for C_ in Cs:\n",
    "                sumErrors = 0\n",
    "                for c in combos:\n",
    "                    train_Frame = train_valid_Frame[~train_valid_Frame['Source'].isin(c)]\n",
    "                    valid_Frame = train_valid_Frame[train_valid_Frame['Source'].isin(c)]\n",
    "\n",
    "                    y_train, y_valid, y_test, y_train_valid = train_Frame['Yield'], valid_Frame['Yield'], test_Frame['Yield'], train_valid_Frame['Yield']\n",
    "                    X_train, X_valid, X_test, X_train_valid = train_Frame[XLabels], valid_Frame[XLabels], test_Frame[XLabels], train_valid_Frame[XLabels]\n",
    "                    \n",
    "                    \n",
    "                    svrModel = SVR(kernel=kern, gamma='scale', epsilon=ep, cache_size=2000, C=C_)\n",
    "                    svrModel.fit(X_train, y_train) \n",
    "                    y_pred = svrModel.predict(X_valid)\n",
    "                    error =  metrics.mean_absolute_error(y_valid, y_pred)\n",
    "                    sumErrors = sumErrors + error\n",
    "                errors.append(sumErrors)\n",
    "                \n",
    "    index_of_lowest_error = np.argmin(errors)\n",
    "\n",
    "    best_kernel = kernels[int(index_of_lowest_error / (len(epsilons) * len(Cs)))] #Good\n",
    "    best_epsilon = epsilons[int((index_of_lowest_error % (len(epsilons) * len(Cs)))/len(Cs))] #Good\n",
    "    best_C = Cs[index_of_lowest_error % len(Cs)] #Good\n",
    "    \n",
    "    print(\"Best kernel is: \", best_kernel)\n",
    "    print(\"Best Ep is: \", best_epsilon)\n",
    "    print(\"Best C is: \", best_C)\n",
    "    print(\"Error in valid:\", errors[np.argmin(errors)])\n",
    "    \n",
    "    best_model = SVR(kernel=best_kernel, gamma='scale', epsilon=best_epsilon, cache_size=2000, C=best_C)\n",
    "    best_model.fit(X_train_valid, y_train_valid)\n",
    "    y_pred = best_model.predict(X_test)\n",
    "    mseSVR = metrics.mean_absolute_error(y_test, y_pred)\n",
    "\n",
    "\n",
    "    row = [[paper, mseSLR, mseRidge, mseSVR]]\n",
    "    tempDf = pd.DataFrame(row, columns=['Source', 'Linear', 'Ridge', 'SVR'])\n",
    "    error_Frame = pd.concat([error_Frame, tempDf], ignore_index=True)\n",
    "\n",
    "    \n",
    "error_Frame.reset_index()\n",
    "error_Frame.index = error_Frame['Source'].values\n",
    "#print(error_Frame['Source'].values)\n",
    "#print(error_Frame)\n",
    "\n",
    "error_Frame.plot(kind='bar', stacked=False)\n",
    "\n",
    "\n",
    "error_Frame.to_csv(\"errors.csv\")"
   ]
  },
  {
   "cell_type": "code",
   "execution_count": null,
   "metadata": {},
   "outputs": [],
   "source": []
  }
 ],
 "metadata": {
  "kernelspec": {
   "display_name": "Python 3",
   "language": "python",
   "name": "python3"
  },
  "language_info": {
   "codemirror_mode": {
    "name": "ipython",
    "version": 3
   },
   "file_extension": ".py",
   "mimetype": "text/x-python",
   "name": "python",
   "nbconvert_exporter": "python",
   "pygments_lexer": "ipython3",
   "version": "3.6.6"
  }
 },
 "nbformat": 4,
 "nbformat_minor": 2
}
