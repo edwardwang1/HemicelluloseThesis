{
 "cells": [
  {
   "cell_type": "code",
   "execution_count": 3,
   "metadata": {
    "ExecuteTime": {
     "end_time": "2019-03-06T18:06:22.489017Z",
     "start_time": "2019-03-06T18:06:22.483064Z"
    }
   },
   "outputs": [],
   "source": [
    "from openpyxl import Workbook\n",
    "from openpyxl import load_workbook\n",
    "import os\n",
    "import pandas as pd\n",
    "import numpy as np\n",
    "import matplotlib.pyplot as plt\n",
    "import math\n",
    "from sklearn.model_selection import train_test_split\n",
    "from sklearn.preprocessing import StandardScaler\n",
    "from sklearn.svm import SVR\n",
    "from sklearn.linear_model import Ridge\n",
    "from sklearn import metrics\n",
    "from sklearn import linear_model\n",
    "import statsmodels.api as sm\n",
    "from sklearn import metrics\n",
    "from random import shuffle\n",
    "import random"
   ]
  },
  {
   "cell_type": "code",
   "execution_count": 4,
   "metadata": {
    "ExecuteTime": {
     "end_time": "2019-03-06T18:53:36.986391Z",
     "start_time": "2019-03-06T18:06:26.545196Z"
    }
   },
   "outputs": [
    {
     "name": "stdout",
     "output_type": "stream",
     "text": [
      "EffectofEucalytpusGlobulusWoodAutohydrolysis.xlsx\n"
     ]
    },
    {
     "name": "stderr",
     "output_type": "stream",
     "text": [
      "C:\\Anaconda3\\lib\\site-packages\\sklearn\\linear_model\\ridge.py:125: LinAlgWarning: Ill-conditioned matrix (rcond=8.59112e-17): result may not be accurate.\n",
      "  overwrite_a=True).T\n",
      "C:\\Anaconda3\\lib\\site-packages\\sklearn\\linear_model\\ridge.py:125: LinAlgWarning: Ill-conditioned matrix (rcond=1.05263e-17): result may not be accurate.\n",
      "  overwrite_a=True).T\n",
      "C:\\Anaconda3\\lib\\site-packages\\sklearn\\linear_model\\ridge.py:125: LinAlgWarning: Ill-conditioned matrix (rcond=6.80211e-18): result may not be accurate.\n",
      "  overwrite_a=True).T\n",
      "C:\\Anaconda3\\lib\\site-packages\\sklearn\\linear_model\\ridge.py:125: LinAlgWarning: Ill-conditioned matrix (rcond=8.53554e-18): result may not be accurate.\n",
      "  overwrite_a=True).T\n",
      "C:\\Anaconda3\\lib\\site-packages\\sklearn\\linear_model\\ridge.py:125: LinAlgWarning: Ill-conditioned matrix (rcond=3.78967e-17): result may not be accurate.\n",
      "  overwrite_a=True).T\n"
     ]
    },
    {
     "name": "stdout",
     "output_type": "stream",
     "text": [
      "Best alpha is:  0\n"
     ]
    },
    {
     "name": "stderr",
     "output_type": "stream",
     "text": [
      "C:\\Anaconda3\\lib\\site-packages\\sklearn\\linear_model\\ridge.py:125: LinAlgWarning: Ill-conditioned matrix (rcond=6.05086e-18): result may not be accurate.\n",
      "  overwrite_a=True).T\n"
     ]
    },
    {
     "name": "stdout",
     "output_type": "stream",
     "text": [
      "Best kernel is:  rbf\n",
      "Best Gamma is:  0.01\n",
      "Best C is:  10.0\n",
      "Error in valid: 116.32622999205273\n",
      "HemicelluloseExtractionOfMixedSouthernHardwood.xlsx\n"
     ]
    },
    {
     "name": "stderr",
     "output_type": "stream",
     "text": [
      "C:\\Anaconda3\\lib\\site-packages\\sklearn\\linear_model\\ridge.py:125: LinAlgWarning: Ill-conditioned matrix (rcond=3.66207e-17): result may not be accurate.\n",
      "  overwrite_a=True).T\n",
      "C:\\Anaconda3\\lib\\site-packages\\sklearn\\linear_model\\ridge.py:125: LinAlgWarning: Ill-conditioned matrix (rcond=7.53258e-17): result may not be accurate.\n",
      "  overwrite_a=True).T\n",
      "C:\\Anaconda3\\lib\\site-packages\\sklearn\\linear_model\\ridge.py:125: LinAlgWarning: Ill-conditioned matrix (rcond=6.67401e-18): result may not be accurate.\n",
      "  overwrite_a=True).T\n"
     ]
    },
    {
     "name": "stdout",
     "output_type": "stream",
     "text": [
      "Best alpha is:  0\n"
     ]
    },
    {
     "name": "stderr",
     "output_type": "stream",
     "text": [
      "C:\\Anaconda3\\lib\\site-packages\\sklearn\\linear_model\\ridge.py:125: LinAlgWarning: Ill-conditioned matrix (rcond=1.46766e-17): result may not be accurate.\n",
      "  overwrite_a=True).T\n"
     ]
    },
    {
     "name": "stdout",
     "output_type": "stream",
     "text": [
      "Best kernel is:  rbf\n",
      "Best Gamma is:  0.1\n",
      "Best C is:  31.622776601683793\n",
      "Error in valid: 130.84237089348014\n",
      "HotWaterPretreatment.xlsx\n"
     ]
    },
    {
     "name": "stderr",
     "output_type": "stream",
     "text": [
      "C:\\Anaconda3\\lib\\site-packages\\sklearn\\linear_model\\ridge.py:125: LinAlgWarning: Ill-conditioned matrix (rcond=1.24113e-17): result may not be accurate.\n",
      "  overwrite_a=True).T\n",
      "C:\\Anaconda3\\lib\\site-packages\\sklearn\\linear_model\\ridge.py:125: LinAlgWarning: Ill-conditioned matrix (rcond=1.93508e-17): result may not be accurate.\n",
      "  overwrite_a=True).T\n"
     ]
    },
    {
     "name": "stdout",
     "output_type": "stream",
     "text": [
      "Best alpha is:  0\n",
      "Best kernel is:  rbf\n",
      "Best Gamma is:  0.01\n",
      "Best C is:  31.622776601683793\n",
      "Error in valid: 120.3844889748997\n",
      "MildAutohydrolysisAnEnvironmentallyFriendlyTechnologXyl.xlsx\n"
     ]
    },
    {
     "name": "stderr",
     "output_type": "stream",
     "text": [
      "C:\\Anaconda3\\lib\\site-packages\\sklearn\\linear_model\\ridge.py:125: LinAlgWarning: Ill-conditioned matrix (rcond=6.28333e-17): result may not be accurate.\n",
      "  overwrite_a=True).T\n",
      "C:\\Anaconda3\\lib\\site-packages\\sklearn\\linear_model\\ridge.py:125: LinAlgWarning: Ill-conditioned matrix (rcond=1.04229e-16): result may not be accurate.\n",
      "  overwrite_a=True).T\n",
      "C:\\Anaconda3\\lib\\site-packages\\sklearn\\linear_model\\ridge.py:125: LinAlgWarning: Ill-conditioned matrix (rcond=8.77134e-18): result may not be accurate.\n",
      "  overwrite_a=True).T\n"
     ]
    },
    {
     "name": "stdout",
     "output_type": "stream",
     "text": [
      "Best alpha is:  0\n",
      "Best kernel is:  linear\n",
      "Best Gamma is:  0.31622776601683794\n",
      "Best C is:  0.1\n",
      "Error in valid: 148.94965147230172\n",
      "PrehydrolysisOfEucalyptusWoodWithDiluteSulphuricAcidAtmostpheric.xlsx\n"
     ]
    },
    {
     "name": "stderr",
     "output_type": "stream",
     "text": [
      "C:\\Anaconda3\\lib\\site-packages\\sklearn\\linear_model\\ridge.py:125: LinAlgWarning: Ill-conditioned matrix (rcond=1.02099e-17): result may not be accurate.\n",
      "  overwrite_a=True).T\n",
      "C:\\Anaconda3\\lib\\site-packages\\sklearn\\linear_model\\ridge.py:125: LinAlgWarning: Ill-conditioned matrix (rcond=1.08563e-17): result may not be accurate.\n",
      "  overwrite_a=True).T\n",
      "C:\\Anaconda3\\lib\\site-packages\\sklearn\\linear_model\\ridge.py:125: LinAlgWarning: Ill-conditioned matrix (rcond=2.3622e-17): result may not be accurate.\n",
      "  overwrite_a=True).T\n",
      "C:\\Anaconda3\\lib\\site-packages\\sklearn\\linear_model\\ridge.py:125: LinAlgWarning: Ill-conditioned matrix (rcond=8.67729e-18): result may not be accurate.\n",
      "  overwrite_a=True).T\n",
      "C:\\Anaconda3\\lib\\site-packages\\sklearn\\linear_model\\ridge.py:125: LinAlgWarning: Ill-conditioned matrix (rcond=1.49767e-17): result may not be accurate.\n",
      "  overwrite_a=True).T\n",
      "C:\\Anaconda3\\lib\\site-packages\\sklearn\\linear_model\\ridge.py:125: LinAlgWarning: Ill-conditioned matrix (rcond=1.55904e-17): result may not be accurate.\n",
      "  overwrite_a=True).T\n"
     ]
    },
    {
     "name": "stdout",
     "output_type": "stream",
     "text": [
      "Best alpha is:  0\n"
     ]
    },
    {
     "name": "stderr",
     "output_type": "stream",
     "text": [
      "C:\\Anaconda3\\lib\\site-packages\\sklearn\\linear_model\\ridge.py:125: LinAlgWarning: Ill-conditioned matrix (rcond=2.91012e-17): result may not be accurate.\n",
      "  overwrite_a=True).T\n"
     ]
    },
    {
     "name": "stdout",
     "output_type": "stream",
     "text": [
      "Best kernel is:  rbf\n",
      "Best Gamma is:  0.1\n",
      "Best C is:  1.0\n",
      "Error in valid: 136.35627487833165\n",
      "ProductionOfXyloseFromMerantiWood.xlsx\n"
     ]
    },
    {
     "name": "stderr",
     "output_type": "stream",
     "text": [
      "C:\\Anaconda3\\lib\\site-packages\\sklearn\\linear_model\\ridge.py:125: LinAlgWarning: Ill-conditioned matrix (rcond=3.60424e-17): result may not be accurate.\n",
      "  overwrite_a=True).T\n",
      "C:\\Anaconda3\\lib\\site-packages\\sklearn\\linear_model\\ridge.py:125: LinAlgWarning: Ill-conditioned matrix (rcond=1.98322e-17): result may not be accurate.\n",
      "  overwrite_a=True).T\n",
      "C:\\Anaconda3\\lib\\site-packages\\sklearn\\linear_model\\ridge.py:125: LinAlgWarning: Ill-conditioned matrix (rcond=2.1615e-18): result may not be accurate.\n",
      "  overwrite_a=True).T\n"
     ]
    },
    {
     "name": "stdout",
     "output_type": "stream",
     "text": [
      "Best alpha is:  0\n"
     ]
    },
    {
     "name": "stderr",
     "output_type": "stream",
     "text": [
      "C:\\Anaconda3\\lib\\site-packages\\sklearn\\linear_model\\ridge.py:125: LinAlgWarning: Ill-conditioned matrix (rcond=3.78288e-18): result may not be accurate.\n",
      "  overwrite_a=True).T\n"
     ]
    },
    {
     "name": "stdout",
     "output_type": "stream",
     "text": [
      "Best kernel is:  rbf\n",
      "Best Gamma is:  0.03162277660168379\n",
      "Best C is:  3.1622776601683795\n",
      "Error in valid: 129.004111116187\n",
      "Generation of xylose solutions from Eucalyptus globulus wood.xlsx\n"
     ]
    },
    {
     "name": "stderr",
     "output_type": "stream",
     "text": [
      "C:\\Anaconda3\\lib\\site-packages\\sklearn\\linear_model\\ridge.py:125: LinAlgWarning: Ill-conditioned matrix (rcond=6.28333e-17): result may not be accurate.\n",
      "  overwrite_a=True).T\n",
      "C:\\Anaconda3\\lib\\site-packages\\sklearn\\linear_model\\ridge.py:125: LinAlgWarning: Ill-conditioned matrix (rcond=3.17853e-17): result may not be accurate.\n",
      "  overwrite_a=True).T\n",
      "C:\\Anaconda3\\lib\\site-packages\\sklearn\\linear_model\\ridge.py:125: LinAlgWarning: Ill-conditioned matrix (rcond=1.2793e-17): result may not be accurate.\n",
      "  overwrite_a=True).T\n"
     ]
    },
    {
     "name": "stdout",
     "output_type": "stream",
     "text": [
      "Best alpha is:  0\n",
      "Best kernel is:  linear\n",
      "Best Gamma is:  0.1\n",
      "Best C is:  1.0\n",
      "Error in valid: 125.00687215512876\n",
      "PrehydrolysisOfEucalyptusWoodWithDiluteSulphuricAcidAutoclave.xlsx\n"
     ]
    },
    {
     "name": "stderr",
     "output_type": "stream",
     "text": [
      "C:\\Anaconda3\\lib\\site-packages\\sklearn\\linear_model\\ridge.py:125: LinAlgWarning: Ill-conditioned matrix (rcond=6.28333e-17): result may not be accurate.\n",
      "  overwrite_a=True).T\n",
      "C:\\Anaconda3\\lib\\site-packages\\sklearn\\linear_model\\ridge.py:125: LinAlgWarning: Ill-conditioned matrix (rcond=3.07724e-18): result may not be accurate.\n",
      "  overwrite_a=True).T\n",
      "C:\\Anaconda3\\lib\\site-packages\\sklearn\\linear_model\\ridge.py:125: LinAlgWarning: Ill-conditioned matrix (rcond=6.45882e-17): result may not be accurate.\n",
      "  overwrite_a=True).T\n",
      "C:\\Anaconda3\\lib\\site-packages\\sklearn\\linear_model\\ridge.py:125: LinAlgWarning: Ill-conditioned matrix (rcond=3.39092e-17): result may not be accurate.\n",
      "  overwrite_a=True).T\n",
      "C:\\Anaconda3\\lib\\site-packages\\sklearn\\linear_model\\ridge.py:125: LinAlgWarning: Ill-conditioned matrix (rcond=1.63237e-17): result may not be accurate.\n",
      "  overwrite_a=True).T\n"
     ]
    },
    {
     "name": "stdout",
     "output_type": "stream",
     "text": [
      "Best alpha is:  0\n"
     ]
    },
    {
     "name": "stderr",
     "output_type": "stream",
     "text": [
      "C:\\Anaconda3\\lib\\site-packages\\sklearn\\linear_model\\ridge.py:125: LinAlgWarning: Ill-conditioned matrix (rcond=6.78373e-17): result may not be accurate.\n",
      "  overwrite_a=True).T\n"
     ]
    },
    {
     "name": "stdout",
     "output_type": "stream",
     "text": [
      "Best kernel is:  linear\n",
      "Best Gamma is:  0.31622776601683794\n",
      "Best C is:  1.0\n",
      "Error in valid: 178.6126961873124\n",
      "QuantitativeAnalysisofSugarsInWoodHydrolyzates.xlsx\n"
     ]
    },
    {
     "name": "stderr",
     "output_type": "stream",
     "text": [
      "C:\\Anaconda3\\lib\\site-packages\\sklearn\\linear_model\\ridge.py:125: LinAlgWarning: Ill-conditioned matrix (rcond=2.54286e-17): result may not be accurate.\n",
      "  overwrite_a=True).T\n",
      "C:\\Anaconda3\\lib\\site-packages\\sklearn\\linear_model\\ridge.py:125: LinAlgWarning: Ill-conditioned matrix (rcond=4.02075e-17): result may not be accurate.\n",
      "  overwrite_a=True).T\n",
      "C:\\Anaconda3\\lib\\site-packages\\sklearn\\linear_model\\ridge.py:125: LinAlgWarning: Ill-conditioned matrix (rcond=5.37344e-17): result may not be accurate.\n",
      "  overwrite_a=True).T\n"
     ]
    },
    {
     "name": "stdout",
     "output_type": "stream",
     "text": [
      "Best alpha is:  0\n",
      "Best kernel is:  linear\n",
      "Best Gamma is:  0.03162277660168379\n",
      "Best C is:  0.31622776601683794\n",
      "Error in valid: 126.23987908029314\n",
      "OptimizationofHydrothermalACS.xlsx\n"
     ]
    },
    {
     "name": "stderr",
     "output_type": "stream",
     "text": [
      "C:\\Anaconda3\\lib\\site-packages\\sklearn\\linear_model\\ridge.py:125: LinAlgWarning: Ill-conditioned matrix (rcond=3.07724e-18): result may not be accurate.\n",
      "  overwrite_a=True).T\n",
      "C:\\Anaconda3\\lib\\site-packages\\sklearn\\linear_model\\ridge.py:125: LinAlgWarning: Ill-conditioned matrix (rcond=1.98322e-17): result may not be accurate.\n",
      "  overwrite_a=True).T\n",
      "C:\\Anaconda3\\lib\\site-packages\\sklearn\\linear_model\\ridge.py:125: LinAlgWarning: Ill-conditioned matrix (rcond=1.66959e-17): result may not be accurate.\n",
      "  overwrite_a=True).T\n"
     ]
    },
    {
     "name": "stdout",
     "output_type": "stream",
     "text": [
      "Best alpha is:  0\n",
      "Best kernel is:  linear\n",
      "Best Gamma is:  0.31622776601683794\n",
      "Best C is:  0.1\n",
      "Error in valid: 128.37052469948776\n",
      "OptimizationOfHydrothermalCHEMPUP.xlsx\n"
     ]
    },
    {
     "name": "stderr",
     "output_type": "stream",
     "text": [
      "C:\\Anaconda3\\lib\\site-packages\\sklearn\\linear_model\\ridge.py:125: LinAlgWarning: Ill-conditioned matrix (rcond=1.25282e-17): result may not be accurate.\n",
      "  overwrite_a=True).T\n",
      "C:\\Anaconda3\\lib\\site-packages\\sklearn\\linear_model\\ridge.py:125: LinAlgWarning: Ill-conditioned matrix (rcond=6.12629e-17): result may not be accurate.\n",
      "  overwrite_a=True).T\n"
     ]
    },
    {
     "name": "stdout",
     "output_type": "stream",
     "text": [
      "Best alpha is:  0\n"
     ]
    },
    {
     "name": "stderr",
     "output_type": "stream",
     "text": [
      "C:\\Anaconda3\\lib\\site-packages\\sklearn\\linear_model\\ridge.py:125: LinAlgWarning: Ill-conditioned matrix (rcond=6.26032e-17): result may not be accurate.\n",
      "  overwrite_a=True).T\n"
     ]
    },
    {
     "name": "stdout",
     "output_type": "stream",
     "text": [
      "Best kernel is:  linear\n",
      "Best Gamma is:  0.1\n",
      "Best C is:  0.31622776601683794\n",
      "Error in valid: 150.61648675050677\n",
      "DesignOfProcessParametersForProudctionOfXylose.xlsx\n"
     ]
    },
    {
     "name": "stderr",
     "output_type": "stream",
     "text": [
      "C:\\Anaconda3\\lib\\site-packages\\sklearn\\linear_model\\ridge.py:125: LinAlgWarning: Ill-conditioned matrix (rcond=2.81802e-17): result may not be accurate.\n",
      "  overwrite_a=True).T\n",
      "C:\\Anaconda3\\lib\\site-packages\\sklearn\\linear_model\\ridge.py:125: LinAlgWarning: Ill-conditioned matrix (rcond=1.0267e-17): result may not be accurate.\n",
      "  overwrite_a=True).T\n",
      "C:\\Anaconda3\\lib\\site-packages\\sklearn\\linear_model\\ridge.py:125: LinAlgWarning: Ill-conditioned matrix (rcond=8.67729e-18): result may not be accurate.\n",
      "  overwrite_a=True).T\n",
      "C:\\Anaconda3\\lib\\site-packages\\sklearn\\linear_model\\ridge.py:125: LinAlgWarning: Ill-conditioned matrix (rcond=2.48333e-17): result may not be accurate.\n",
      "  overwrite_a=True).T\n"
     ]
    },
    {
     "name": "stdout",
     "output_type": "stream",
     "text": [
      "Best alpha is:  0\n"
     ]
    },
    {
     "name": "stderr",
     "output_type": "stream",
     "text": [
      "C:\\Anaconda3\\lib\\site-packages\\sklearn\\linear_model\\ridge.py:125: LinAlgWarning: Ill-conditioned matrix (rcond=7.50722e-18): result may not be accurate.\n",
      "  overwrite_a=True).T\n"
     ]
    },
    {
     "name": "stdout",
     "output_type": "stream",
     "text": [
      "Best kernel is:  linear\n",
      "Best Gamma is:  0.1\n",
      "Best C is:  0.1\n",
      "Error in valid: 130.7813698799618\n",
      "ExtractionOfXylansFromHardwoodChips.xlsx\n"
     ]
    },
    {
     "name": "stderr",
     "output_type": "stream",
     "text": [
      "C:\\Anaconda3\\lib\\site-packages\\sklearn\\linear_model\\ridge.py:125: LinAlgWarning: Ill-conditioned matrix (rcond=4.05664e-18): result may not be accurate.\n",
      "  overwrite_a=True).T\n",
      "C:\\Anaconda3\\lib\\site-packages\\sklearn\\linear_model\\ridge.py:125: LinAlgWarning: Ill-conditioned matrix (rcond=3.07724e-18): result may not be accurate.\n",
      "  overwrite_a=True).T\n",
      "C:\\Anaconda3\\lib\\site-packages\\sklearn\\linear_model\\ridge.py:125: LinAlgWarning: Ill-conditioned matrix (rcond=1.50269e-17): result may not be accurate.\n",
      "  overwrite_a=True).T\n",
      "C:\\Anaconda3\\lib\\site-packages\\sklearn\\linear_model\\ridge.py:125: LinAlgWarning: Ill-conditioned matrix (rcond=1.58343e-17): result may not be accurate.\n",
      "  overwrite_a=True).T\n",
      "C:\\Anaconda3\\lib\\site-packages\\sklearn\\linear_model\\ridge.py:125: LinAlgWarning: Ill-conditioned matrix (rcond=6.78639e-18): result may not be accurate.\n",
      "  overwrite_a=True).T\n"
     ]
    },
    {
     "name": "stdout",
     "output_type": "stream",
     "text": [
      "Best alpha is:  0\n",
      "Best kernel is:  rbf\n",
      "Best Gamma is:  0.01\n",
      "Best C is:  10.0\n",
      "Error in valid: 129.80575939502125\n",
      "KineticStuidesOfAcidHyrolysisOfMerantiWood.xlsx\n"
     ]
    },
    {
     "name": "stderr",
     "output_type": "stream",
     "text": [
      "C:\\Anaconda3\\lib\\site-packages\\sklearn\\linear_model\\ridge.py:125: LinAlgWarning: Ill-conditioned matrix (rcond=1.80849e-17): result may not be accurate.\n",
      "  overwrite_a=True).T\n",
      "C:\\Anaconda3\\lib\\site-packages\\sklearn\\linear_model\\ridge.py:125: LinAlgWarning: Ill-conditioned matrix (rcond=8.67729e-18): result may not be accurate.\n",
      "  overwrite_a=True).T\n",
      "C:\\Anaconda3\\lib\\site-packages\\sklearn\\linear_model\\ridge.py:125: LinAlgWarning: Ill-conditioned matrix (rcond=4.69218e-17): result may not be accurate.\n",
      "  overwrite_a=True).T\n"
     ]
    },
    {
     "name": "stdout",
     "output_type": "stream",
     "text": [
      "Best alpha is:  0\n"
     ]
    },
    {
     "name": "stderr",
     "output_type": "stream",
     "text": [
      "C:\\Anaconda3\\lib\\site-packages\\sklearn\\linear_model\\ridge.py:125: LinAlgWarning: Ill-conditioned matrix (rcond=1.1892e-17): result may not be accurate.\n",
      "  overwrite_a=True).T\n"
     ]
    },
    {
     "name": "stdout",
     "output_type": "stream",
     "text": [
      "Best kernel is:  rbf\n",
      "Best Gamma is:  0.01\n",
      "Best C is:  3.1622776601683795\n",
      "Error in valid: 128.77107530039655\n",
      "EXTRACTION_OF_HEMICELLULOSES_ BY_ ACID.xlsx\n"
     ]
    },
    {
     "name": "stderr",
     "output_type": "stream",
     "text": [
      "C:\\Anaconda3\\lib\\site-packages\\sklearn\\linear_model\\ridge.py:125: LinAlgWarning: Ill-conditioned matrix (rcond=2.66365e-17): result may not be accurate.\n",
      "  overwrite_a=True).T\n",
      "C:\\Anaconda3\\lib\\site-packages\\sklearn\\linear_model\\ridge.py:125: LinAlgWarning: Ill-conditioned matrix (rcond=8.83712e-18): result may not be accurate.\n",
      "  overwrite_a=True).T\n"
     ]
    },
    {
     "name": "stdout",
     "output_type": "stream",
     "text": [
      "Best alpha is:  0\n"
     ]
    },
    {
     "name": "stderr",
     "output_type": "stream",
     "text": [
      "C:\\Anaconda3\\lib\\site-packages\\sklearn\\linear_model\\ridge.py:125: LinAlgWarning: Ill-conditioned matrix (rcond=6.5459e-18): result may not be accurate.\n",
      "  overwrite_a=True).T\n"
     ]
    },
    {
     "name": "stdout",
     "output_type": "stream",
     "text": [
      "Best kernel is:  linear\n",
      "Best Gamma is:  0.1\n",
      "Best C is:  0.1\n",
      "Error in valid: 119.57090121616503\n",
      "HemicelluloseRemovalFromHardwood.xlsx\n"
     ]
    },
    {
     "name": "stderr",
     "output_type": "stream",
     "text": [
      "C:\\Anaconda3\\lib\\site-packages\\sklearn\\linear_model\\ridge.py:125: LinAlgWarning: Ill-conditioned matrix (rcond=4.55479e-17): result may not be accurate.\n",
      "  overwrite_a=True).T\n",
      "C:\\Anaconda3\\lib\\site-packages\\sklearn\\linear_model\\ridge.py:125: LinAlgWarning: Ill-conditioned matrix (rcond=1.98322e-17): result may not be accurate.\n",
      "  overwrite_a=True).T\n",
      "C:\\Anaconda3\\lib\\site-packages\\sklearn\\linear_model\\ridge.py:125: LinAlgWarning: Ill-conditioned matrix (rcond=9.33532e-17): result may not be accurate.\n",
      "  overwrite_a=True).T\n",
      "C:\\Anaconda3\\lib\\site-packages\\sklearn\\linear_model\\ridge.py:125: LinAlgWarning: Ill-conditioned matrix (rcond=3.11163e-17): result may not be accurate.\n",
      "  overwrite_a=True).T\n",
      "C:\\Anaconda3\\lib\\site-packages\\sklearn\\linear_model\\ridge.py:125: LinAlgWarning: Ill-conditioned matrix (rcond=2.32498e-17): result may not be accurate.\n",
      "  overwrite_a=True).T\n",
      "C:\\Anaconda3\\lib\\site-packages\\sklearn\\linear_model\\ridge.py:125: LinAlgWarning: Ill-conditioned matrix (rcond=1.68606e-17): result may not be accurate.\n",
      "  overwrite_a=True).T\n"
     ]
    },
    {
     "name": "stdout",
     "output_type": "stream",
     "text": [
      "Best alpha is:  0\n"
     ]
    },
    {
     "name": "stderr",
     "output_type": "stream",
     "text": [
      "C:\\Anaconda3\\lib\\site-packages\\sklearn\\linear_model\\ridge.py:125: LinAlgWarning: Ill-conditioned matrix (rcond=1.08715e-17): result may not be accurate.\n",
      "  overwrite_a=True).T\n"
     ]
    },
    {
     "name": "stdout",
     "output_type": "stream",
     "text": [
      "Best kernel is:  rbf\n",
      "Best Gamma is:  0.01\n",
      "Best C is:  10.0\n",
      "Error in valid: 127.72068332976433\n"
     ]
    },
    {
     "data": {
      "image/png": "[encoded data removed]",
      "text/plain": [
       "<Figure size 432x288 with 1 Axes>"
      ]
     },
     "metadata": {
      "needs_background": "light"
     },
     "output_type": "display_data"
    }
   ],
   "source": [
    "data = pd.read_csv(\"data.csv\")\n",
    "data = data.sample(frac=1).reset_index(drop=True)\n",
    "pd.options.mode.chained_assignment = None\n",
    "\n",
    "XLabels = ['TotalT','Temp','LSR','CA','Size', 'Moisture', 'IsoT', 'HeatT', 'Ramp','F_X', 'Ro', 'logRo', 'P']\n",
    "X = data[XLabels]\n",
    "#Scaling X\n",
    "sc = StandardScaler()\n",
    "X = sc.fit_transform(X)\n",
    "data[XLabels] = X\n",
    "\n",
    "papers = data['Source'].unique()\n",
    "shuffle(papers)\n",
    "\n",
    "\n",
    "numPapers = len(papers)\n",
    "papersPerGroup = 2\n",
    "numBins = 20\n",
    "\n",
    "\n",
    "combos = [papers[x:x + papersPerGroup] for x in range(0, len(papers), papersPerGroup)]\n",
    "error_Frame = pd.DataFrame(columns=['Source', 'Linear', 'Ridge', 'SVR'])\n",
    "\n",
    "random.seed()\n",
    "\n",
    "def get_random_powerOfTen(start, stop, step=0.5):\n",
    "    ratio = 1/step\n",
    "    step = 1\n",
    "    ran = random.randrange(start * ratio, stop* ratio, step)\n",
    "    return 10**(ran/ratio)\n",
    "\n",
    "for paper in papers:\n",
    "    print(paper)\n",
    "    #Simple Linear Regr\n",
    "    train_Frame = data[data['Source'] != paper]\n",
    "    test_Frame = data[data['Source'] == paper]\n",
    "    \n",
    "    papers = train_Frame['Source'].unique()\n",
    "    \n",
    "    \n",
    "    numPapers = len(papers)\n",
    "    combos = [papers[x:x + papersPerGroup] for x in range(0, len(papers), papersPerGroup)]  \n",
    "\n",
    "\n",
    "    lenTrain = len(train_Frame.index)\n",
    "    train_Frame, valid_Frame, train_valid_Frame = train_Frame.iloc[:int(lenTrain * 0.8), :], train_Frame.iloc[int(lenTrain * 0.8):, :], train_Frame\n",
    "\n",
    "    #Calculating Sample Weight\n",
    "    bins = train_Frame['Yield'].value_counts(bins=numBins)\n",
    "\n",
    "    for i in train_Frame.index:\n",
    "        for j in bins.index:\n",
    "            if int(train_Frame.at[i, 'Yield']) in j:\n",
    "                train_Frame.at[i, 'Sample_Weight'] = 100/bins[j].item()\n",
    "\n",
    "            \n",
    "    bins = train_valid_Frame['Yield'].value_counts(bins=numBins)\n",
    "\n",
    "    for i in train_valid_Frame.index:\n",
    "        for j in bins.index:\n",
    "            if int(train_valid_Frame.at[i, 'Yield']) in j:\n",
    "                train_valid_Frame.at[i, 'Sample_Weight'] = 100/bins[j].item()\n",
    "    \n",
    "    y_train, y_valid, y_test, y_train_valid = train_Frame['Yield'], valid_Frame['Yield'], test_Frame['Yield'], train_valid_Frame['Yield']\n",
    "    X_train, X_valid, X_test, X_train_valid = train_Frame[XLabels], valid_Frame[XLabels], test_Frame[XLabels], train_valid_Frame[XLabels]\n",
    "\n",
    "    train_weights = train_Frame['Sample_Weight']\n",
    "    train_valid_weights = train_valid_Frame['Sample_Weight']\n",
    "    \n",
    "    \n",
    "    #Simple Linear Regression\n",
    "    regr = linear_model.LinearRegression()\n",
    "    regr.fit(X_train_valid, y_train_valid, sample_weight=train_valid_weights)\n",
    "    y_pred = regr.predict(X_test)\n",
    "    mseSLR = metrics.mean_absolute_error(y_test, y_pred)\n",
    "    \n",
    "    #Ridge ------\n",
    "    \n",
    "    alphas = [0, 0.001, 0.005, 0.01, 0.05, 0.1, 0.5, 1, 5, 10, 100]\n",
    "    \n",
    "    errors = []\n",
    "    \n",
    "    for a in alphas:\n",
    "        sumErrors = 0\n",
    "        for c in combos:\n",
    "            train_Frame = train_valid_Frame[~train_valid_Frame['Source'].isin(c)]\n",
    "            valid_Frame = train_valid_Frame[train_valid_Frame['Source'].isin(c)]\n",
    "            \n",
    "            ##Calculating Sample Weight again just for train frame, because it's different\n",
    "            bins = train_Frame['Yield'].value_counts(bins=numBins)\n",
    "\n",
    "            for i in train_Frame.index:\n",
    "                for j in bins.index:\n",
    "                    if int(train_Frame.at[i, 'Yield']) in j:\n",
    "                        train_Frame.at[i, 'Sample_Weight'] = 100/bins[j].item()\n",
    "\n",
    "\n",
    "\n",
    "            y_train, y_valid, y_test, y_train_valid = train_Frame['Yield'], valid_Frame['Yield'], test_Frame['Yield'], train_valid_Frame['Yield']\n",
    "            X_train, X_valid, X_test, X_train_valid = train_Frame[XLabels], valid_Frame[XLabels], test_Frame[XLabels], train_valid_Frame[XLabels]\n",
    "\n",
    "            train_weights = train_Frame['Sample_Weight']\n",
    "\n",
    "            ridgeModel = Ridge(alpha=a)\n",
    "            ridgeModel.fit(X_train, y_train, sample_weight=train_weights) \n",
    "            y_pred = ridgeModel.predict(X_valid)\n",
    "            error =  metrics.mean_absolute_error(y_valid, y_pred)\n",
    "            sumErrors = sumErrors + error\n",
    "        \n",
    "        errors.append(sumErrors)\n",
    "\n",
    "    \n",
    "    best_alpha = alphas[np.argmin(sumErrors)]\n",
    "    print(\"Best alpha is: \", best_alpha)\n",
    "    ridgeModel = Ridge(alpha=best_alpha)\n",
    "    ridgeModel.fit(X_train_valid, y_train_valid, sample_weight=train_valid_weights) \n",
    "    y_pred = ridgeModel.predict(X_test)\n",
    "    mseRidge =  metrics.mean_absolute_error(y_test, y_pred)\n",
    "    \n",
    "    \n",
    "    #SVR------------------------------\n",
    "    ##Parameter Fitting\n",
    "    \n",
    "    \n",
    "    kernels =  ['poly', 'rbf', 'linear']\n",
    "    gammas = [0.01, 0.1, 1]\n",
    "    Cs =[0.1, 1, 10, 100]\n",
    "    \n",
    "\n",
    "    #Cs =[0.1, 0.5, 1]\n",
    "    errors = []\n",
    "    params = []\n",
    "    \n",
    "    for i in range(10):\n",
    "        kern = random.choice(kernels)\n",
    "        gam = get_random_powerOfTen(-2, 0)\n",
    "        C_ = get_random_powerOfTen(-1, 2)\n",
    "        sumErrors = 0\n",
    "        for c in combos:\n",
    "                train_Frame = train_valid_Frame[~train_valid_Frame['Source'].isin(c)]\n",
    "                valid_Frame = train_valid_Frame[train_valid_Frame['Source'].isin(c)]\n",
    "\n",
    "                ##Calculating Sample Weight again just for train frame, because it's different\n",
    "                bins = train_Frame['Yield'].value_counts(bins=numBins)\n",
    "\n",
    "                for i in train_Frame.index:\n",
    "                    for j in bins.index:\n",
    "                        if int(train_Frame.at[i, 'Yield']) in j:\n",
    "                            train_Frame.at[i, 'Sample_Weight'] = 100/bins[j].item()\n",
    "\n",
    "                y_train, y_valid, y_test, y_train_valid = train_Frame['Yield'], valid_Frame['Yield'], test_Frame['Yield'], train_valid_Frame['Yield']\n",
    "                X_train, X_valid, X_test, X_train_valid = train_Frame[XLabels], valid_Frame[XLabels], test_Frame[XLabels], train_valid_Frame[XLabels]\n",
    "\n",
    "                train_weights = train_Frame['Sample_Weight']\n",
    "\n",
    "                svrModel = SVR(kernel=kern, gamma=gam, cache_size=2000, C=C_)\n",
    "                svrModel.fit(X_train, y_train, sample_weight=train_weights) \n",
    "                y_pred = svrModel.predict(X_valid)\n",
    "                error =  metrics.mean_absolute_error(y_valid, y_pred)\n",
    "                sumErrors = sumErrors + error\n",
    "        errors.append(sumErrors)\n",
    "        params.append([kern, gam, C_])\n",
    "                \n",
    "    index_of_lowest_error = np.argmin(errors)\n",
    "\n",
    "    best_kernel = params[index_of_lowest_error][0]\n",
    "    best_gamma = params[index_of_lowest_error][1]\n",
    "    best_C = params[index_of_lowest_error][2]\n",
    "    \n",
    "    print(\"Best kernel is: \", best_kernel)\n",
    "    print(\"Best Gamma is: \", best_gamma)\n",
    "    print(\"Best C is: \", best_C)\n",
    "    print(\"Error in valid:\", errors[np.argmin(errors)])\n",
    "    \n",
    "    best_model = SVR(kernel=best_kernel, gamma=best_gamma, cache_size=2000, C=best_C)\n",
    "    best_model.fit(X_train_valid, y_train_valid, sample_weight=train_valid_weights)\n",
    "    y_pred = best_model.predict(X_test)\n",
    "    mseSVR = metrics.mean_absolute_error(y_test, y_pred)\n",
    "\n",
    "\n",
    "    row = [[paper, mseSLR, mseRidge, mseSVR]]\n",
    "    tempDf = pd.DataFrame(row, columns=['Source', 'Linear', 'Ridge', 'SVR'])\n",
    "    error_Frame = pd.concat([error_Frame, tempDf], ignore_index=True)\n",
    "\n",
    "    \n",
    "error_Frame.reset_index()\n",
    "error_Frame.index = error_Frame['Source'].values\n",
    "#print(error_Frame['Source'].values)\n",
    "#print(error_Frame)\n",
    "\n",
    "error_Frame.plot(kind='bar', stacked=False)\n",
    "\n",
    "\n",
    "error_Frame.to_csv(\"errorsRan.csv\")"
   ]
  },
  {
   "cell_type": "code",
   "execution_count": null,
   "metadata": {},
   "outputs": [],
   "source": []
  }
 ],
 "metadata": {
  "kernelspec": {
   "display_name": "Python 3",
   "language": "python",
   "name": "python3"
  },
  "language_info": {
   "codemirror_mode": {
    "name": "ipython",
    "version": 3
   },
   "file_extension": ".py",
   "mimetype": "text/x-python",
   "name": "python",
   "nbconvert_exporter": "python",
   "pygments_lexer": "ipython3",
   "version": "3.6.6"
  }
 },
 "nbformat": 4,
 "nbformat_minor": 2
}
