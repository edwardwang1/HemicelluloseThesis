{
 "cells": [
  {
   "cell_type": "code",
   "execution_count": 5,
   "metadata": {
    "ExecuteTime": {
     "end_time": "2019-04-07T20:45:10.676249Z",
     "start_time": "2019-04-07T20:45:10.645499Z"
    }
   },
   "outputs": [
    {
     "name": "stdout",
     "output_type": "stream",
     "text": [
      "TotalT\n",
      "735.58\n",
      "Temp\n",
      "493.15\n",
      "LSR\n",
      "20.0\n",
      "CA\n",
      "2.431389235024162\n",
      "Size\n",
      "19.5\n",
      "Moisture\n",
      "49.2\n",
      "IsoT\n",
      "660.0\n",
      "HeatT\n",
      "177.1875\n",
      "Ramp\n",
      "103.20114667940756\n",
      "F_X\n",
      "34.9\n",
      "Ro\n",
      "103981.85386850759\n",
      "logRo\n",
      "11.551971680866167\n",
      "P\n",
      "10040.151784654354\n"
     ]
    }
   ],
   "source": [
    "import pandas as pd\n",
    "data = pd.read_csv(\"data.csv\")\n",
    "\n",
    "\n",
    "XLabels = ['TotalT','Temp','LSR','CA','Size', 'Moisture', 'IsoT', 'HeatT', 'Ramp','F_X', 'Ro', 'logRo', 'P']\n",
    "\n",
    "for i in XLabels:\n",
    "    print(i)\n",
    "    print(data[i].max())\n",
    "    print(data[i].min())\n",
    "    "
   ]
  },
  {
   "cell_type": "code",
   "execution_count": null,
   "metadata": {},
   "outputs": [],
   "source": []
  }
 ],
 "metadata": {
  "kernelspec": {
   "display_name": "Python 3",
   "language": "python",
   "name": "python3"
  },
  "language_info": {
   "codemirror_mode": {
    "name": "ipython",
    "version": 3
   },
   "file_extension": ".py",
   "mimetype": "text/x-python",
   "name": "python",
   "nbconvert_exporter": "python",
   "pygments_lexer": "ipython3",
   "version": "3.6.6"
  }
 },
 "nbformat": 4,
 "nbformat_minor": 2
}
