{
 "cells": [
  {
   "cell_type": "code",
   "execution_count": 1,
   "metadata": {
    "ExecuteTime": {
     "end_time": "2019-05-04T22:12:09.981584Z",
     "start_time": "2019-05-04T22:12:09.144254Z"
    }
   },
   "outputs": [],
   "source": [
    "from openpyxl import Workbook\n",
    "from openpyxl import load_workbook\n",
    "import os\n",
    "import pandas as pd\n",
    "import numpy as np\n",
    "import matplotlib.pyplot as plt\n",
    "import math\n",
    "import string"
   ]
  },
  {
   "cell_type": "code",
   "execution_count": 4,
   "metadata": {
    "ExecuteTime": {
     "end_time": "2019-05-04T22:13:44.972873Z",
     "start_time": "2019-05-04T22:13:44.173668Z"
    }
   },
   "outputs": [],
   "source": [
    "directory_in_str = \"C:\\\\Users\\\\Edward\\\\OneDrive\\\\Documents\\\\University\\\\Fourth Year\\\\Thesis\\\\HemicelluloseThesis\\\\ExcelDataCollection\\\\Complete\\\\\"\n",
    "#print(directory_in_str)\n",
    "directory = os.fsencode(directory_in_str)\n",
    "\n",
    "COLUMN_NAMES=['TotalT','Temp','LSR','CA','Size','Mass','Moisture', 'IsoT', 'HeatT', 'Ramp', 'F_A', 'F_Gal', 'F_Glu',\n",
    "            'F_X', 'F_M', 'F_R', 'A', 'Gal', 'Glu','X', 'M', 'R', 'Furf', 'HMF', 'Source']\n",
    "\n",
    "masterDF = pd.DataFrame(columns=COLUMN_NAMES)\n",
    "#print(len(masterDF.columns))\n",
    "#print(masterDF.columns)\n",
    "\n",
    "for file in os.listdir(directory):\n",
    "    filename = os.fsdecode(file)\n",
    "    absPath = directory_in_str + filename\n",
    "    if filename.endswith(\".xlsx\"): \n",
    "        wb = load_workbook(filename = absPath, data_only = True) \n",
    "        ws = wb[\"Data\"]\n",
    "        ws.delete_rows(1,2)\n",
    "        df = pd.DataFrame(ws.values, columns=COLUMN_NAMES[:-1])\n",
    "        df['Source'] = filename\n",
    "        #print(\"1\", df.at[1, 'Temp'])\n",
    "        masterDF = pd.concat([masterDF, df], ignore_index=True)\n",
    "        #masterDF = masterDF.append(df)\n",
    "        #print(\"2\",masterDF.at[1, 'Temp'])\n",
    "        continue\n",
    "    else:\n",
    "        continue\n",
    "        \n",
    "#masterDF = masterDF.astype(float)\n",
    "masterDF.reset_index()\n",
    "\n",
    "\n",
    "for i in masterDF.index:\n",
    "    if masterDF.at[i, 'Ramp'] is None or pd.isnull(masterDF.at[i, 'Ramp']):\n",
    "        masterDF.at[i, 'Ramp'] = (masterDF.at[i, 'Temp'] - 25) / masterDF.at[i, 'HeatT']\n",
    "    if masterDF.at[i, 'HeatT'] is None or pd.isnull(masterDF.at[i, 'HeatT']):\n",
    "        masterDF.at[i, 'HeatT'] = (masterDF.at[i, 'Temp'] - 25) / masterDF.at[i, 'Ramp']\n",
    "    #print(type(masterDF.at[i, 'TotalT']))\n",
    "    #print((masterDF.at[i, 'Temp']))\n",
    "    if masterDF.at[i, 'TotalT'] is None or pd.isnull(masterDF.at[i, 'TotalT']):\n",
    "        masterDF.at[i, 'TotalT'] =  masterDF.at[i, 'HeatT'] +  masterDF.at[i, 'IsoT']\n",
    "    if masterDF.at[i, 'IsoT'] is None or pd.isnull(masterDF.at[i, 'IsoT']):\n",
    "        masterDF.at[i, 'IsoT'] =  masterDF.at[i, 'TotalT'] -  masterDF.at[i, 'HeatT']\n",
    "    if masterDF.at[i, 'TotalT'] == 0:\n",
    "        masterDF.at[i, 'IsoT'] =  0\n",
    "        masterDF.at[i, 'HeatT'] =  0\n",
    "        \n",
    "masterDF['TotalT'].fillna(masterDF.at[i, 'HeatT'] +  masterDF.at[i, 'IsoT'])\n",
    "\n",
    "\n",
    "        \n",
    "masterDF['X'].fillna(0, inplace=True)\n",
    "\n",
    "#Converting Celsius to Kelvin\n",
    "masterDF['Temp'] = masterDF['Temp'] + 273.15\n",
    "\n",
    "#Making An Identifier Column to use instead of paper names\n",
    "unique_papers = masterDF['Source'].unique()\n",
    "paper_dict = dict(enumerate(unique_papers))\n",
    "#swapping key and values\n",
    "paper_dict = dict((v,k) for k,v in paper_dict.items())\n",
    "alphabet = string.ascii_uppercase\n",
    "\n",
    "masterDF['ID'] = masterDF['Source']\n",
    "for i in masterDF.index:\n",
    "    masterDF.at[i, 'ID'] = alphabet[paper_dict[masterDF.at[i, 'Source']]]\n",
    "\n",
    "#This makes everything numeric\n",
    "masterDF.to_csv(\"data.csv\", index=False)\n",
    "masterDF = pd.read_csv(\"data.csv\")\n",
    "\n",
    "\n",
    "#Creating Yield, Ro and P Factor\n",
    "masterDF['Yield'] = 100 * masterDF['X'] * masterDF['LSR'] / (1000 * (masterDF['F_X']/100)) #1000 is density of water in g/L, X is in g/L\n",
    "\n",
    "#P = exp(40.48 - 15106/T) * t, with T in Kelvin, t in hours\n",
    "masterDF['P'] = np.exp(40.48 - 15106/masterDF['Temp']) * masterDF['IsoT']/60\n",
    "masterDF['logP'] = masterDF['P']\n",
    "\n",
    "#Ro = t * exp((T - 100)/14.75), t in minutes, T in Celsius\n",
    "masterDF['Ro'] = masterDF['IsoT'] * np.exp(((masterDF['Temp'] -273.15) - 100)/14.75)\n",
    "masterDF['logRo'] = masterDF['Ro']\n",
    "\n",
    "for i in masterDF.index:\n",
    "    if masterDF.at[i, 'logRo'] != 0:\n",
    "        masterDF.at[i, 'logRo'] = np.log( masterDF.at[i, 'logRo'])\n",
    "    if masterDF.at[i, 'logP'] != 0:\n",
    "        masterDF.at[i, 'logP'] = np.log( masterDF.at[i, 'logP'])\n",
    "\n",
    "masterDF.to_csv(\"data.csv\", index=False)\n",
    "\n"
   ]
  },
  {
   "cell_type": "code",
   "execution_count": 5,
   "metadata": {
    "ExecuteTime": {
     "end_time": "2019-05-04T22:13:50.256776Z",
     "start_time": "2019-05-04T22:13:48.728335Z"
    }
   },
   "outputs": [
    {
     "name": "stdout",
     "output_type": "stream",
     "text": [
      "(784, 31)\n"
     ]
    },
    {
     "data": {
      "image/png": "[encoded data removed]",
      "text/plain": [
       "<Figure size 432x288 with 1 Axes>"
      ]
     },
     "metadata": {
      "needs_background": "light"
     },
     "output_type": "display_data"
    },
    {
     "data": {
      "text/plain": [
       "<Figure size 432x288 with 0 Axes>"
      ]
     },
     "metadata": {},
     "output_type": "display_data"
    },
    {
     "data": {
      "text/plain": [
       "<Figure size 432x288 with 0 Axes>"
      ]
     },
     "metadata": {},
     "output_type": "display_data"
    },
    {
     "data": {
      "text/plain": [
       "<Figure size 432x288 with 0 Axes>"
      ]
     },
     "metadata": {},
     "output_type": "display_data"
    },
    {
     "data": {
      "text/plain": [
       "<Figure size 432x288 with 0 Axes>"
      ]
     },
     "metadata": {},
     "output_type": "display_data"
    },
    {
     "data": {
      "image/png": "[encoded data removed]",
      "text/plain": [
       "<Figure size 432x288 with 1 Axes>"
      ]
     },
     "metadata": {},
     "output_type": "display_data"
    },
    {
     "name": "stdout",
     "output_type": "stream",
     "text": [
      "\n"
     ]
    }
   ],
   "source": [
    "import matplotlib.patches\n",
    "\n",
    "#Plotting Data\n",
    "data = pd.read_csv(\"data.csv\")\n",
    "\n",
    "##Making new columns\n",
    "\n",
    "\n",
    "targets = data['ID'].unique()\n",
    "targets.sort()\n",
    "def get_cmap(n, name='hsv'):\n",
    "    '''Returns a function that maps each index in 0, 1, ..., n-1 to a distinct \n",
    "    RGB color; the keyword argument name must be a standard mpl colormap name.'''\n",
    "    return plt.cm.get_cmap(name, n)\n",
    "\n",
    "colors = get_cmap(len(targets))\n",
    "colors2 = []\n",
    "\n",
    "for i in range(len(targets)):\n",
    "    colors2.append((colors(i)))\n",
    "\n",
    "X = data[['TotalT','Temp','LSR','CA','Size', 'Moisture', 'IsoT', 'HeatT', 'Ramp','F_X']]\n",
    "Y = data['X']\n",
    "\n",
    "# print(data.head())\n",
    "print(data.shape)\n",
    "# print(data['Yield'].max())\n",
    "#print(data['Yield'])\n",
    "\n",
    "if None in data['Yield']:\n",
    "    print(True)\n",
    "\n",
    "#Plotting\n",
    "fYield = plt.figure()\n",
    "fTempvYield = plt.figure()\n",
    "fAcidVYield = plt.figure()\n",
    "fRoVYield = plt.figure()\n",
    "fPVYield = plt.figure()\n",
    "fDataSource = plt.figure()\n",
    "\n",
    "axYield = fYield.add_subplot(111)\n",
    "axYield.hist(data['Yield'])\n",
    "# axYield.set_title(\"Histogram of Yield\")\n",
    "axYield.set_xlabel(\"Yield (%)\")\n",
    "\n",
    "\n",
    "fYield.savefig(\"YieldHist.png\", dpi=600)\n",
    "\n",
    "# axTempVYield = fTempvYield.add_subplot(111)\n",
    "# axTempVYield.scatter(data['Temp'], data['Yield'])\n",
    "# axTempVYield.set_title(\"Temp vs Yield\")\n",
    "\n",
    "# axAcidVYield = fAcidVYield.add_subplot(111)\n",
    "# axAcidVYield.scatter(data['CA'], data['Yield'])\n",
    "# axAcidVYield.set_title(\"Acid vs Yield\")\n",
    "\n",
    "# axRoVYield = fRoVYield.add_subplot(111)\n",
    "# axRoVYield.scatter(data['logRo'], data['Yield'])\n",
    "# axRoVYield.set_title(\"logRo vs Yield\")\n",
    "\n",
    "# axPVYield = fPVYield.add_subplot(111)\n",
    "# axPVYield.scatter(data['logP'], data['Yield'])\n",
    "# axPVYield.set_title(\"logP vs Yield\")\n",
    "\n",
    "sourceFreq = pd.value_counts(data['ID'])\n",
    "sourceFreq = sourceFreq.sort_index()\n",
    "\n",
    "axDataSource = fDataSource.add_subplot(111)\n",
    "\n",
    "explode = [0.01] * len(colors2)\n",
    "axDataSource.pie(sourceFreq.values, colors=colors2)\n",
    "# axDataSource.set_title(\"Distribution of Data by Source\")\n",
    "axDataSource.axis('equal')\n",
    "labels = sourceFreq.axes[0]\n",
    "\n",
    "\n",
    "# handles = []\n",
    "# for i, l in enumerate(labels):\n",
    "#     handles.append(matplotlib.patches.Patch(color=plt.cm.Set3((i)/8.), label=l))\n",
    "# axDataSource.legend(handles,labels, bbox_to_anchor=(0.85,1.025), loc=\"upper left\")\n",
    "\n",
    "axDataSource.legend(labels, bbox_to_anchor=(1,0.5), loc=6, fontsize=10, \n",
    "           bbox_transform=plt.gcf().transFigure)\n",
    "\n",
    "fDataSource.savefig(\"DistributionOfData.png\", dpi=600, bbox_inches='tight')\n",
    "\n",
    "plt.show()\n",
    "\n",
    "print()\n"
   ]
  },
  {
   "cell_type": "code",
   "execution_count": 6,
   "metadata": {
    "ExecuteTime": {
     "end_time": "2019-05-04T22:13:53.055449Z",
     "start_time": "2019-05-04T22:13:53.049500Z"
    }
   },
   "outputs": [],
   "source": [
    "# # axTempVYield = fTempvYield.add_subplot(111)\n",
    "# # axTempVYield.scatter(data['Temp'], data['Yield'])\n",
    "# # axTempVYield.set_title(\"Temp vs Yield\")\n",
    "\n",
    "# # axAcidVYield = fAcidVYield.add_subplot(111)\n",
    "# # axAcidVYield.scatter(data['CA'], data['Yield'])\n",
    "# # axAcidVYield.set_title(\"Acid vs Yield\")\n",
    "\n",
    "# # axRoVYield = fRoVYield.add_subplot(111)\n",
    "# # axRoVYield.scatter(data['logRo'], data['Yield'])\n",
    "# # axRoVYield.set_title(\"logRo vs Yield\")\n",
    "\n",
    "# # axPVYield = fPVYield.add_subplot(111)\n",
    "# # axPVYield.scatter(data['logP'], data['Yield'])\n",
    "# # axPVYield.set_title(\"logP vs Yield\")\n",
    "\n",
    "# sourceFreq = pd.value_counts(data['ID'])\n",
    "# sourceFreq = sourceFreq.sort_index()\n",
    "\n",
    "# axDataSource = fDataSource.add_subplot(111)\n",
    "# axDataSource.pie(sourceFreq.values)\n",
    "# axDataSource.set_title(\"Distribution of Data by Source\")\n",
    "# axDataSource.axis('equal')\n",
    "# labels = sourceFreq.axes[0]\n",
    "\n",
    "\n",
    "# # handles = []\n",
    "# # for i, l in enumerate(labels):\n",
    "# #     handles.append(matplotlib.patches.Patch(color=plt.cm.Set3((i)/8.), label=l))\n",
    "# # axDataSource.legend(handles,labels, bbox_to_anchor=(0.85,1.025), loc=\"upper left\")\n",
    "\n",
    "# axDataSource.legend(labels, bbox_to_anchor=(1,0.5), loc=6, fontsize=10, \n",
    "#            bbox_transform=plt.gcf().transFigure)\n",
    "\n",
    "# plt.savefig(\"DistributionOfData.png\", dpi=600)\n",
    "\n",
    "# plt.show()"
   ]
  },
  {
   "cell_type": "code",
   "execution_count": 7,
   "metadata": {
    "ExecuteTime": {
     "end_time": "2019-05-04T22:13:54.565474Z",
     "start_time": "2019-05-04T22:13:53.057444Z"
    }
   },
   "outputs": [
    {
     "name": "stderr",
     "output_type": "stream",
     "text": [
      "C:\\Anaconda3\\lib\\site-packages\\pandas\\core\\indexing.py:362: SettingWithCopyWarning: \n",
      "A value is trying to be set on a copy of a slice from a DataFrame.\n",
      "Try using .loc[row_indexer,col_indexer] = value instead\n",
      "\n",
      "See the caveats in the documentation: http://pandas.pydata.org/pandas-docs/stable/indexing.html#indexing-view-versus-copy\n",
      "  self.obj[key] = _infer_fill_value(value)\n",
      "C:\\Anaconda3\\lib\\site-packages\\pandas\\core\\indexing.py:543: SettingWithCopyWarning: \n",
      "A value is trying to be set on a copy of a slice from a DataFrame.\n",
      "Try using .loc[row_indexer,col_indexer] = value instead\n",
      "\n",
      "See the caveats in the documentation: http://pandas.pydata.org/pandas-docs/stable/indexing.html#indexing-view-versus-copy\n",
      "  self.obj[item] = s\n",
      "C:\\Anaconda3\\lib\\site-packages\\pandas\\core\\indexing.py:362: SettingWithCopyWarning: \n",
      "A value is trying to be set on a copy of a slice from a DataFrame.\n",
      "Try using .loc[row_indexer,col_indexer] = value instead\n",
      "\n",
      "See the caveats in the documentation: http://pandas.pydata.org/pandas-docs/stable/indexing.html#indexing-view-versus-copy\n",
      "  self.obj[key] = _infer_fill_value(value)\n",
      "C:\\Anaconda3\\lib\\site-packages\\pandas\\core\\indexing.py:543: SettingWithCopyWarning: \n",
      "A value is trying to be set on a copy of a slice from a DataFrame.\n",
      "Try using .loc[row_indexer,col_indexer] = value instead\n",
      "\n",
      "See the caveats in the documentation: http://pandas.pydata.org/pandas-docs/stable/indexing.html#indexing-view-versus-copy\n",
      "  self.obj[item] = s\n"
     ]
    }
   ],
   "source": [
    "#Prepping Data\n",
    "from sklearn.model_selection import train_test_split\n",
    "from sklearn.preprocessing import StandardScaler\n",
    "\n",
    "\n",
    "data = data.sample(frac=1).reset_index(drop=True)\n",
    "XLabels = ['TotalT','Temp','LSR','CA','Size', 'Moisture', 'IsoT', 'HeatT', 'Ramp','F_X', 'Ro', 'logRo', 'P']\n",
    "X = data[XLabels]\n",
    "# y = data['Yield']\n",
    "\n",
    "#Scaling X\n",
    "sc = StandardScaler()\n",
    "X = sc.fit_transform(X)  \n",
    "\n",
    "# X_train, X_test, y_train, y_test = train_test_split(X, y, test_size=0.3, random_state=0)\n",
    "# X_valid, X_test, y_valid, y_test = train_test_split(X_test, y_test, test_size=0.5, random_state=0)\n",
    "\n",
    "# print(len(X_train), len(X_test), len(X_valid))\n",
    "# print(X_train)\n",
    "\n",
    "# plt.hist(y_train)\n",
    "\n",
    "numData = len(data.index)\n",
    "numTrain = int(numData * 0.7)\n",
    "numTest = int(numData * .15) \n",
    "# print(numTest, numTrain)\n",
    "train_Frame, valid_Frame, test_Frame, train_valid_Frame = data.iloc[:numTrain, :], data.iloc[numTrain:-numTest, :], data.iloc[-numTest:, :], data.iloc[:-numTest:, :]\n",
    "\n",
    "\n",
    "#Calculating Sample Weight\n",
    "bins = train_Frame['Yield'].value_counts(bins=10)\n",
    "\n",
    "for i in train_Frame.index:\n",
    "    for j in bins.index:\n",
    "        if int(train_Frame.at[i, 'Yield']) in j:\n",
    "            train_Frame.at[i, 'Sample_Weight'] = 100/bins[j].item()\n",
    "            \n",
    "bins = train_valid_Frame['Yield'].value_counts(bins=10)\n",
    "\n",
    "for i in train_valid_Frame.index:\n",
    "    for j in bins.index:\n",
    "        if int(train_valid_Frame.at[i, 'Yield']) in j:\n",
    "            train_valid_Frame.at[i, 'Sample_Weight'] = 100/bins[j].item()\n",
    "\n",
    "\n",
    "\n",
    "#print(train_Frame.head())\n",
    "\n",
    "y_train, y_valid, y_test, y_train_valid = train_Frame['Yield'], valid_Frame['Yield'], test_Frame['Yield'], train_valid_Frame['Yield']\n",
    "\n",
    "X_train, X_valid, X_test, X_train_valid = X[:numTrain, :], X[numTrain:-numTest, :], X[-numTest:, :], X[:-numTest, :]\n",
    "\n",
    "train_weights = train_Frame['Sample_Weight']\n",
    "train_valid_weights = train_valid_Frame['Sample_Weight']\n",
    "\n",
    "\n"
   ]
  },
  {
   "cell_type": "code",
   "execution_count": 8,
   "metadata": {
    "ExecuteTime": {
     "end_time": "2019-05-04T22:13:56.390164Z",
     "start_time": "2019-05-04T22:13:54.567406Z"
    }
   },
   "outputs": [
    {
     "name": "stdout",
     "output_type": "stream",
     "text": [
      "<class 'numpy.ndarray'> <class 'pandas.core.series.Series'>\n",
      "average 51.04778219436585\n",
      "Mean Absolute Error: 12.031076035017128\n",
      "Mean Squared Error: 252.09706687122366\n",
      "Root Mean Squared Error: 15.877564891104166\n"
     ]
    },
    {
     "data": {
      "image/png": "[encoded data removed]",
      "text/plain": [
       "<Figure size 432x288 with 1 Axes>"
      ]
     },
     "metadata": {
      "needs_background": "light"
     },
     "output_type": "display_data"
    }
   ],
   "source": [
    "#Multiple Linear Regression Simple\n",
    "from sklearn import linear_model\n",
    "import statsmodels.api as sm\n",
    "from sklearn import metrics\n",
    "\n",
    "# with sklearn\n",
    "\n",
    "# print(type(X_train))\n",
    "# np.savetxt(\"temp.csv\", X_train)\n",
    "print(type(X_train), type(y_train))\n",
    "\n",
    "\n",
    "# print(np.isnan(X_train))\n",
    "np.argwhere(np.isnan(X_train))\n",
    "#print(X_train)\n",
    "\n",
    "regr = linear_model.LinearRegression()\n",
    "# regr.fit(X_train_valid, y_train_valid, sample_weight=train_valid_weights)\n",
    "regr.fit(X_train_valid, y_train_valid)\n",
    "\n",
    "coeffs = dict(zip(XLabels, regr.coef_))\n",
    "\n",
    "# print(\"results of SKLearnLinearRegression----------------\")\n",
    "# print('Intercept: \\n', regr.intercept_)\n",
    "# print('Coefficients: \\n', coeffs)\n",
    "# print('Score', regr.score(X,Y))\n",
    "y_pred = regr.predict(X_test)\n",
    "\n",
    "\n",
    "predAndActual = pd.DataFrame({'Pred' : y_pred, 'Test': y_test})\n",
    "predAndActual.to_csv(\"OverallSimpleLinear.csv\")\n",
    "\n",
    "\n",
    "print('average', y_test.mean())\n",
    "print('Mean Absolute Error:', metrics.mean_absolute_error(y_test, y_pred))  \n",
    "print('Mean Squared Error:', metrics.mean_squared_error(y_test, y_pred))  \n",
    "print('Root Mean Squared Error:', np.sqrt(metrics.mean_squared_error(y_test, y_pred)))\n",
    "#print(\"Coefficients: \", best_model.coef_)\n",
    "\n",
    "error_arr = abs(y_test - y_pred)\n",
    "#plt.hist(error_arr)\n",
    "#plt.scatter(y_test, y_pred)\n",
    "\n",
    "\n",
    "for index, target in enumerate(targets):\n",
    "    indicesToKeep = test_Frame['ID'] == target\n",
    "    plt.scatter(y_test.values[indicesToKeep]\n",
    "               , y_pred[indicesToKeep]\n",
    "               , c = colors(index)\n",
    "               , s = 50)\n",
    "    \n",
    "t = np.linspace(0, 100, 400)\n",
    "line = t\n",
    "plt.legend(targets, bbox_to_anchor=(1,0.5), loc=6, fontsize=10, \n",
    "           bbox_transform=plt.gcf().transFigure)\n",
    "plt.plot(t, line, 'k', ls='dashed')\n",
    "\n",
    "\n",
    "# plt.ylim(np.min((np.min([np.min(y_test), np.min(y_pred)]))), np.max((np.max([np.max(y_test), np.max(y_pred)]))))\n",
    "# plt.xlim(np.min((np.min([np.min(y_test), np.min(y_pred)]))), np.max((np.max([np.max(y_test), np.max(y_pred)]))))\n",
    "plt.ylim(0, 100)\n",
    "plt.xlim(0, 100)\n",
    "\n",
    "plt.xlabel(\"Actual Yield\")\n",
    "plt.ylabel('Predicted Yield')\n",
    "plt.title(\"Predicted vs Actual Yield -  Linear Regression\")\n",
    "plt.savefig(\"LinearRegression.png\", dpi=600, bbox_inches='tight')\n"
   ]
  },
  {
   "cell_type": "code",
   "execution_count": 9,
   "metadata": {
    "ExecuteTime": {
     "end_time": "2019-05-04T22:13:57.700901Z",
     "start_time": "2019-05-04T22:13:56.391713Z"
    }
   },
   "outputs": [
    {
     "name": "stdout",
     "output_type": "stream",
     "text": [
      "best alpha is:  0.5\n",
      "Lowest Error In Validation _MSE_  13.170611094122446\n",
      "average 51.04778219436585\n",
      "Mean Absolute Error: 11.837969439182277\n",
      "Mean Squared Error: 247.93145863294382\n",
      "Root Mean Squared Error: 15.745839407060641\n",
      "Coefficients:  [-5.27876853e-01 -1.68493416e+01  2.84530918e+00  8.66165358e+00\n",
      " -4.08358982e-02  1.11467324e+01  1.08311989e+00 -8.05865072e+00\n",
      "  4.85210938e+00 -9.16532806e+00 -4.20280270e+01  1.43482102e+01\n",
      "  3.98576662e+01]\n"
     ]
    },
    {
     "data": {
      "image/png": "[encoded data removed]",
      "text/plain": [
       "<Figure size 432x288 with 1 Axes>"
      ]
     },
     "metadata": {
      "needs_background": "light"
     },
     "output_type": "display_data"
    }
   ],
   "source": [
    "#Linear Least Square with I2 regularization\n",
    "#Ridge\n",
    "from sklearn.linear_model import Ridge\n",
    "from sklearn import metrics\n",
    "\n",
    "\n",
    "#alphas = [0]\n",
    "alphas = [0, 0.001, 0.005, 0.01, 0.05, 0.1, 0.5, 1, 5, 10, 100]\n",
    "errors = []\n",
    "\n",
    "#Creating Different models for different alphas\n",
    "for a in alphas:\n",
    "    ridgeModel = Ridge(alpha=a)\n",
    "    ridgeModel.fit(X_train, y_train) \n",
    "    y_pred = ridgeModel.predict(X_valid)\n",
    "    error =  metrics.mean_absolute_error(y_valid, y_pred)\n",
    "    errors.append(error)\n",
    "    \n",
    "\n",
    "best_alpha = alphas[np.argmin(errors)]\n",
    "print(\"best alpha is: \",best_alpha)\n",
    "print(\"Lowest Error In Validation _MSE_ \", np.min(errors))\n",
    "\n",
    "best_model = Ridge(alpha=best_alpha)\n",
    "# best_model.fit(X_train_valid, y_train_valid, sample_weight=train_valid_weights)\n",
    "best_model.fit(X_train_valid, y_train_valid)\n",
    "y_pred = best_model.predict(X_test)\n",
    "\n",
    "\n",
    "predAndActual = pd.DataFrame({'Pred' : y_pred, 'Test': y_test})\n",
    "predAndActual.to_csv(\"OverallRidge.csv\")\n",
    "    \n",
    "#Evaluation\n",
    "print('average', y_test.mean())\n",
    "print('Mean Absolute Error:', metrics.mean_absolute_error(y_test, y_pred))  \n",
    "print('Mean Squared Error:', metrics.mean_squared_error(y_test, y_pred))  \n",
    "print('Root Mean Squared Error:', np.sqrt(metrics.mean_squared_error(y_test, y_pred)))\n",
    "print(\"Coefficients: \", best_model.coef_)\n",
    "\n",
    "error_arr = abs(y_test - y_pred)\n",
    "#plt.hist(error_arr)\n",
    "#plt.scatter(y_test, y_pred)\n",
    "\n",
    "for index, target in enumerate(targets):\n",
    "    indicesToKeep = test_Frame['ID'] == target\n",
    "    plt.scatter(y_test.values[indicesToKeep]\n",
    "               , y_pred[indicesToKeep]\n",
    "               , c = colors(index)\n",
    "               , s = 50)\n",
    "    \n",
    "t = np.linspace(0, 100, 400)\n",
    "line = t\n",
    "\n",
    "\n",
    "plt.legend(targets, bbox_to_anchor=(1,0.5), loc=6, fontsize=10, \n",
    "           bbox_transform=plt.gcf().transFigure)\n",
    "plt.plot(t, line, 'k', ls='dashed')\n",
    "\n",
    "\n",
    "# plt.ylim(np.min((np.min([np.min(y_test), np.min(y_pred)]))), np.max((np.max([np.max(y_test), np.max(y_pred)]))))\n",
    "# plt.xlim(np.min((np.min([np.min(y_test), np.min(y_pred)]))), np.max((np.max([np.max(y_test), np.max(y_pred)]))))\n",
    "plt.ylim(0, 100)\n",
    "plt.xlim(0, 100)\n",
    "\n",
    "plt.xlabel(\"Actual Yield\")\n",
    "plt.ylabel('Predicted Yield')\n",
    "plt.title(\"Predicted vs Actual Yield -  Ridge Regression\")\n",
    "plt.savefig(\"Ridge\", dpi=600, bbox_inches='tight')\n",
    "\n"
   ]
  },
  {
   "cell_type": "code",
   "execution_count": 10,
   "metadata": {
    "ExecuteTime": {
     "end_time": "2019-05-04T22:14:00.211590Z",
     "start_time": "2019-05-04T22:13:57.702859Z"
    },
    "scrolled": true
   },
   "outputs": [
    {
     "name": "stdout",
     "output_type": "stream",
     "text": [
      "Lowest Error In Validation _MSE_  6.912592645166243\n",
      "Best kernel is:  rbf\n",
      "Best Epsilon is:  0.1\n",
      "Best C is:  20\n",
      "Best Gamma is:  scale\n",
      "average 51.04778219436585\n",
      "Mean Absolute Error: 5.47344745710176\n",
      "Mean Squared Error: 78.23598655769038\n",
      "Root Mean Squared Error: 8.845110884420295\n"
     ]
    },
    {
     "data": {
      "image/png": "[encoded data removed]",
      "text/plain": [
       "<Figure size 432x288 with 1 Axes>"
      ]
     },
     "metadata": {
      "needs_background": "light"
     },
     "output_type": "display_data"
    }
   ],
   "source": [
    "#SVM Models\n",
    "from sklearn.svm import SVR\n",
    "\n",
    "\n",
    "kernels =  ['poly', 'rbf', 'linear']\n",
    "epsilons = [0.1,5,10, 20]\n",
    "Cs = [0.1,1,10, 20]\n",
    "gammas = ['scale', 'auto']\n",
    "errors = []\n",
    "\n",
    "for kern in kernels:\n",
    "    for ep in epsilons:\n",
    "        for C_ in Cs:\n",
    "            for gam in gammas:\n",
    "                svrModel = SVR(kernel=kern, gamma=gam, epsilon=ep, cache_size=2000, C=C_)\n",
    "#                 svrModel.fit(X_train, y_train, sample_weight=train_weights)\n",
    "                svrModel.fit(X_train, y_train)\n",
    "                y_pred = svrModel.predict(X_valid)\n",
    "                error =  metrics.mean_absolute_error(y_valid, y_pred)\n",
    "                errors.append(error)\n",
    "        \n",
    "\n",
    "index_of_lowest_error = np.argmin(errors)\n",
    "print(\"Lowest Error In Validation _MSE_ \", np.min(errors))\n",
    "\n",
    "best_kernel = kernels[int(index_of_lowest_error / (len(epsilons) * len(Cs) * len(gammas)))] #Good\n",
    "best_ep = epsilons[int((index_of_lowest_error % (len(epsilons) *len(Cs) * len(gammas)))/(len(Cs) *len(gammas)))] #Good\n",
    "best_C = Cs[int((index_of_lowest_error % (len(Cs) * len(gammas)))/len(gammas))] #Good \n",
    "best_gamma = gammas[index_of_lowest_error % len(gammas)]\n",
    "\n",
    "print(\"Best kernel is: \", best_kernel)\n",
    "print(\"Best Epsilon is: \", best_ep)\n",
    "print(\"Best C is: \", best_C)\n",
    "print(\"Best Gamma is: \", best_gamma)\n",
    "\n",
    "\n",
    "# # Make it run a little faster, hardcode best\n",
    "# best_kernel = 'rbf'\n",
    "# best_ep = 5\n",
    "# best_C = 20\n",
    "# best_gamma = 'auto'\n",
    "\n",
    "\n",
    "best_model = SVR(kernel=best_kernel, gamma=best_gamma, epsilon=best_ep, cache_size=2000, C=best_C)\n",
    "# best_model.fit(X_train_valid, y_train_valid, sample_weight=train_valid_weights)\n",
    "best_model.fit(X_train_valid, y_train_valid)\n",
    "y_pred = best_model.predict(X_test)\n",
    "\n",
    "\n",
    "predAndActual = pd.DataFrame({'Pred' : y_pred, 'Test': y_test})\n",
    "predAndActual.to_csv(\"OverallSVR.csv\")\n",
    "\n",
    "print('average', y_test.mean())\n",
    "print('Mean Absolute Error:', metrics.mean_absolute_error(y_test, y_pred))  \n",
    "print('Mean Squared Error:', metrics.mean_squared_error(y_test, y_pred))  \n",
    "print('Root Mean Squared Error:', np.sqrt(metrics.mean_squared_error(y_test, y_pred)))\n",
    "\n",
    "error_arr = abs(y_test - y_pred)\n",
    "#plt.hist(error_arr)\n",
    "#plt.scatter(y_test, y_pred)\n",
    "\n",
    "\n",
    "for index, target in enumerate(targets):\n",
    "    indicesToKeep = test_Frame['ID'] == target\n",
    "    plt.scatter(y_test.values[indicesToKeep]\n",
    "               , y_pred[indicesToKeep]\n",
    "               , c = colors(index)\n",
    "               , s = 50)\n",
    "    \n",
    "t = np.linspace(0, 100, 400)\n",
    "line = t\n",
    "\n",
    "\n",
    "plt.legend(targets, bbox_to_anchor=(1,0.5), loc=6, fontsize=10, \n",
    "           bbox_transform=plt.gcf().transFigure)\n",
    "\n",
    "plt.plot(t, line, 'k', ls='dashed')\n",
    "\n",
    "\n",
    "# plt.ylim(np.min((np.min([np.min(y_test), np.min(y_pred)]))), np.max((np.max([np.max(y_test), np.max(y_pred)]))))\n",
    "# plt.xlim(np.min((np.min([np.min(y_test), np.min(y_pred)]))), np.max((np.max([np.max(y_test), np.max(y_pred)]))))\n",
    "plt.ylim(0, 100)\n",
    "plt.xlim(0, 100)\n",
    "\n",
    "# vectors = np.asarray(best_model.support_vectors_)\n",
    "# print(vectors.shape)\n",
    "# print(vectors)\n",
    "\n",
    "plt.xlabel(\"Actual Yield\")\n",
    "plt.ylabel('Predicted Yield')\n",
    "plt.title(\"Predicted vs Actual Yield -  Support Vector Regression\")\n",
    "plt.savefig(\"SVR.png\", dpi=600, bbox_inches='tight')\n"
   ]
  },
  {
   "cell_type": "code",
   "execution_count": null,
   "metadata": {
    "ExecuteTime": {
     "start_time": "2019-05-04T22:13:53.060Z"
    }
   },
   "outputs": [
    {
     "name": "stderr",
     "output_type": "stream",
     "text": [
      "Using TensorFlow backend.\n"
     ]
    }
   ],
   "source": [
    "#Keras\n",
    "from keras.models import Sequential\n",
    "from keras.layers import Dense, Dropout\n",
    "from keras.optimizers import SGD\n",
    "\n",
    "\n",
    "learningRates = [0.002, 0.005, 0.01, 0.02]\n",
    "batchSizes = [64, 128, 256, 512, 1024]\n",
    "dropoutRates = [0.00, 0.001, 0.01, 0.1]\n",
    "errors = []\n",
    "\n",
    "for lr_ in learningRates:\n",
    "    for bs in batchSizes:\n",
    "        for dr in dropoutRates:\n",
    "            model = Sequential()\n",
    "            model.add(Dense(units=12, activation='sigmoid', input_dim=13))\n",
    "            model.add(Dropout(dr))\n",
    "            model.add(Dense(units=12, activation='sigmoid'))\n",
    "            model.add(Dense(units=6, activation='sigmoid'))\n",
    "            model.add(Dense(units=6, activation='sigmoid'))\n",
    "            model.add(Dense(units=1, activation='softplus'))\n",
    "\n",
    "            sgd = SGD(lr=lr_)  \n",
    "            model.compile(loss='mean_squared_error', optimizer=sgd, metrics=['accuracy'])\n",
    "\n",
    "#             model.fit(X_train, y_train, sample_weight=train_weights, epochs=3000, batch_size=bs ,verbose=0)\n",
    "            model.fit(X_train, y_train, epochs=3000, batch_size=bs ,verbose=0)\n",
    "\n",
    "\n",
    "#             loss_and_metrics = model.evaluate(X_valid, y_valid, batch_size=bs)\n",
    "\n",
    "            y_pred = model.predict(X_valid, batch_size=bs)\n",
    "            y_pred = y_pred.flatten()\n",
    "\n",
    "            error =  metrics.mean_absolute_error(y_valid, y_pred)\n",
    "            errors.append(error)\n",
    "            \n",
    "\n",
    "index_of_lowest_error = np.argmin(errors)\n",
    "print(\"Lowest Error In Validation _MSE_ \", np.min(errors))\n",
    "    \n",
    "best_lr = learningRates[int(index_of_lowest_error / (len(batchSizes) * len(dropoutRates)))] #Good\n",
    "best_bs = batchSizes[int((index_of_lowest_error % (len(batchSizes) * len(dropoutRates)))/len(dropoutRates))] #Good\n",
    "best_dr = dropoutRates[index_of_lowest_error % len(dropoutRates)] #Good \n",
    "print(\"Best Learning Rate is: \",best_lr)\n",
    "print(\"Best Batch Size is: \", best_bs)\n",
    "print(\"Best Dropout Rate is: \", best_dr)    \n",
    "\n",
    "#Using best values\n",
    "\n",
    "model = Sequential()\n",
    "model.add(Dense(units=12, activation='sigmoid', input_dim=13))\n",
    "model.add(Dropout(best_dr))\n",
    "model.add(Dense(units=12, activation='sigmoid'))\n",
    "model.add(Dense(units=6, activation='sigmoid'))\n",
    "model.add(Dense(units=6, activation='sigmoid'))\n",
    "model.add(Dense(units=1, activation='softplus'))\n",
    "\n",
    "sgd = SGD(lr=best_lr)  \n",
    "model.compile(loss='mean_squared_error', optimizer=sgd, metrics=['accuracy'])\n",
    "\n",
    "model.fit(X_train_valid, y_train_valid, sample_weight=train_valid_weights, epochs=3000, batch_size=best_bs ,verbose=0)\n",
    "\n",
    "# loss_and_metrics = model.evaluate(X_test, y_test,batch_size=best_bs)\n",
    "\n",
    "y_pred = model.predict(X_test, batch_size=bs)\n",
    "y_pred = y_pred.flatten()\n",
    "\n",
    "\n",
    "print('average', y_test.mean())\n",
    "print('Mean Absolute Error:', metrics.mean_absolute_error(y_test, y_pred))  \n",
    "print('Mean Squared Error:', metrics.mean_squared_error(y_test, y_pred))  \n",
    "print('Root Mean Squared Error:', np.sqrt(metrics.mean_squared_error(y_test, y_pred)))\n",
    "\n",
    "error_arr = abs(y_test - y_pred)\n",
    "#plt.hist(error_arr)\n",
    "#plt.scatter(y_test, y_pred)\n",
    "\n",
    "\n",
    "for index, target in enumerate(targets):\n",
    "    indicesToKeep = test_Frame['ID'] == target\n",
    "    plt.scatter(y_test.values[indicesToKeep]\n",
    "               , y_pred[indicesToKeep]\n",
    "               , c = colors(index)\n",
    "               , s = 50)\n",
    "    \n",
    "t = np.linspace(0, 100, 400)\n",
    "line = t\n",
    "\n",
    "    \n",
    "plt.legend(targets, bbox_to_anchor=(1,0.5), loc=6, fontsize=10, \n",
    "           bbox_transform=plt.gcf().transFigure)\n",
    "\n",
    "plt.plot(t, line, 'k', ls='dashed')\n",
    "\n",
    "\n",
    "# plt.ylim(np.min((np.min([np.min(y_test), np.min(y_pred)]))), np.max((np.max([np.max(y_test), np.max(y_pred)]))))\n",
    "# plt.xlim(np.min((np.min([np.min(y_test), np.min(y_pred)]))), np.max((np.max([np.max(y_test), np.max(y_pred)]))))\n",
    "plt.ylim(0, 100)\n",
    "plt.xlim(0, 100)\n",
    "\n",
    "\n",
    "plt.xlabel(\"Actual Yield\")\n",
    "plt.ylabel('Predicted Yield')\n",
    "plt.title(\"Predicted vs Actual Yield - Neural Network\")\n",
    "plt.savefig(\"NN.png\", dpi=600, bbox_inches='tight')\n",
    "\n",
    "\n",
    "predAndActual = pd.DataFrame({'Pred' : y_pred, 'Test': y_test})\n",
    "predAndActual.to_csv(\"OverallNN.csv\")\n",
    "\n"
   ]
  },
  {
   "cell_type": "code",
   "execution_count": null,
   "metadata": {
    "ExecuteTime": {
     "start_time": "2019-05-04T22:13:53.062Z"
    }
   },
   "outputs": [],
   "source": [
    "##Testing Appropraite Parameter Selection\n",
    "\n",
    "test = [0, 1, 2, 3, 4, 5, 6, 7, 8, 9, 10, 11, 12, 13, 14, 15, 16, 17, 18, 19, 20, 21, 22, 23]\n",
    "for i in test:\n",
    "    kern = int(i/(3 * 2 * 2))\n",
    "    ep = int(i%(3*2*2)/(2*2))\n",
    "    c = int((i%(2*2))/2)\n",
    "    gam = i%2\n",
    "    print(i,kern, ep, c, gam)"
   ]
  },
  {
   "cell_type": "code",
   "execution_count": null,
   "metadata": {
    "ExecuteTime": {
     "start_time": "2019-05-04T22:13:53.065Z"
    }
   },
   "outputs": [],
   "source": [
    "##Testing Appropraite Parameter Selection\n",
    "\n",
    "test = [0, 1, 2, 3, 4, 5, 6, 7, 8, 9, 10, 11, 12, 13, 14, 15, 16, 17, 18, 19, 20, 21, 22, 23]\n",
    "for i in test:\n",
    "    kern = int(i/(3*4))\n",
    "    ep = int(i%(3*4)/4)\n",
    "    c = i % 4\n",
    "    print(i,kern, ep, c)"
   ]
  }
 ],
 "metadata": {
  "kernelspec": {
   "display_name": "Python 3",
   "language": "python",
   "name": "python3"
  },
  "language_info": {
   "codemirror_mode": {
    "name": "ipython",
    "version": 3
   },
   "file_extension": ".py",
   "mimetype": "text/x-python",
   "name": "python",
   "nbconvert_exporter": "python",
   "pygments_lexer": "ipython3",
   "version": "3.6.6"
  }
 },
 "nbformat": 4,
 "nbformat_minor": 2
}
