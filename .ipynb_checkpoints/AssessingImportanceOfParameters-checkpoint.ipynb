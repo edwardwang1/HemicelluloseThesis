{
 "cells": [
  {
   "cell_type": "code",
   "execution_count": 13,
   "metadata": {
    "ExecuteTime": {
     "end_time": "2019-05-04T22:02:14.543453Z",
     "start_time": "2019-05-04T22:02:14.176672Z"
    }
   },
   "outputs": [],
   "source": [
    "from openpyxl import Workbook\n",
    "from openpyxl import load_workbook\n",
    "import os\n",
    "import pandas as pd\n",
    "import numpy as np\n",
    "import matplotlib.pyplot as plt\n",
    "import math\n",
    "from sklearn.model_selection import train_test_split\n",
    "from sklearn.preprocessing import StandardScaler\n",
    "from sklearn import metrics\n",
    "import statsmodels.api as sm\n",
    "from sklearn import metrics\n",
    "from random import shuffle\n",
    "from keras.models import Sequential\n",
    "from keras.layers import Dense, Dropout\n",
    "from keras.optimizers import SGD\n",
    "from sklearn.svm import SVR"
   ]
  },
  {
   "cell_type": "code",
   "execution_count": 18,
   "metadata": {
    "ExecuteTime": {
     "end_time": "2019-05-04T22:09:58.598103Z",
     "start_time": "2019-05-04T22:09:58.565184Z"
    }
   },
   "outputs": [
    {
     "name": "stdout",
     "output_type": "stream",
     "text": [
      "<class 'numpy.ndarray'>\n"
     ]
    }
   ],
   "source": [
    "data = pd.read_csv(\"data.csv\")\n",
    "data = data.sample(frac=1).reset_index(drop=True)\n",
    "pd.options.mode.chained_assignment = None\n",
    "\n",
    "\n",
    "XLabels = ['TotalT','Temp','LSR','CA','Size', 'Moisture', 'IsoT', 'HeatT', 'Ramp','F_X']\n",
    "#XLabels = ['TotalT','Temp','LSR','CA','Size', 'Moisture', 'IsoT', 'HeatT', 'Ramp','F_X', 'Ro', 'logRo', 'P', 'logP']\n",
    "X = data[XLabels]\n",
    "#Scaling X\n",
    "sc = StandardScaler()\n",
    "X = sc.fit_transform(X)\n",
    "data[XLabels] = X\n",
    "\n",
    "\n",
    "print(type(X))\n",
    "\n",
    "numData = len(data.index)\n",
    "numTrain = int(numData * 0.7)\n",
    "numTest = int(numData * .15) \n",
    "# print(numTest, numTrain)\n",
    "train_Frame, valid_Frame, test_Frame, train_valid_Frame = data.iloc[:numTrain, :], data.iloc[numTrain:-numTest, :], data.iloc[-numTest:, :], data.iloc[:-numTest:, :]\n",
    "\n",
    "\n",
    "\n"
   ]
  },
  {
   "cell_type": "code",
   "execution_count": 32,
   "metadata": {
    "ExecuteTime": {
     "end_time": "2019-05-04T22:30:14.895682Z",
     "start_time": "2019-05-04T22:29:57.667639Z"
    }
   },
   "outputs": [
    {
     "name": "stdout",
     "output_type": "stream",
     "text": [
      "TotalT\n",
      "Lowest Error In Validation _MSE_  4.574639408985854\n",
      "Temp\n",
      "Lowest Error In Validation _MSE_  5.257594875335756\n",
      "LSR\n",
      "Lowest Error In Validation _MSE_  4.7915433016307905\n",
      "CA\n",
      "Lowest Error In Validation _MSE_  5.402810742223344\n",
      "Size\n",
      "Lowest Error In Validation _MSE_  4.853401487102534\n",
      "Moisture\n",
      "Lowest Error In Validation _MSE_  4.613868914092619\n",
      "IsoT\n",
      "Lowest Error In Validation _MSE_  4.580908736540175\n",
      "HeatT\n",
      "Lowest Error In Validation _MSE_  4.652493522308055\n",
      "Ramp\n",
      "Lowest Error In Validation _MSE_  4.526310296726402\n",
      "F_X\n",
      "Lowest Error In Validation _MSE_  4.551477251379636\n",
      "Ro\n",
      "Lowest Error In Validation _MSE_  4.5887085246915165\n",
      "logRo\n",
      "Lowest Error In Validation _MSE_  5.29923795329283\n",
      "P\n",
      "Lowest Error In Validation _MSE_  4.593361553606717\n",
      "logP\n",
      "Lowest Error In Validation _MSE_  5.315451047494559\n"
     ]
    },
    {
     "data": {
      "text/plain": [
       "<matplotlib.axes._subplots.AxesSubplot at 0x1baf5e629e8>"
      ]
     },
     "execution_count": 32,
     "metadata": {},
     "output_type": "execute_result"
    },
    {
     "data": {
      "image/png": "[encoded data removed]",
      "text/plain": [
       "<Figure size 432x288 with 1 Axes>"
      ]
     },
     "metadata": {
      "needs_background": "light"
     },
     "output_type": "display_data"
    }
   ],
   "source": [
    "#SVR\n",
    "\n",
    "resultsFrame = pd.DataFrame(columns=['Param', 'MAE', 'STDAE'])\n",
    "\n",
    "for i in XLabels:\n",
    "    print(i)\n",
    "    remainingX = XLabels.copy()\n",
    "    remainingX.remove(i)\n",
    "    \n",
    "    X = data[remainingX].values\n",
    "    y_train, y_valid, y_test, y_train_valid = train_Frame['Yield'], valid_Frame['Yield'], test_Frame['Yield'], train_valid_Frame['Yield']\n",
    "    X_train, X_valid, X_test, X_train_valid = X[:numTrain, :], X[numTrain:-numTest, :], X[-numTest:, :], X[:-numTest, :]\n",
    "\n",
    "    \n",
    "    kernels =  ['poly', 'rbf', 'linear']\n",
    "    epsilons = [0.1,5,10, 20]\n",
    "    Cs = [0.1,1,10, 20]\n",
    "    gammas = ['scale', 'auto']\n",
    "    errors = []\n",
    "\n",
    "    for kern in kernels:\n",
    "        for ep in epsilons:\n",
    "            for C_ in Cs:\n",
    "                for gam in gammas:\n",
    "                    svrModel = SVR(kernel=kern, gamma=gam, epsilon=ep, cache_size=2000, C=C_)\n",
    "    #                 svrModel.fit(X_train, y_train, sample_weight=train_weights)\n",
    "                    svrModel.fit(X_train, y_train)\n",
    "                    y_pred = svrModel.predict(X_valid)\n",
    "                    error =  metrics.mean_absolute_error(y_valid, y_pred)\n",
    "                    errors.append(error)\n",
    "\n",
    "\n",
    "    index_of_lowest_error = np.argmin(errors)\n",
    "    print(\"Lowest Error In Validation _MSE_ \", np.min(errors))\n",
    "\n",
    "    best_kernel = kernels[int(index_of_lowest_error / (len(epsilons) * len(Cs) * len(gammas)))] #Good\n",
    "    best_ep = epsilons[int((index_of_lowest_error % (len(epsilons) *len(Cs) * len(gammas)))/(len(Cs) *len(gammas)))] #Good\n",
    "    best_C = Cs[int((index_of_lowest_error % (len(Cs) * len(gammas)))/len(gammas))] #Good \n",
    "    best_gamma = gammas[int(index_of_lowest_error % len(gammas))]\n",
    "\n",
    "#     print(\"Best kernel is: \", best_kernel)\n",
    "#     print(\"Best Epsilon is: \", best_ep)\n",
    "#     print(\"Best C is: \", best_C)\n",
    "#     print(\"Best Gamma is: \", best_gamma)\n",
    "\n",
    "\n",
    "\n",
    "    best_model = SVR(kernel=best_kernel, gamma=best_gamma, epsilon=best_ep, cache_size=2000, C=best_C)\n",
    "    # best_model.fit(X_train_valid, y_train_valid, sample_weight=train_valid_weights)\n",
    "    best_model.fit(X_train_valid, y_train_valid)\n",
    "    y_pred = best_model.predict(X_test)\n",
    "\n",
    "    \n",
    "    error = metrics.mean_absolute_error(y_test, y_pred)\n",
    "    diff = np.absolute(y_test - y_pred)\n",
    "    stdev = np.std(diff)\n",
    "    \n",
    "    row = [[i, error, stdev]]\n",
    "    tempDf = pd.DataFrame(row, columns=['Param', 'MAE', 'STDAE'])\n",
    "    resultsFrame = pd.concat([resultsFrame, tempDf], ignore_index=True)\n",
    "\n",
    "resultsFrame.to_csv(\"paraemters.csv\")\n",
    "resultsFrame.plot(kind='bar', stacked=False, x='Param')\n",
    "    "
   ]
  },
  {
   "cell_type": "code",
   "execution_count": null,
   "metadata": {},
   "outputs": [],
   "source": [
    "#ANN"
   ]
  }
 ],
 "metadata": {
  "kernelspec": {
   "display_name": "Python 3",
   "language": "python",
   "name": "python3"
  },
  "language_info": {
   "codemirror_mode": {
    "name": "ipython",
    "version": 3
   },
   "file_extension": ".py",
   "mimetype": "text/x-python",
   "name": "python",
   "nbconvert_exporter": "python",
   "pygments_lexer": "ipython3",
   "version": "3.6.6"
  }
 },
 "nbformat": 4,
 "nbformat_minor": 2
}
