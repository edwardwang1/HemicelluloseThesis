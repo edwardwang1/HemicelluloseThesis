{
 "cells": [
  {
   "cell_type": "code",
   "execution_count": 2,
   "metadata": {
    "ExecuteTime": {
     "end_time": "2019-03-06T06:09:04.663712Z",
     "start_time": "2019-03-06T06:09:00.220219Z"
    }
   },
   "outputs": [],
   "source": [
    "from openpyxl import Workbook\n",
    "from openpyxl import load_workbook\n",
    "import os\n",
    "import pandas as pd\n",
    "import numpy as np\n",
    "import matplotlib.pyplot as plt\n",
    "import math\n",
    "from sklearn.model_selection import train_test_split\n",
    "from sklearn.preprocessing import StandardScaler\n",
    "from sklearn.svm import SVR\n",
    "from sklearn.linear_model import Ridge\n",
    "from sklearn import metrics\n",
    "from sklearn import linear_model\n",
    "import statsmodels.api as sm\n",
    "from sklearn import metrics\n",
    "from random import shuffle"
   ]
  },
  {
   "cell_type": "code",
   "execution_count": 4,
   "metadata": {
    "ExecuteTime": {
     "end_time": "2019-03-06T06:38:59.661648Z",
     "start_time": "2019-03-06T06:32:02.898033Z"
    }
   },
   "outputs": [
    {
     "name": "stdout",
     "output_type": "stream",
     "text": [
      "ProductionOfXyloseFromMerantiWood.xlsx\n"
     ]
    },
    {
     "name": "stderr",
     "output_type": "stream",
     "text": [
      "C:\\Anaconda3\\lib\\site-packages\\sklearn\\linear_model\\ridge.py:125: LinAlgWarning: Ill-conditioned matrix (rcond=4.75183e-17): result may not be accurate.\n",
      "  overwrite_a=True).T\n",
      "C:\\Anaconda3\\lib\\site-packages\\sklearn\\linear_model\\ridge.py:125: LinAlgWarning: Ill-conditioned matrix (rcond=4.28214e-17): result may not be accurate.\n",
      "  overwrite_a=True).T\n"
     ]
    },
    {
     "name": "stdout",
     "output_type": "stream",
     "text": [
      "Best alpha is:  100\n",
      "Best kernel is:  rbf\n",
      "Best Ep is:  10\n",
      "Best C is:  10\n",
      "Error in valid: 141.57079518806242\n",
      "DesignOfProcessParametersForProudctionOfXylose.xlsx\n"
     ]
    },
    {
     "name": "stderr",
     "output_type": "stream",
     "text": [
      "C:\\Anaconda3\\lib\\site-packages\\sklearn\\linear_model\\ridge.py:125: LinAlgWarning: Ill-conditioned matrix (rcond=3.38097e-18): result may not be accurate.\n",
      "  overwrite_a=True).T\n",
      "C:\\Anaconda3\\lib\\site-packages\\sklearn\\linear_model\\ridge.py:125: LinAlgWarning: Ill-conditioned matrix (rcond=2.10144e-17): result may not be accurate.\n",
      "  overwrite_a=True).T\n",
      "C:\\Anaconda3\\lib\\site-packages\\sklearn\\linear_model\\ridge.py:125: LinAlgWarning: Ill-conditioned matrix (rcond=4.70851e-17): result may not be accurate.\n",
      "  overwrite_a=True).T\n",
      "C:\\Anaconda3\\lib\\site-packages\\sklearn\\linear_model\\ridge.py:125: LinAlgWarning: Ill-conditioned matrix (rcond=7.53976e-18): result may not be accurate.\n",
      "  overwrite_a=True).T\n",
      "C:\\Anaconda3\\lib\\site-packages\\sklearn\\linear_model\\ridge.py:125: LinAlgWarning: Ill-conditioned matrix (rcond=4.0892e-17): result may not be accurate.\n",
      "  overwrite_a=True).T\n"
     ]
    },
    {
     "name": "stdout",
     "output_type": "stream",
     "text": [
      "Best alpha is:  100\n",
      "Best kernel is:  rbf\n",
      "Best Ep is:  5\n",
      "Best C is:  20\n",
      "Error in valid: 139.53561223158923\n",
      "HotWaterPretreatment.xlsx\n"
     ]
    },
    {
     "name": "stderr",
     "output_type": "stream",
     "text": [
      "C:\\Anaconda3\\lib\\site-packages\\sklearn\\linear_model\\ridge.py:125: LinAlgWarning: Ill-conditioned matrix (rcond=5.23214e-17): result may not be accurate.\n",
      "  overwrite_a=True).T\n",
      "C:\\Anaconda3\\lib\\site-packages\\sklearn\\linear_model\\ridge.py:125: LinAlgWarning: Ill-conditioned matrix (rcond=1.03214e-18): result may not be accurate.\n",
      "  overwrite_a=True).T\n",
      "C:\\Anaconda3\\lib\\site-packages\\sklearn\\linear_model\\ridge.py:125: LinAlgWarning: Ill-conditioned matrix (rcond=1.14876e-17): result may not be accurate.\n",
      "  overwrite_a=True).T\n",
      "C:\\Anaconda3\\lib\\site-packages\\sklearn\\linear_model\\ridge.py:125: LinAlgWarning: Ill-conditioned matrix (rcond=7.26807e-17): result may not be accurate.\n",
      "  overwrite_a=True).T\n",
      "C:\\Anaconda3\\lib\\site-packages\\sklearn\\linear_model\\ridge.py:125: LinAlgWarning: Ill-conditioned matrix (rcond=9.74284e-18): result may not be accurate.\n",
      "  overwrite_a=True).T\n"
     ]
    },
    {
     "name": "stdout",
     "output_type": "stream",
     "text": [
      "Best alpha is:  0.1\n",
      "Best kernel is:  rbf\n",
      "Best Ep is:  10\n",
      "Best C is:  10\n",
      "Error in valid: 145.4040513800736\n",
      "OptimizationofHydrothermalACS.xlsx\n"
     ]
    },
    {
     "name": "stderr",
     "output_type": "stream",
     "text": [
      "C:\\Anaconda3\\lib\\site-packages\\sklearn\\linear_model\\ridge.py:125: LinAlgWarning: Ill-conditioned matrix (rcond=5.17431e-17): result may not be accurate.\n",
      "  overwrite_a=True).T\n",
      "C:\\Anaconda3\\lib\\site-packages\\sklearn\\linear_model\\ridge.py:125: LinAlgWarning: Ill-conditioned matrix (rcond=1.10363e-16): result may not be accurate.\n",
      "  overwrite_a=True).T\n"
     ]
    },
    {
     "name": "stdout",
     "output_type": "stream",
     "text": [
      "Best alpha is:  100\n",
      "Best kernel is:  rbf\n",
      "Best Ep is:  10\n",
      "Best C is:  20\n",
      "Error in valid: 141.23205802171566\n",
      "ExtractionOfXylansFromHardwoodChips.xlsx\n"
     ]
    },
    {
     "name": "stderr",
     "output_type": "stream",
     "text": [
      "C:\\Anaconda3\\lib\\site-packages\\sklearn\\linear_model\\ridge.py:125: LinAlgWarning: Ill-conditioned matrix (rcond=7.4921e-18): result may not be accurate.\n",
      "  overwrite_a=True).T\n",
      "C:\\Anaconda3\\lib\\site-packages\\sklearn\\linear_model\\ridge.py:125: LinAlgWarning: Ill-conditioned matrix (rcond=8.30248e-17): result may not be accurate.\n",
      "  overwrite_a=True).T\n",
      "C:\\Anaconda3\\lib\\site-packages\\sklearn\\linear_model\\ridge.py:125: LinAlgWarning: Ill-conditioned matrix (rcond=7.4455e-18): result may not be accurate.\n",
      "  overwrite_a=True).T\n",
      "C:\\Anaconda3\\lib\\site-packages\\sklearn\\linear_model\\ridge.py:125: LinAlgWarning: Ill-conditioned matrix (rcond=4.04996e-17): result may not be accurate.\n",
      "  overwrite_a=True).T\n",
      "C:\\Anaconda3\\lib\\site-packages\\sklearn\\linear_model\\ridge.py:125: LinAlgWarning: Ill-conditioned matrix (rcond=7.26807e-17): result may not be accurate.\n",
      "  overwrite_a=True).T\n",
      "C:\\Anaconda3\\lib\\site-packages\\sklearn\\linear_model\\ridge.py:125: LinAlgWarning: Ill-conditioned matrix (rcond=4.27707e-17): result may not be accurate.\n",
      "  overwrite_a=True).T\n"
     ]
    },
    {
     "name": "stdout",
     "output_type": "stream",
     "text": [
      "Best alpha is:  100\n",
      "Best kernel is:  rbf\n",
      "Best Ep is:  10\n",
      "Best C is:  10\n",
      "Error in valid: 137.60406299413563\n",
      "EffectofEucalytpusGlobulusWoodAutohydrolysis.xlsx\n"
     ]
    },
    {
     "name": "stderr",
     "output_type": "stream",
     "text": [
      "C:\\Anaconda3\\lib\\site-packages\\sklearn\\linear_model\\ridge.py:125: LinAlgWarning: Ill-conditioned matrix (rcond=8.64018e-19): result may not be accurate.\n",
      "  overwrite_a=True).T\n",
      "C:\\Anaconda3\\lib\\site-packages\\sklearn\\linear_model\\ridge.py:125: LinAlgWarning: Ill-conditioned matrix (rcond=7.61042e-17): result may not be accurate.\n",
      "  overwrite_a=True).T\n",
      "C:\\Anaconda3\\lib\\site-packages\\sklearn\\linear_model\\ridge.py:125: LinAlgWarning: Ill-conditioned matrix (rcond=7.91869e-17): result may not be accurate.\n",
      "  overwrite_a=True).T\n",
      "C:\\Anaconda3\\lib\\site-packages\\sklearn\\linear_model\\ridge.py:125: LinAlgWarning: Ill-conditioned matrix (rcond=5.60049e-17): result may not be accurate.\n",
      "  overwrite_a=True).T\n"
     ]
    },
    {
     "name": "stdout",
     "output_type": "stream",
     "text": [
      "Best alpha is:  100\n",
      "Best kernel is:  rbf\n",
      "Best Ep is:  5\n",
      "Best C is:  10\n",
      "Error in valid: 135.93595169496996\n",
      "HemicelluloseExtractionOfMixedSouthernHardwood.xlsx\n"
     ]
    },
    {
     "name": "stderr",
     "output_type": "stream",
     "text": [
      "C:\\Anaconda3\\lib\\site-packages\\sklearn\\linear_model\\ridge.py:125: LinAlgWarning: Ill-conditioned matrix (rcond=2.10144e-17): result may not be accurate.\n",
      "  overwrite_a=True).T\n",
      "C:\\Anaconda3\\lib\\site-packages\\sklearn\\linear_model\\ridge.py:125: LinAlgWarning: Ill-conditioned matrix (rcond=3.4897e-17): result may not be accurate.\n",
      "  overwrite_a=True).T\n",
      "C:\\Anaconda3\\lib\\site-packages\\sklearn\\linear_model\\ridge.py:125: LinAlgWarning: Ill-conditioned matrix (rcond=4.2518e-17): result may not be accurate.\n",
      "  overwrite_a=True).T\n"
     ]
    },
    {
     "name": "stdout",
     "output_type": "stream",
     "text": [
      "Best alpha is:  100\n",
      "Best kernel is:  rbf\n",
      "Best Ep is:  5\n",
      "Best C is:  20\n",
      "Error in valid: 132.90452657307912\n",
      "QuantitativeAnalysisofSugarsInWoodHydrolyzates.xlsx\n"
     ]
    },
    {
     "name": "stderr",
     "output_type": "stream",
     "text": [
      "C:\\Anaconda3\\lib\\site-packages\\sklearn\\linear_model\\ridge.py:125: LinAlgWarning: Ill-conditioned matrix (rcond=5.89556e-17): result may not be accurate.\n",
      "  overwrite_a=True).T\n",
      "C:\\Anaconda3\\lib\\site-packages\\sklearn\\linear_model\\ridge.py:125: LinAlgWarning: Ill-conditioned matrix (rcond=8.43645e-17): result may not be accurate.\n",
      "  overwrite_a=True).T\n"
     ]
    },
    {
     "name": "stdout",
     "output_type": "stream",
     "text": [
      "Best alpha is:  100\n",
      "Best kernel is:  rbf\n",
      "Best Ep is:  10\n",
      "Best C is:  10\n",
      "Error in valid: 135.1157648828351\n",
      "PrehydrolysisOfEucalyptusWoodWithDiluteSulphuricAcidAtmostpheric.xlsx\n"
     ]
    },
    {
     "name": "stderr",
     "output_type": "stream",
     "text": [
      "C:\\Anaconda3\\lib\\site-packages\\sklearn\\linear_model\\ridge.py:125: LinAlgWarning: Ill-conditioned matrix (rcond=1.00911e-18): result may not be accurate.\n",
      "  overwrite_a=True).T\n",
      "C:\\Anaconda3\\lib\\site-packages\\sklearn\\linear_model\\ridge.py:125: LinAlgWarning: Ill-conditioned matrix (rcond=2.11717e-17): result may not be accurate.\n",
      "  overwrite_a=True).T\n",
      "C:\\Anaconda3\\lib\\site-packages\\sklearn\\linear_model\\ridge.py:125: LinAlgWarning: Ill-conditioned matrix (rcond=3.84997e-17): result may not be accurate.\n",
      "  overwrite_a=True).T\n",
      "C:\\Anaconda3\\lib\\site-packages\\sklearn\\linear_model\\ridge.py:125: LinAlgWarning: Ill-conditioned matrix (rcond=3.96616e-17): result may not be accurate.\n",
      "  overwrite_a=True).T\n",
      "C:\\Anaconda3\\lib\\site-packages\\sklearn\\linear_model\\ridge.py:125: LinAlgWarning: Ill-conditioned matrix (rcond=4.01715e-18): result may not be accurate.\n",
      "  overwrite_a=True).T\n",
      "C:\\Anaconda3\\lib\\site-packages\\sklearn\\linear_model\\ridge.py:125: LinAlgWarning: Ill-conditioned matrix (rcond=3.24986e-17): result may not be accurate.\n",
      "  overwrite_a=True).T\n"
     ]
    },
    {
     "name": "stdout",
     "output_type": "stream",
     "text": [
      "Best alpha is:  100\n",
      "Best kernel is:  rbf\n",
      "Best Ep is:  10\n",
      "Best C is:  10\n",
      "Error in valid: 149.41593698210048\n",
      "Generation of xylose solutions from Eucalyptus globulus wood.xlsx\n"
     ]
    },
    {
     "name": "stderr",
     "output_type": "stream",
     "text": [
      "C:\\Anaconda3\\lib\\site-packages\\sklearn\\linear_model\\ridge.py:125: LinAlgWarning: Ill-conditioned matrix (rcond=1.00911e-18): result may not be accurate.\n",
      "  overwrite_a=True).T\n",
      "C:\\Anaconda3\\lib\\site-packages\\sklearn\\linear_model\\ridge.py:125: LinAlgWarning: Ill-conditioned matrix (rcond=9.72021e-17): result may not be accurate.\n",
      "  overwrite_a=True).T\n",
      "C:\\Anaconda3\\lib\\site-packages\\sklearn\\linear_model\\ridge.py:125: LinAlgWarning: Ill-conditioned matrix (rcond=5.46357e-17): result may not be accurate.\n",
      "  overwrite_a=True).T\n",
      "C:\\Anaconda3\\lib\\site-packages\\sklearn\\linear_model\\ridge.py:125: LinAlgWarning: Ill-conditioned matrix (rcond=7.62649e-17): result may not be accurate.\n",
      "  overwrite_a=True).T\n"
     ]
    },
    {
     "name": "stdout",
     "output_type": "stream",
     "text": [
      "Best alpha is:  100\n",
      "Best kernel is:  linear\n",
      "Best Ep is:  0.1\n",
      "Best C is:  0.1\n",
      "Error in valid: 127.23874451415298\n",
      "KineticStuidesOfAcidHyrolysisOfMerantiWood.xlsx\n"
     ]
    },
    {
     "name": "stderr",
     "output_type": "stream",
     "text": [
      "C:\\Anaconda3\\lib\\site-packages\\sklearn\\linear_model\\ridge.py:125: LinAlgWarning: Ill-conditioned matrix (rcond=3.77697e-17): result may not be accurate.\n",
      "  overwrite_a=True).T\n",
      "C:\\Anaconda3\\lib\\site-packages\\sklearn\\linear_model\\ridge.py:125: LinAlgWarning: Ill-conditioned matrix (rcond=2.05114e-17): result may not be accurate.\n",
      "  overwrite_a=True).T\n"
     ]
    },
    {
     "name": "stdout",
     "output_type": "stream",
     "text": [
      "Best alpha is:  100\n",
      "Best kernel is:  rbf\n",
      "Best Ep is:  5\n",
      "Best C is:  20\n",
      "Error in valid: 136.4402867945597\n",
      "HemicelluloseRemovalFromHardwood.xlsx\n"
     ]
    },
    {
     "name": "stderr",
     "output_type": "stream",
     "text": [
      "C:\\Anaconda3\\lib\\site-packages\\sklearn\\linear_model\\ridge.py:125: LinAlgWarning: Ill-conditioned matrix (rcond=4.20288e-17): result may not be accurate.\n",
      "  overwrite_a=True).T\n",
      "C:\\Anaconda3\\lib\\site-packages\\sklearn\\linear_model\\ridge.py:125: LinAlgWarning: Ill-conditioned matrix (rcond=7.26807e-17): result may not be accurate.\n",
      "  overwrite_a=True).T\n",
      "C:\\Anaconda3\\lib\\site-packages\\sklearn\\linear_model\\ridge.py:125: LinAlgWarning: Ill-conditioned matrix (rcond=1.2409e-17): result may not be accurate.\n",
      "  overwrite_a=True).T\n"
     ]
    },
    {
     "name": "stdout",
     "output_type": "stream",
     "text": [
      "Best alpha is:  100\n",
      "Best kernel is:  rbf\n",
      "Best Ep is:  10\n",
      "Best C is:  20\n",
      "Error in valid: 142.07165291710933\n",
      "EXTRACTION_OF_HEMICELLULOSES_ BY_ ACID.xlsx\n"
     ]
    },
    {
     "name": "stderr",
     "output_type": "stream",
     "text": [
      "C:\\Anaconda3\\lib\\site-packages\\sklearn\\linear_model\\ridge.py:125: LinAlgWarning: Ill-conditioned matrix (rcond=1.56448e-17): result may not be accurate.\n",
      "  overwrite_a=True).T\n",
      "C:\\Anaconda3\\lib\\site-packages\\sklearn\\linear_model\\ridge.py:125: LinAlgWarning: Ill-conditioned matrix (rcond=9.11772e-18): result may not be accurate.\n",
      "  overwrite_a=True).T\n",
      "C:\\Anaconda3\\lib\\site-packages\\sklearn\\linear_model\\ridge.py:125: LinAlgWarning: Ill-conditioned matrix (rcond=4.27707e-17): result may not be accurate.\n",
      "  overwrite_a=True).T\n"
     ]
    },
    {
     "name": "stdout",
     "output_type": "stream",
     "text": [
      "Best alpha is:  5\n",
      "Best kernel is:  linear\n",
      "Best Ep is:  10\n",
      "Best C is:  10\n",
      "Error in valid: 142.32795535664133\n",
      "OptimizationOfHydrothermalCHEMPUP.xlsx\n"
     ]
    },
    {
     "name": "stderr",
     "output_type": "stream",
     "text": [
      "C:\\Anaconda3\\lib\\site-packages\\sklearn\\linear_model\\ridge.py:125: LinAlgWarning: Ill-conditioned matrix (rcond=8.06833e-18): result may not be accurate.\n",
      "  overwrite_a=True).T\n",
      "C:\\Anaconda3\\lib\\site-packages\\sklearn\\linear_model\\ridge.py:125: LinAlgWarning: Ill-conditioned matrix (rcond=4.14723e-17): result may not be accurate.\n",
      "  overwrite_a=True).T\n"
     ]
    },
    {
     "name": "stdout",
     "output_type": "stream",
     "text": [
      "Best alpha is:  100\n",
      "Best kernel is:  rbf\n",
      "Best Ep is:  10\n",
      "Best C is:  20\n",
      "Error in valid: 139.90366043175322\n",
      "PrehydrolysisOfEucalyptusWoodWithDiluteSulphuricAcidAutoclave.xlsx\n"
     ]
    },
    {
     "name": "stderr",
     "output_type": "stream",
     "text": [
      "C:\\Anaconda3\\lib\\site-packages\\sklearn\\linear_model\\ridge.py:125: LinAlgWarning: Ill-conditioned matrix (rcond=1.00911e-18): result may not be accurate.\n",
      "  overwrite_a=True).T\n",
      "C:\\Anaconda3\\lib\\site-packages\\sklearn\\linear_model\\ridge.py:125: LinAlgWarning: Ill-conditioned matrix (rcond=7.01206e-17): result may not be accurate.\n",
      "  overwrite_a=True).T\n",
      "C:\\Anaconda3\\lib\\site-packages\\sklearn\\linear_model\\ridge.py:125: LinAlgWarning: Ill-conditioned matrix (rcond=7.75334e-17): result may not be accurate.\n",
      "  overwrite_a=True).T\n",
      "C:\\Anaconda3\\lib\\site-packages\\sklearn\\linear_model\\ridge.py:125: LinAlgWarning: Ill-conditioned matrix (rcond=7.91774e-17): result may not be accurate.\n",
      "  overwrite_a=True).T\n"
     ]
    },
    {
     "name": "stdout",
     "output_type": "stream",
     "text": [
      "Best alpha is:  100\n",
      "Best kernel is:  rbf\n",
      "Best Ep is:  10\n",
      "Best C is:  20\n",
      "Error in valid: 153.8479392720556\n",
      "MildAutohydrolysisAnEnvironmentallyFriendlyTechnologXyl.xlsx\n"
     ]
    },
    {
     "name": "stderr",
     "output_type": "stream",
     "text": [
      "C:\\Anaconda3\\lib\\site-packages\\sklearn\\linear_model\\ridge.py:125: LinAlgWarning: Ill-conditioned matrix (rcond=2.10144e-17): result may not be accurate.\n",
      "  overwrite_a=True).T\n",
      "C:\\Anaconda3\\lib\\site-packages\\sklearn\\linear_model\\ridge.py:125: LinAlgWarning: Ill-conditioned matrix (rcond=9.12e-17): result may not be accurate.\n",
      "  overwrite_a=True).T\n",
      "C:\\Anaconda3\\lib\\site-packages\\sklearn\\linear_model\\ridge.py:125: LinAlgWarning: Ill-conditioned matrix (rcond=7.8586e-17): result may not be accurate.\n",
      "  overwrite_a=True).T\n",
      "C:\\Anaconda3\\lib\\site-packages\\sklearn\\linear_model\\ridge.py:125: LinAlgWarning: Ill-conditioned matrix (rcond=2.97802e-17): result may not be accurate.\n",
      "  overwrite_a=True).T\n"
     ]
    },
    {
     "name": "stdout",
     "output_type": "stream",
     "text": [
      "Best alpha is:  100\n",
      "Best kernel is:  rbf\n",
      "Best Ep is:  5\n",
      "Best C is:  20\n",
      "Error in valid: 126.3260114578518\n"
     ]
    },
    {
     "data": {
      "image/png": "[encoded data removed]",
      "text/plain": [
       "<Figure size 432x288 with 1 Axes>"
      ]
     },
     "metadata": {
      "needs_background": "light"
     },
     "output_type": "display_data"
    }
   ],
   "source": [
    "data = pd.read_csv(\"data.csv\")\n",
    "data = data.sample(frac=1).reset_index(drop=True)\n",
    "\n",
    "\n",
    "XLabels = ['TotalT','Temp','LSR','CA','Moisture', 'IsoT', 'HeatT', 'Ramp','F_X', 'Ro', 'logRo', 'P']\n",
    "X = data[XLabels]\n",
    "#Scaling X\n",
    "sc = StandardScaler()\n",
    "X = sc.fit_transform(X)\n",
    "data[XLabels] = X\n",
    "\n",
    "papers = data['Source'].unique()\n",
    "shuffle(papers)\n",
    "\n",
    "\n",
    "numPapers = len(papers)\n",
    "papersPerGroup = 2\n",
    "\n",
    "\n",
    "combos = [papers[x:x + papersPerGroup] for x in range(0, len(papers), papersPerGroup)]\n",
    "error_Frame = pd.DataFrame(columns=['Source', 'Linear', 'Ridge', 'SVR'])\n",
    "\n",
    "for paper in papers:\n",
    "    print(paper)\n",
    "    #Simple Linear Regr\n",
    "    train_Frame = data[data['Source'] != paper]\n",
    "    test_Frame = data[data['Source'] == paper]\n",
    "    \n",
    "    papers = train_Frame['Source'].unique()\n",
    "    \n",
    "    \n",
    "    numPapers = len(papers)\n",
    "    combos = [papers[x:x + papersPerGroup] for x in range(0, len(papers), papersPerGroup)]  \n",
    "\n",
    "\n",
    "    lenTrain = len(train_Frame.index)\n",
    "    train_Frame, valid_Frame, train_valid_Frame = train_Frame.iloc[:int(lenTrain * 0.8), :], train_Frame.iloc[int(lenTrain * 0.8):, :], train_Frame\n",
    "\n",
    "    y_train, y_valid, y_test, y_train_valid = train_Frame['Yield'], valid_Frame['Yield'], test_Frame['Yield'], train_valid_Frame['Yield']\n",
    "    X_train, X_valid, X_test, X_train_valid = train_Frame[XLabels], valid_Frame[XLabels], test_Frame[XLabels], train_valid_Frame[XLabels]\n",
    "\n",
    "    #Simple Linear Regression\n",
    "    regr = linear_model.LinearRegression()\n",
    "    regr.fit(X_train_valid, y_train_valid)\n",
    "    y_pred = regr.predict(X_test)\n",
    "    mseSLR = metrics.mean_absolute_error(y_test, y_pred)\n",
    "    \n",
    "    #Ridge ------\n",
    "    \n",
    "    alphas = [0, 0.001, 0.005, 0.01, 0.05, 0.1, 0.5, 1, 5, 10, 100]\n",
    "    \n",
    "    errors = []\n",
    "    \n",
    "    for a in alphas:\n",
    "        sumErrors = 0\n",
    "        for c in combos:\n",
    "            train_Frame = train_valid_Frame[~train_valid_Frame['Source'].isin(c)]\n",
    "            valid_Frame = train_valid_Frame[train_valid_Frame['Source'].isin(c)]\n",
    "\n",
    "            y_train, y_valid, y_test, y_train_valid = train_Frame['Yield'], valid_Frame['Yield'], test_Frame['Yield'], train_valid_Frame['Yield']\n",
    "            X_train, X_valid, X_test, X_train_valid = train_Frame[XLabels], valid_Frame[XLabels], test_Frame[XLabels], train_valid_Frame[XLabels]\n",
    "            \n",
    "            \n",
    "    #         print(\"---\")\n",
    "    #         print(c)\n",
    "    #         print(train_Frame['Source'].unique())\n",
    "    #         print(test_Frame['Source'].unique())\n",
    "    #         print(\"---\")\n",
    "\n",
    "            ridgeModel = Ridge(alpha=a)\n",
    "            ridgeModel.fit(X_train, y_train) \n",
    "            y_pred = ridgeModel.predict(X_valid)\n",
    "            error =  metrics.mean_absolute_error(y_valid, y_pred)\n",
    "            sumErrors = sumErrors + error\n",
    "        \n",
    "        errors.append(sumErrors)\n",
    "\n",
    "    \n",
    "    best_alpha = alphas[np.argmin(errors)]\n",
    "    print(\"Best alpha is: \", best_alpha)\n",
    "    ridgeModel = Ridge(alpha=best_alpha)\n",
    "    ridgeModel.fit(X_train_valid, y_train_valid) \n",
    "    y_pred = ridgeModel.predict(X_test)\n",
    "    mseRidge =  metrics.mean_absolute_error(y_test, y_pred)\n",
    "    \n",
    "    \n",
    "    #SVR------------------------------\n",
    "    ##Parameter Fitting\n",
    "    kernels =  ['poly', 'rbf', 'linear']\n",
    "    #gammas = [0.01, 0.1, 1]\n",
    "    epsilons = [0.1,5,10, 20]\n",
    "    Cs = [0.1,1,10, 20]\n",
    "    #Cs =[0.1, 0.5, 1]\n",
    "    errors = []\n",
    "    for kern in kernels:\n",
    "        for ep in epsilons:\n",
    "            for C_ in Cs:\n",
    "                sumErrors = 0\n",
    "                for c in combos:\n",
    "                    train_Frame = train_valid_Frame[~train_valid_Frame['Source'].isin(c)]\n",
    "                    valid_Frame = train_valid_Frame[train_valid_Frame['Source'].isin(c)]\n",
    "\n",
    "                    y_train, y_valid, y_test, y_train_valid = train_Frame['Yield'], valid_Frame['Yield'], test_Frame['Yield'], train_valid_Frame['Yield']\n",
    "                    X_train, X_valid, X_test, X_train_valid = train_Frame[XLabels], valid_Frame[XLabels], test_Frame[XLabels], train_valid_Frame[XLabels]\n",
    "                    \n",
    "                    \n",
    "                    svrModel = SVR(kernel=kern, gamma='scale', epsilon=ep, cache_size=2000, C=C_)\n",
    "                    svrModel.fit(X_train, y_train) \n",
    "                    y_pred = svrModel.predict(X_valid)\n",
    "                    error =  metrics.mean_absolute_error(y_valid, y_pred)\n",
    "                    sumErrors = sumErrors + error\n",
    "                errors.append(sumErrors)\n",
    "                \n",
    "    index_of_lowest_error = np.argmin(errors)\n",
    "\n",
    "    best_kernel = kernels[int(index_of_lowest_error / (len(epsilons) * len(Cs)))] #Good\n",
    "    best_epsilon = epsilons[int((index_of_lowest_error % (len(epsilons) * len(Cs)))/len(Cs))] #Good\n",
    "    best_C = Cs[index_of_lowest_error % len(Cs)] #Good\n",
    "    \n",
    "    print(\"Best kernel is: \", best_kernel)\n",
    "    print(\"Best Ep is: \", best_epsilon)\n",
    "    print(\"Best C is: \", best_C)\n",
    "    print(\"Error in valid:\", errors[np.argmin(errors)])\n",
    "    \n",
    "    best_model = SVR(kernel=best_kernel, gamma='scale', epsilon=best_epsilon, cache_size=2000, C=best_C)\n",
    "    best_model.fit(X_train_valid, y_train_valid)\n",
    "    y_pred = best_model.predict(X_test)\n",
    "    mseSVR = metrics.mean_absolute_error(y_test, y_pred)\n",
    "\n",
    "\n",
    "    row = [[paper, mseSLR, mseRidge, mseSVR]]\n",
    "    tempDf = pd.DataFrame(row, columns=['Source', 'Linear', 'Ridge', 'SVR'])\n",
    "    error_Frame = pd.concat([error_Frame, tempDf], ignore_index=True)\n",
    "\n",
    "    \n",
    "error_Frame.reset_index()\n",
    "error_Frame.index = error_Frame['Source'].values\n",
    "#print(error_Frame['Source'].values)\n",
    "#print(error_Frame)\n",
    "\n",
    "error_Frame.plot(kind='bar', stacked=False)\n",
    "\n",
    "\n",
    "error_Frame.to_csv(\"errors.csv\")"
   ]
  },
  {
   "cell_type": "code",
   "execution_count": null,
   "metadata": {},
   "outputs": [],
   "source": []
  }
 ],
 "metadata": {
  "kernelspec": {
   "display_name": "Python 3",
   "language": "python",
   "name": "python3"
  },
  "language_info": {
   "codemirror_mode": {
    "name": "ipython",
    "version": 3
   },
   "file_extension": ".py",
   "mimetype": "text/x-python",
   "name": "python",
   "nbconvert_exporter": "python",
   "pygments_lexer": "ipython3",
   "version": "3.6.6"
  }
 },
 "nbformat": 4,
 "nbformat_minor": 2
}
