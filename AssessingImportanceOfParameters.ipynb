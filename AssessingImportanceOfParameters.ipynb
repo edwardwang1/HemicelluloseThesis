{
 "cells": [
  {
   "cell_type": "code",
   "execution_count": 1,
   "metadata": {
    "ExecuteTime": {
     "end_time": "2019-05-22T22:18:40.095715Z",
     "start_time": "2019-05-22T22:18:36.716488Z"
    }
   },
   "outputs": [
    {
     "name": "stderr",
     "output_type": "stream",
     "text": [
      "Using TensorFlow backend.\n"
     ]
    }
   ],
   "source": [
    "from openpyxl import Workbook\n",
    "from openpyxl import load_workbook\n",
    "import os\n",
    "import pandas as pd\n",
    "import numpy as np\n",
    "import matplotlib.pyplot as plt\n",
    "import math\n",
    "from sklearn.model_selection import train_test_split\n",
    "from sklearn.preprocessing import StandardScaler\n",
    "from sklearn import metrics\n",
    "import statsmodels.api as sm\n",
    "from sklearn import metrics\n",
    "from random import shuffle\n",
    "from keras.models import Sequential\n",
    "from keras.layers import Dense, Dropout\n",
    "from keras.optimizers import SGD\n",
    "from sklearn.svm import SVR"
   ]
  },
  {
   "cell_type": "code",
   "execution_count": 2,
   "metadata": {
    "ExecuteTime": {
     "end_time": "2019-05-22T22:18:40.127838Z",
     "start_time": "2019-05-22T22:18:40.097163Z"
    }
   },
   "outputs": [
    {
     "name": "stdout",
     "output_type": "stream",
     "text": [
      "<class 'numpy.ndarray'>\n"
     ]
    }
   ],
   "source": [
    "data = pd.read_csv(\"data.csv\")\n",
    "data = data.sample(frac=1).reset_index(drop=True)\n",
    "pd.options.mode.chained_assignment = None\n",
    "\n",
    "\n",
    "# XLabels = ['TotalT','Temp','LSR','CA','Size', 'Moisture', 'IsoT', 'HeatT', 'Ramp','F_X']\n",
    "XLabels = ['TotalT','Temp','LSR','CA','Size', 'Moisture', 'IsoT', 'HeatT', 'Ramp','F_X']\n",
    "#XLabels = ['TotalT','Temp','LSR','CA','Size', 'Moisture', 'IsoT', 'HeatT', 'Ramp','F_X', 'Ro', 'logRo', 'P', 'logP']\n",
    "X = data[XLabels]\n",
    "#Scaling X\n",
    "sc = StandardScaler()\n",
    "X = sc.fit_transform(X)\n",
    "data[XLabels] = X\n",
    "\n",
    "\n",
    "print(type(X))\n",
    "\n",
    "numData = len(data.index)\n",
    "numTrain = int(numData * 0.7)\n",
    "numTest = int(numData * .15) \n",
    "# print(numTest, numTrain)\n",
    "train_Frame, valid_Frame, test_Frame, train_valid_Frame = data.iloc[:numTrain, :], data.iloc[numTrain:-numTest, :], data.iloc[-numTest:, :], data.iloc[:-numTest:, :]\n",
    "\n",
    "\n",
    "\n"
   ]
  },
  {
   "cell_type": "code",
   "execution_count": 3,
   "metadata": {
    "ExecuteTime": {
     "end_time": "2019-05-22T20:57:22.399742Z",
     "start_time": "2019-05-22T20:57:11.990090Z"
    }
   },
   "outputs": [
    {
     "name": "stdout",
     "output_type": "stream",
     "text": [
      "TotalT\n",
      "Lowest Error In Validation _MSE_  9.41921840289435\n",
      "Temp\n",
      "Lowest Error In Validation _MSE_  10.971800705407274\n",
      "LSR\n",
      "Lowest Error In Validation _MSE_  9.097710987588563\n",
      "CA\n",
      "Lowest Error In Validation _MSE_  9.73268909571978\n",
      "Size\n",
      "Lowest Error In Validation _MSE_  8.854823806401171\n",
      "Moisture\n",
      "Lowest Error In Validation _MSE_  9.158017757039117\n",
      "IsoT\n",
      "Lowest Error In Validation _MSE_  9.52290926156128\n",
      "HeatT\n",
      "Lowest Error In Validation _MSE_  9.002401863898305\n",
      "Ramp\n",
      "Lowest Error In Validation _MSE_  8.819382696299028\n",
      "F_X\n",
      "Lowest Error In Validation _MSE_  8.784674191796233\n",
      "Lowest Error In Validation _MSE_  9.034858905479727\n"
     ]
    },
    {
     "data": {
      "text/plain": [
       "<matplotlib.axes._subplots.AxesSubplot at 0x27767f75eb8>"
      ]
     },
     "execution_count": 3,
     "metadata": {},
     "output_type": "execute_result"
    },
    {
     "data": {
      "image/png": "[encoded data removed]",
      "text/plain": [
       "<Figure size 432x288 with 1 Axes>"
      ]
     },
     "metadata": {
      "needs_background": "light"
     },
     "output_type": "display_data"
    }
   ],
   "source": [
    "#SVR\n",
    "\n",
    "resultsFrame = pd.DataFrame(columns=['Param', 'MAE', 'STDAE'])\n",
    "\n",
    "for i in XLabels:\n",
    "    print(i)\n",
    "    remainingX = XLabels.copy()\n",
    "    remainingX.remove(i)\n",
    "    \n",
    "    X = data[remainingX].values\n",
    "    y_train, y_valid, y_test, y_train_valid = train_Frame['Yield'], valid_Frame['Yield'], test_Frame['Yield'], train_valid_Frame['Yield']\n",
    "    X_train, X_valid, X_test, X_train_valid = X[:numTrain, :], X[numTrain:-numTest, :], X[-numTest:, :], X[:-numTest, :]\n",
    "\n",
    "    \n",
    "    kernels =  ['poly', 'rbf', 'linear']\n",
    "    epsilons = [0.1,5,10, 20]\n",
    "    Cs = [0.1,1,10, 20]\n",
    "    gammas = ['scale', 'auto']\n",
    "    errors = []\n",
    "\n",
    "    for kern in kernels:\n",
    "        for ep in epsilons:\n",
    "            for C_ in Cs:\n",
    "                for gam in gammas:\n",
    "                    svrModel = SVR(kernel=kern, gamma=gam, epsilon=ep, cache_size=2000, C=C_)\n",
    "    #                 svrModel.fit(X_train, y_train, sample_weight=train_weights)\n",
    "                    svrModel.fit(X_train, y_train)\n",
    "                    y_pred = svrModel.predict(X_valid)\n",
    "                    error =  metrics.mean_absolute_error(y_valid, y_pred)\n",
    "                    errors.append(error)\n",
    "\n",
    "\n",
    "    index_of_lowest_error = np.argmin(errors)\n",
    "    print(\"Lowest Error In Validation _MSE_ \", np.min(errors))\n",
    "\n",
    "    best_kernel = kernels[int(index_of_lowest_error / (len(epsilons) * len(Cs) * len(gammas)))] #Good\n",
    "    best_ep = epsilons[int((index_of_lowest_error % (len(epsilons) *len(Cs) * len(gammas)))/(len(Cs) *len(gammas)))] #Good\n",
    "    best_C = Cs[int((index_of_lowest_error % (len(Cs) * len(gammas)))/len(gammas))] #Good \n",
    "    best_gamma = gammas[int(index_of_lowest_error % len(gammas))]\n",
    "\n",
    "#     print(\"Best kernel is: \", best_kernel)\n",
    "#     print(\"Best Epsilon is: \", best_ep)\n",
    "#     print(\"Best C is: \", best_C)\n",
    "#     print(\"Best Gamma is: \", best_gamma)\n",
    "\n",
    "\n",
    "\n",
    "    best_model = SVR(kernel=best_kernel, gamma=best_gamma, epsilon=best_ep, cache_size=2000, C=best_C)\n",
    "    # best_model.fit(X_train_valid, y_train_valid, sample_weight=train_valid_weights)\n",
    "    best_model.fit(X_train_valid, y_train_valid)\n",
    "    y_pred = best_model.predict(X_test)\n",
    "\n",
    "    \n",
    "    error = metrics.mean_absolute_error(y_test, y_pred)\n",
    "    diff = np.absolute(y_test - y_pred)\n",
    "    stdev = np.std(diff)\n",
    "    \n",
    "    row = [[i, error, stdev]]\n",
    "    tempDf = pd.DataFrame(row, columns=['Param', 'MAE', 'STDAE'])\n",
    "    resultsFrame = pd.concat([resultsFrame, tempDf], ignore_index=True)\n",
    "\n",
    "    \n",
    "##\n",
    "X = data[XLabels].values\n",
    "y_train, y_valid, y_test, y_train_valid = train_Frame['Yield'], valid_Frame['Yield'], test_Frame['Yield'], train_valid_Frame['Yield']\n",
    "X_train, X_valid, X_test, X_train_valid = X[:numTrain, :], X[numTrain:-numTest, :], X[-numTest:, :], X[:-numTest, :]\n",
    "\n",
    "\n",
    "kernels =  ['poly', 'rbf', 'linear']\n",
    "epsilons = [0.1,5,10, 20]\n",
    "Cs = [0.1,1,10, 20]\n",
    "gammas = ['scale', 'auto']\n",
    "errors = []\n",
    "\n",
    "for kern in kernels:\n",
    "    for ep in epsilons:\n",
    "        for C_ in Cs:\n",
    "            for gam in gammas:\n",
    "                svrModel = SVR(kernel=kern, gamma=gam, epsilon=ep, cache_size=2000, C=C_)\n",
    "#                 svrModel.fit(X_train, y_train, sample_weight=train_weights)\n",
    "                svrModel.fit(X_train, y_train)\n",
    "                y_pred = svrModel.predict(X_valid)\n",
    "                error =  metrics.mean_absolute_error(y_valid, y_pred)\n",
    "                errors.append(error)\n",
    "\n",
    "\n",
    "index_of_lowest_error = np.argmin(errors)\n",
    "print(\"Lowest Error In Validation _MSE_ \", np.min(errors))\n",
    "\n",
    "best_kernel = kernels[int(index_of_lowest_error / (len(epsilons) * len(Cs) * len(gammas)))] #Good\n",
    "best_ep = epsilons[int((index_of_lowest_error % (len(epsilons) *len(Cs) * len(gammas)))/(len(Cs) *len(gammas)))] #Good\n",
    "best_C = Cs[int((index_of_lowest_error % (len(Cs) * len(gammas)))/len(gammas))] #Good \n",
    "best_gamma = gammas[int(index_of_lowest_error % len(gammas))]\n",
    "\n",
    "#     print(\"Best kernel is: \", best_kernel)\n",
    "#     print(\"Best Epsilon is: \", best_ep)\n",
    "#     print(\"Best C is: \", best_C)\n",
    "#     print(\"Best Gamma is: \", best_gamma)\n",
    "\n",
    "\n",
    "\n",
    "best_model = SVR(kernel=best_kernel, gamma=best_gamma, epsilon=best_ep, cache_size=2000, C=best_C)\n",
    "# best_model.fit(X_train_valid, y_train_valid, sample_weight=train_valid_weights)\n",
    "best_model.fit(X_train_valid, y_train_valid)\n",
    "y_pred = best_model.predict(X_test)\n",
    "\n",
    "\n",
    "error = metrics.mean_absolute_error(y_test, y_pred)\n",
    "diff = np.absolute(y_test - y_pred)\n",
    "stdev = np.std(diff)\n",
    "\n",
    "row = [[\"Baseline\", error, stdev]]\n",
    "tempDf = pd.DataFrame(row, columns=['Param', 'MAE', 'STDAE'])\n",
    "resultsFrame = pd.concat([resultsFrame, tempDf], ignore_index=True)\n",
    "###\n",
    "    \n",
    "\n",
    "resultsFrame.to_csv(\"paraemtersWithoutRoP.csv\")\n",
    "resultsFrame.plot(kind='bar', stacked=False, x='Param')\n",
    "\n",
    "    "
   ]
  },
  {
   "cell_type": "code",
   "execution_count": null,
   "metadata": {
    "ExecuteTime": {
     "start_time": "2019-05-22T22:18:47.145Z"
    }
   },
   "outputs": [
    {
     "name": "stdout",
     "output_type": "stream",
     "text": [
      "Ro\n"
     ]
    }
   ],
   "source": [
    "#SVR\n",
    "\n",
    "resultsFrame = pd.DataFrame(columns=['Param', 'MAE', 'STDAE'])\n",
    "\n",
    "for i in ['Ro', 'LogRo', 'P', 'LogP']:\n",
    "    print(i)\n",
    "    remainingX = XLabels.copy()\n",
    "    remainingX.append(i)\n",
    "#     print(remainingX)\n",
    "    \n",
    "\n",
    "    \n",
    "    X = data[remainingX].values\n",
    "    y_train, y_valid, y_test, y_train_valid = train_Frame['Yield'], valid_Frame['Yield'], test_Frame['Yield'], train_valid_Frame['Yield']\n",
    "    X_train, X_valid, X_test, X_train_valid = X[:numTrain, :], X[numTrain:-numTest, :], X[-numTest:, :], X[:-numTest, :]\n",
    "\n",
    "    \n",
    "    kernels =  ['poly', 'rbf', 'linear']\n",
    "    epsilons = [0.1,5,10, 20]\n",
    "    Cs = [0.1,1,10, 20]\n",
    "    gammas = ['scale', 'auto']\n",
    "    errors = []\n",
    "\n",
    "    for kern in kernels:\n",
    "        for ep in epsilons:\n",
    "            for C_ in Cs:\n",
    "                for gam in gammas:\n",
    "                    svrModel = SVR(kernel=kern, gamma=gam, epsilon=ep, cache_size=2000, C=C_)\n",
    "    #                 svrModel.fit(X_train, y_train, sample_weight=train_weights)\n",
    "                    svrModel.fit(X_train, y_train)\n",
    "                    y_pred = svrModel.predict(X_valid)\n",
    "                    error =  metrics.mean_absolute_error(y_valid, y_pred)\n",
    "                    errors.append(error)\n",
    "\n",
    "\n",
    "    index_of_lowest_error = np.argmin(errors)\n",
    "    print(\"Lowest Error In Validation _MSE_ \", np.min(errors))\n",
    "\n",
    "    best_kernel = kernels[int(index_of_lowest_error / (len(epsilons) * len(Cs) * len(gammas)))] #Good\n",
    "    best_ep = epsilons[int((index_of_lowest_error % (len(epsilons) *len(Cs) * len(gammas)))/(len(Cs) *len(gammas)))] #Good\n",
    "    best_C = Cs[int((index_of_lowest_error % (len(Cs) * len(gammas)))/len(gammas))] #Good \n",
    "    best_gamma = gammas[int(index_of_lowest_error % len(gammas))]\n",
    "\n",
    "#     print(\"Best kernel is: \", best_kernel)\n",
    "#     print(\"Best Epsilon is: \", best_ep)\n",
    "#     print(\"Best C is: \", best_C)\n",
    "#     print(\"Best Gamma is: \", best_gamma)\n",
    "\n",
    "\n",
    "\n",
    "    best_model = SVR(kernel=best_kernel, gamma=best_gamma, epsilon=best_ep, cache_size=2000, C=best_C)\n",
    "    # best_model.fit(X_train_valid, y_train_valid, sample_weight=train_valid_weights)\n",
    "    best_model.fit(X_train_valid, y_train_valid)\n",
    "    y_pred = best_model.predict(X_test)\n",
    "\n",
    "    \n",
    "    error = metrics.mean_absolute_error(y_test, y_pred)\n",
    "    diff = np.absolute(y_test - y_pred)\n",
    "    stdev = np.std(diff)\n",
    "    \n",
    "    row = [[i, error, stdev]]\n",
    "    tempDf = pd.DataFrame(row, columns=['Param', 'MAE', 'STDAE'])\n",
    "    resultsFrame = pd.concat([resultsFrame, tempDf], ignore_index=True)\n",
    "\n",
    "resultsFrame.to_csv(\"paraemtersWithRoP.csv\")\n",
    "resultsFrame.plot(kind='bar', stacked=False, x='Param')\n",
    "\n",
    "    "
   ]
  },
  {
   "cell_type": "code",
   "execution_count": 4,
   "metadata": {
    "ExecuteTime": {
     "end_time": "2019-05-22T21:00:38.922312Z",
     "start_time": "2019-05-22T20:58:14.113443Z"
    }
   },
   "outputs": [
    {
     "name": "stdout",
     "output_type": "stream",
     "text": [
      "TotalT\n",
      "Temp\n",
      "LSR\n",
      "CA\n",
      "Size\n",
      "Moisture\n",
      "IsoT\n",
      "HeatT\n",
      "Ramp\n",
      "F_X\n",
      "Lowest Error In Validation _MSE_  9.034858905479727\n"
     ]
    },
    {
     "data": {
      "text/plain": [
       "<matplotlib.axes._subplots.AxesSubplot at 0x2776e885978>"
      ]
     },
     "execution_count": 4,
     "metadata": {},
     "output_type": "execute_result"
    },
    {
     "data": {
      "image/png": "[encoded data removed]",
      "text/plain": [
       "<Figure size 432x288 with 1 Axes>"
      ]
     },
     "metadata": {
      "needs_background": "light"
     },
     "output_type": "display_data"
    }
   ],
   "source": [
    "#NN\n",
    "\n",
    "resultsFrame = pd.DataFrame(columns=['Param', 'MAE', 'STDAE'])\n",
    "\n",
    "for i in XLabels:\n",
    "    print(i)\n",
    "    remainingX = XLabels.copy()\n",
    "    remainingX.remove(i)\n",
    "    \n",
    "    X = data[remainingX].values\n",
    "    y_train, y_valid, y_test, y_train_valid = train_Frame['Yield'], valid_Frame['Yield'], test_Frame['Yield'], train_valid_Frame['Yield']\n",
    "    X_train, X_valid, X_test, X_train_valid = X[:numTrain, :], X[numTrain:-numTest, :], X[-numTest:, :], X[:-numTest, :]\n",
    "\n",
    "    \n",
    "    best_lr = 0.02\n",
    "    best_bs = 128\n",
    "    best_dr = 0.1\n",
    "\n",
    "    #Using best values\n",
    "\n",
    "    model = Sequential()\n",
    "    model.add(Dense(units=12, activation='sigmoid', input_dim=9))\n",
    "    model.add(Dropout(best_dr))\n",
    "    model.add(Dense(units=12, activation='sigmoid'))\n",
    "    model.add(Dense(units=6, activation='sigmoid'))\n",
    "    model.add(Dense(units=6, activation='sigmoid'))\n",
    "    model.add(Dense(units=1, activation='softplus'))\n",
    "\n",
    "    sgd = SGD(lr=best_lr)  \n",
    "    model.compile(loss='mean_squared_error', optimizer=sgd, metrics=['accuracy'])\n",
    "\n",
    "    model.fit(X_train_valid, y_train_valid, epochs=3000, batch_size=best_bs ,verbose=0)\n",
    "\n",
    "    # loss_and_metrics = model.evaluate(X_test, y_test,batch_size=best_bs)\n",
    "\n",
    "    y_pred = model.predict(X_test, batch_size=best_bs)\n",
    "    y_pred = y_pred.flatten()\n",
    "    \n",
    "    error = metrics.mean_absolute_error(y_test, y_pred)\n",
    "    diff = np.absolute(y_test - y_pred)\n",
    "    stdev = np.std(diff)\n",
    "    \n",
    "    row = [[i, error, stdev]]\n",
    "    tempDf = pd.DataFrame(row, columns=['Param', 'MAE', 'STDAE'])\n",
    "    resultsFrame = pd.concat([resultsFrame, tempDf], ignore_index=True)\n",
    "##\n",
    "X = data[XLabels].values\n",
    "y_train, y_valid, y_test, y_train_valid = train_Frame['Yield'], valid_Frame['Yield'], test_Frame['Yield'], train_valid_Frame['Yield']\n",
    "X_train, X_valid, X_test, X_train_valid = X[:numTrain, :], X[numTrain:-numTest, :], X[-numTest:, :], X[:-numTest, :]\n",
    "\n",
    "\n",
    "kernels =  ['poly', 'rbf', 'linear']\n",
    "epsilons = [0.1,5,10, 20]\n",
    "Cs = [0.1,1,10, 20]\n",
    "gammas = ['scale', 'auto']\n",
    "errors = []\n",
    "\n",
    "for kern in kernels:\n",
    "    for ep in epsilons:\n",
    "        for C_ in Cs:\n",
    "            for gam in gammas:\n",
    "                svrModel = SVR(kernel=kern, gamma=gam, epsilon=ep, cache_size=2000, C=C_)\n",
    "#                 svrModel.fit(X_train, y_train, sample_weight=train_weights)\n",
    "                svrModel.fit(X_train, y_train)\n",
    "                y_pred = svrModel.predict(X_valid)\n",
    "                error =  metrics.mean_absolute_error(y_valid, y_pred)\n",
    "                errors.append(error)\n",
    "\n",
    "\n",
    "index_of_lowest_error = np.argmin(errors)\n",
    "print(\"Lowest Error In Validation _MSE_ \", np.min(errors))\n",
    "\n",
    "best_kernel = kernels[int(index_of_lowest_error / (len(epsilons) * len(Cs) * len(gammas)))] #Good\n",
    "best_ep = epsilons[int((index_of_lowest_error % (len(epsilons) *len(Cs) * len(gammas)))/(len(Cs) *len(gammas)))] #Good\n",
    "best_C = Cs[int((index_of_lowest_error % (len(Cs) * len(gammas)))/len(gammas))] #Good \n",
    "best_gamma = gammas[int(index_of_lowest_error % len(gammas))]\n",
    "\n",
    "#     print(\"Best kernel is: \", best_kernel)\n",
    "#     print(\"Best Epsilon is: \", best_ep)\n",
    "#     print(\"Best C is: \", best_C)\n",
    "#     print(\"Best Gamma is: \", best_gamma)\n",
    "\n",
    "\n",
    "\n",
    "best_model = SVR(kernel=best_kernel, gamma=best_gamma, epsilon=best_ep, cache_size=2000, C=best_C)\n",
    "# best_model.fit(X_train_valid, y_train_valid, sample_weight=train_valid_weights)\n",
    "best_model.fit(X_train_valid, y_train_valid)\n",
    "y_pred = best_model.predict(X_test)\n",
    "\n",
    "\n",
    "error = metrics.mean_absolute_error(y_test, y_pred)\n",
    "diff = np.absolute(y_test - y_pred)\n",
    "stdev = np.std(diff)\n",
    "\n",
    "row = [[\"Baseline\", error, stdev]]\n",
    "tempDf = pd.DataFrame(row, columns=['Param', 'MAE', 'STDAE'])\n",
    "resultsFrame = pd.concat([resultsFrame, tempDf], ignore_index=True)\n",
    "###\n",
    "        \n",
    "\n",
    "resultsFrame.to_csv(\"NNparaemtersWithoutRoP.csv\")\n",
    "resultsFrame.plot(kind='bar', stacked=False, x='Param')\n",
    "\n",
    "    "
   ]
  },
  {
   "cell_type": "code",
   "execution_count": 5,
   "metadata": {
    "ExecuteTime": {
     "end_time": "2019-05-22T21:38:55.814104Z",
     "start_time": "2019-05-22T21:37:49.260162Z"
    }
   },
   "outputs": [
    {
     "name": "stdout",
     "output_type": "stream",
     "text": [
      "Ro\n",
      "LogRo\n",
      "P\n",
      "LogP\n"
     ]
    },
    {
     "data": {
      "text/plain": [
       "<matplotlib.axes._subplots.AxesSubplot at 0x277714c7a58>"
      ]
     },
     "execution_count": 5,
     "metadata": {},
     "output_type": "execute_result"
    },
    {
     "data": {
      "image/png": "[encoded data removed]",
      "text/plain": [
       "<Figure size 432x288 with 1 Axes>"
      ]
     },
     "metadata": {
      "needs_background": "light"
     },
     "output_type": "display_data"
    }
   ],
   "source": [
    "#SVR\n",
    "\n",
    "resultsFrame = pd.DataFrame(columns=['Param', 'MAE', 'STDAE'])\n",
    "\n",
    "for i in ['Ro', 'LogRo', 'P', 'LogP']:\n",
    "    print(i)\n",
    "    remainingX = XLabels.copy()\n",
    "    remainingX.append(i)\n",
    "#     print(remainingX)\n",
    "    \n",
    "\n",
    "    \n",
    "    X = data[remainingX].values\n",
    "    y_train, y_valid, y_test, y_train_valid = train_Frame['Yield'], valid_Frame['Yield'], test_Frame['Yield'], train_valid_Frame['Yield']\n",
    "    X_train, X_valid, X_test, X_train_valid = X[:numTrain, :], X[numTrain:-numTest, :], X[-numTest:, :], X[:-numTest, :]\n",
    "\n",
    "    \n",
    "    best_lr = 0.02\n",
    "    best_bs = 128\n",
    "    best_dr = 0.1\n",
    "\n",
    "    #Using best values\n",
    "\n",
    "    model = Sequential()\n",
    "    model.add(Dense(units=12, activation='sigmoid', input_dim=10))\n",
    "    model.add(Dropout(best_dr))\n",
    "    model.add(Dense(units=12, activation='sigmoid'))\n",
    "    model.add(Dense(units=6, activation='sigmoid'))\n",
    "    model.add(Dense(units=6, activation='sigmoid'))\n",
    "    model.add(Dense(units=1, activation='softplus'))\n",
    "\n",
    "    sgd = SGD(lr=best_lr)  \n",
    "    model.compile(loss='mean_squared_error', optimizer=sgd, metrics=['accuracy'])\n",
    "\n",
    "    model.fit(X_train_valid, y_train_valid, epochs=3000, batch_size=best_bs ,verbose=0)\n",
    "\n",
    "    # loss_and_metrics = model.evaluate(X_test, y_test,batch_size=best_bs)\n",
    "\n",
    "    y_pred = model.predict(X_test, batch_size=best_bs)\n",
    "    y_pred = y_pred.flatten()\n",
    "\n",
    "    \n",
    "    error = metrics.mean_absolute_error(y_test, y_pred)\n",
    "    diff = np.absolute(y_test - y_pred)\n",
    "    stdev = np.std(diff)\n",
    "    \n",
    "    row = [[i, error, stdev]]\n",
    "    tempDf = pd.DataFrame(row, columns=['Param', 'MAE', 'STDAE'])\n",
    "    resultsFrame = pd.concat([resultsFrame, tempDf], ignore_index=True)\n",
    "\n",
    "resultsFrame.to_csv(\"NNparaemtersWithRoP.csv\")\n",
    "resultsFrame.plot(kind='bar', stacked=False, x='Param')\n",
    "\n",
    "    "
   ]
  },
  {
   "cell_type": "code",
   "execution_count": null,
   "metadata": {},
   "outputs": [],
   "source": []
  }
 ],
 "metadata": {
  "kernelspec": {
   "display_name": "Python 3",
   "language": "python",
   "name": "python3"
  },
  "language_info": {
   "codemirror_mode": {
    "name": "ipython",
    "version": 3
   },
   "file_extension": ".py",
   "mimetype": "text/x-python",
   "name": "python",
   "nbconvert_exporter": "python",
   "pygments_lexer": "ipython3",
   "version": "3.6.6"
  }
 },
 "nbformat": 4,
 "nbformat_minor": 2
}
